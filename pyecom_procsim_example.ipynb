{
 "cells": [
  {
   "cell_type": "code",
   "execution_count": 1,
   "metadata": {
    "collapsed": true,
    "ExecuteTime": {
     "end_time": "2023-07-29T04:17:32.959029100Z",
     "start_time": "2023-07-29T04:17:32.683244600Z"
    }
   },
   "outputs": [],
   "source": [
    "# Imports\n",
    "\n",
    "from src.resources import Generator, Load, Storage, Vehicle, BinaryResource\n",
    "from src.parsers import HMParser, PROCSIMParser\n",
    "from src.scenes import HMProblemScene\n",
    "\n",
    "import numpy as np"
   ]
  },
  {
   "cell_type": "code",
   "execution_count": 2,
   "outputs": [],
   "source": [
    "# PROCSIM data\n",
    "\n",
    "procsim_data = PROCSIMParser('data/procsim/netload.csv')\n",
    "procsim_data.parse()\n",
    "\n",
    "# Resample the data to match the HM format\n",
    "gen_resampled = procsim_data.generator.resample('1H').mean()\n",
    "gen_resampled = np.reshape(gen_resampled, (1, len(gen_resampled)))\n",
    "\n",
    "load_resampled = procsim_data.load.resample('1H').mean()\n",
    "load_resampled = np.reshape(load_resampled, (1, len(load_resampled)))"
   ],
   "metadata": {
    "collapsed": false,
    "ExecuteTime": {
     "end_time": "2023-07-29T04:17:33.671112600Z",
     "start_time": "2023-07-29T04:17:33.654487700Z"
    }
   }
  },
  {
   "cell_type": "code",
   "execution_count": 3,
   "outputs": [],
   "source": [
    "# HM data to complete the problem formulation\n",
    "\n",
    "data = HMParser('data/EC_V4.xlsx', ec_id=1)\n",
    "data.parse()"
   ],
   "metadata": {
    "collapsed": false,
    "ExecuteTime": {
     "end_time": "2023-07-29T04:17:34.926821600Z",
     "start_time": "2023-07-29T04:17:34.160814400Z"
    }
   }
  },
  {
   "cell_type": "code",
   "execution_count": 4,
   "outputs": [],
   "source": [
    "# Define generators - notice that in this case we only have 1 generator\n",
    "\n",
    "gens = Generator(name='gens',\n",
    "                 value=np.zeros(gen_resampled.shape),\n",
    "                 lower_bound=np.zeros(gen_resampled.shape),\n",
    "                 upper_bound=gen_resampled,\n",
    "                 cost=data.generator['cost_parameter_b'][0, :],\n",
    "                 cost_nde=data.generator['cost_nde'][0, :],\n",
    "                 is_renewable=np.reshape(data.generator['type_generator'][0], (1, 1)))"
   ],
   "metadata": {
    "collapsed": false,
    "ExecuteTime": {
     "end_time": "2023-07-29T04:17:34.940610100Z",
     "start_time": "2023-07-29T04:17:34.928232500Z"
    }
   }
  },
  {
   "cell_type": "code",
   "execution_count": 5,
   "outputs": [],
   "source": [
    "# Define loads - same as above, only 1 load\n",
    "\n",
    "loads = Load(name='loads',\n",
    "             value=load_resampled,\n",
    "             lower_bound=np.zeros(load_resampled.shape),\n",
    "             upper_bound=load_resampled,\n",
    "             cost=np.ones(load_resampled.shape),\n",
    "             cost_cut=data.load['cost_cut'][0, :],\n",
    "             cost_reduce=data.load['cost_reduce'][0, :],\n",
    "             cost_ens=data.load['cost_ens'][0, :])"
   ],
   "metadata": {
    "collapsed": false,
    "ExecuteTime": {
     "end_time": "2023-07-29T04:17:36.258317Z",
     "start_time": "2023-07-29T04:17:36.246577800Z"
    }
   }
  },
  {
   "cell_type": "code",
   "execution_count": 6,
   "outputs": [],
   "source": [
    "# Define storage\n",
    "\n",
    "stor = Storage(name='stor',\n",
    "               value=np.zeros(data.storage['p_charge_limit'].shape),\n",
    "               lower_bound=np.zeros(data.storage['p_charge_limit'].shape),\n",
    "               upper_bound=(data.storage['energy_capacity'] *\n",
    "                            np.ones(data.storage['p_charge_limit'].shape).transpose()).transpose(),\n",
    "               cost=np.ones(data.storage['p_charge_limit'].shape),\n",
    "               cost_discharge=data.storage['discharge_price'],\n",
    "               cost_charge=data.storage['charge_price'],\n",
    "               capacity_max=data.storage['energy_capacity'],\n",
    "               capacity_min=data.storage['energy_min_percentage'],\n",
    "               initial_charge=data.storage['initial_state'],\n",
    "               discharge_efficiency=data.storage['discharge_efficiency'],\n",
    "               discharge_max=data.storage['p_discharge_limit'],\n",
    "               charge_efficiency=data.storage['charge_efficiency'],\n",
    "               charge_max=data.storage['p_charge_limit'],\n",
    "               capital_cost=np.array([0.05250, 0.10500, 0.01575]))"
   ],
   "metadata": {
    "collapsed": false,
    "ExecuteTime": {
     "end_time": "2023-07-29T04:17:36.726912800Z",
     "start_time": "2023-07-29T04:17:36.702783400Z"
    }
   }
  },
  {
   "cell_type": "code",
   "execution_count": 7,
   "outputs": [],
   "source": [
    "# Define vehicle to grid\n",
    "\n",
    "v2g = Vehicle(name='evs',\n",
    "              value=np.zeros(data.vehicle['schedule_charge'].shape),\n",
    "              lower_bound=(data.vehicle['e_capacity_max'] * data.vehicle['min_technical_soc'] *\n",
    "                           np.ones(data.vehicle['schedule_charge'].shape).transpose()).transpose(),\n",
    "              upper_bound=(data.vehicle['e_capacity_max'] * np.ones(data.vehicle['schedule_charge'].shape).transpose()).transpose(),\n",
    "              cost=np.ones(data.vehicle['schedule_charge'].shape),\n",
    "              cost_discharge=data.vehicle['discharge_price'][:, 0],\n",
    "              cost_charge=data.vehicle['charge_price'][:, 0],\n",
    "              capacity_max=data.vehicle['e_capacity_max'],\n",
    "              initial_charge=np.ones(data.vehicle['schedule_charge'].shape) * 0.8,\n",
    "              min_charge=data.vehicle['min_technical_soc'],\n",
    "              discharge_efficiency=data.vehicle['discharge_efficiency'],\n",
    "              charge_efficiency=data.vehicle['charge_efficiency'],\n",
    "              capital_cost=np.array([0.042, 0.063, 0.042, 0.042, 0.063]),\n",
    "              schedule_discharge=data.vehicle['schedule_discharge'],\n",
    "              schedule_charge=data.vehicle['schedule_charge'])"
   ],
   "metadata": {
    "collapsed": false,
    "ExecuteTime": {
     "end_time": "2023-07-29T04:17:37.169008400Z",
     "start_time": "2023-07-29T04:17:37.159256600Z"
    }
   }
  },
  {
   "cell_type": "code",
   "execution_count": 8,
   "outputs": [],
   "source": [
    "# Define imports and exports\n",
    "\n",
    "pimp = BinaryResource(name='pImp',\n",
    "                      value=np.zeros(data.peers['import_contracted_p_max'][0, :].shape),\n",
    "                      lower_bound=np.zeros(data.peers['import_contracted_p_max'][0, :].shape),\n",
    "                      upper_bound=data.peers['import_contracted_p_max'][0, :],\n",
    "                      cost=data.peers['buy_price'][0, :],\n",
    "                      is_active=np.zeros(data.peers['import_contracted_p_max'][0, :].shape))\n",
    "\n",
    "pexp = BinaryResource(name='pExp',\n",
    "                      value=np.zeros(data.peers['export_contracted_p_max'][0, :].shape),\n",
    "                      lower_bound=np.zeros(data.peers['export_contracted_p_max'][0, :].shape),\n",
    "                      upper_bound=data.peers['export_contracted_p_max'][0, :],\n",
    "                      cost=data.peers['sell_price'][0, :],\n",
    "                      is_active=np.zeros(data.peers['export_contracted_p_max'][0, :].shape))"
   ],
   "metadata": {
    "collapsed": false,
    "ExecuteTime": {
     "end_time": "2023-07-29T04:17:37.544769400Z",
     "start_time": "2023-07-29T04:17:37.528639300Z"
    }
   }
  },
  {
   "cell_type": "code",
   "execution_count": 9,
   "outputs": [],
   "source": [
    "ec_components = {'gen': gens,\n",
    "                 'loads': loads,\n",
    "                 'stor': stor,\n",
    "                 'evs': v2g,\n",
    "                 'pimp': pimp,\n",
    "                 'pexp': pexp}"
   ],
   "metadata": {
    "collapsed": false,
    "ExecuteTime": {
     "end_time": "2023-07-29T04:17:38.755164600Z",
     "start_time": "2023-07-29T04:17:38.744974600Z"
    }
   }
  },
  {
   "cell_type": "code",
   "execution_count": 10,
   "outputs": [
    {
     "name": "stderr",
     "output_type": "stream",
     "text": [
      "100%|██████████| 200/200 [00:04<00:00, 44.74it/s]\n"
     ]
    }
   ],
   "source": [
    "# Create the scene\n",
    "\n",
    "scene = HMProblemScene(name='EC1', data=ec_components, hm_parser=data)\n",
    "scene.initialize()\n",
    "scene.run()"
   ],
   "metadata": {
    "collapsed": false,
    "ExecuteTime": {
     "end_time": "2023-07-29T04:17:44.125076800Z",
     "start_time": "2023-07-29T04:17:39.612692100Z"
    }
   }
  },
  {
   "cell_type": "code",
   "execution_count": 11,
   "outputs": [
    {
     "data": {
      "text/plain": "array([[2.95039635e+03, 4.24825342e+01, 1.02672836e+02, ...,\n        1.00000000e+00, 1.00000000e+00, 1.00000000e+00],\n       [0.00000000e+00, 0.00000000e+00, 4.49300109e+01, ...,\n        1.00000000e+00, 1.00000000e+00, 1.00000000e+00],\n       [1.89162146e+02, 1.42628422e+03, 1.61317866e+01, ...,\n        1.00000000e+00, 1.00000000e+00, 1.00000000e+00],\n       ...,\n       [2.04970420e+03, 0.00000000e+00, 1.22974059e+02, ...,\n        1.00000000e+00, 1.00000000e+00, 1.00000000e+00],\n       [2.59408655e+03, 5.56791690e+02, 9.07635512e+01, ...,\n        1.00000000e+00, 1.00000000e+00, 1.00000000e+00],\n       [2.62153366e+03, 0.00000000e+00, 9.77587716e+01, ...,\n        1.00000000e+00, 1.00000000e+00, 1.00000000e+00]])"
     },
     "execution_count": 11,
     "metadata": {},
     "output_type": "execute_result"
    }
   ],
   "source": [
    "# Population\n",
    "\n",
    "scene.algo.population"
   ],
   "metadata": {
    "collapsed": false,
    "ExecuteTime": {
     "end_time": "2023-07-29T04:17:56.449896700Z",
     "start_time": "2023-07-29T04:17:56.435440100Z"
    }
   }
  },
  {
   "cell_type": "code",
   "execution_count": null,
   "outputs": [],
   "source": [],
   "metadata": {
    "collapsed": false
   }
  }
 ],
 "metadata": {
  "kernelspec": {
   "display_name": "Python 3",
   "language": "python",
   "name": "python3"
  },
  "language_info": {
   "codemirror_mode": {
    "name": "ipython",
    "version": 2
   },
   "file_extension": ".py",
   "mimetype": "text/x-python",
   "name": "python",
   "nbconvert_exporter": "python",
   "pygments_lexer": "ipython2",
   "version": "2.7.6"
  }
 },
 "nbformat": 4,
 "nbformat_minor": 0
}

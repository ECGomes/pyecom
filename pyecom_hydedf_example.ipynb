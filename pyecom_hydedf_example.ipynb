{
 "cells": [
  {
   "cell_type": "code",
   "execution_count": 1,
   "metadata": {
    "collapsed": true,
    "ExecuteTime": {
     "end_time": "2023-07-28T17:17:14.564162200Z",
     "start_time": "2023-07-28T17:17:14.040582800Z"
    }
   },
   "outputs": [],
   "source": [
    "#  Imports\n",
    "from src.parsers import HMParser\n",
    "from src.resources import BinaryResource, Generator, Load, Storage, Vehicle\n",
    "from src.scenes import HMProblemScene\n",
    "\n",
    "import numpy as np\n",
    "import pandas as pd\n",
    "import matplotlib.pyplot as plt\n",
    "\n",
    "# Ignore the warnings (only demonstration purposes!)\n",
    "import warnings\n",
    "warnings.filterwarnings(\"ignore\")"
   ]
  },
  {
   "cell_type": "code",
   "execution_count": 2,
   "outputs": [],
   "source": [
    "# Data parsing\n",
    "\n",
    "data = HMParser(file_path='data/EC_V4.xlsx', ec_id=1)\n",
    "data.parse()"
   ],
   "metadata": {
    "collapsed": false,
    "ExecuteTime": {
     "end_time": "2023-07-28T17:17:15.819515600Z",
     "start_time": "2023-07-28T17:17:15.084867Z"
    }
   }
  },
  {
   "cell_type": "code",
   "execution_count": 3,
   "outputs": [],
   "source": [
    "# Define generators\n",
    "\n",
    "gens = Generator(name='gens',\n",
    "                 value=np.zeros(data.generator['p_forecast'].shape),\n",
    "                 lower_bound=np.zeros(data.generator['p_forecast'].shape),\n",
    "                 upper_bound=data.generator['p_forecast'],\n",
    "                 cost=data.generator['cost_parameter_b'],\n",
    "                 cost_nde=data.generator['cost_nde'],\n",
    "                 is_renewable=data.generator['type_generator'])"
   ],
   "metadata": {
    "collapsed": false,
    "ExecuteTime": {
     "end_time": "2023-07-28T17:17:16.392291300Z",
     "start_time": "2023-07-28T17:17:16.379548600Z"
    }
   }
  },
  {
   "cell_type": "code",
   "execution_count": 4,
   "outputs": [],
   "source": [
    "# Define loads\n",
    "\n",
    "loads = Load(name='loads',\n",
    "             value=data.load['p_forecast'],\n",
    "             lower_bound=np.zeros(data.load['p_forecast'].shape),\n",
    "             upper_bound=data.load['p_forecast'],\n",
    "             cost=np.ones(data.load['p_forecast'].shape),\n",
    "             cost_cut=data.load['cost_cut'],\n",
    "             cost_reduce=data.load['cost_reduce'],\n",
    "             cost_ens=data.load['cost_ens'])"
   ],
   "metadata": {
    "collapsed": false,
    "ExecuteTime": {
     "end_time": "2023-07-28T17:17:17.032244200Z",
     "start_time": "2023-07-28T17:17:17.021037900Z"
    }
   }
  },
  {
   "cell_type": "code",
   "execution_count": 5,
   "outputs": [],
   "source": [
    "# Define storage\n",
    "\n",
    "stor = Storage(name='stor',\n",
    "               value=np.zeros(data.storage['p_charge_limit'].shape),\n",
    "               lower_bound=np.zeros(data.storage['p_charge_limit'].shape),\n",
    "               upper_bound=(data.storage['energy_capacity'] *\n",
    "                            np.ones(data.storage['p_charge_limit'].shape).transpose()).transpose(),\n",
    "               cost=np.ones(data.storage['p_charge_limit'].shape),\n",
    "               cost_discharge=data.storage['discharge_price'],\n",
    "               cost_charge=data.storage['charge_price'],\n",
    "               capacity_max=data.storage['energy_capacity'],\n",
    "               initial_charge=data.storage['initial_state'],\n",
    "               discharge_efficiency=data.storage['discharge_efficiency'],\n",
    "               discharge_max=data.storage['p_discharge_limit'],\n",
    "               charge_efficiency=data.storage['charge_efficiency'],\n",
    "               charge_max=data.storage['p_charge_limit'],\n",
    "               capital_cost=np.array([0.05250, 0.10500, 0.01575]))"
   ],
   "metadata": {
    "collapsed": false,
    "ExecuteTime": {
     "end_time": "2023-07-28T17:17:17.538088300Z",
     "start_time": "2023-07-28T17:17:17.518421800Z"
    }
   }
  },
  {
   "cell_type": "code",
   "execution_count": 6,
   "outputs": [],
   "source": [
    "# Define vehicle to grid\n",
    "\n",
    "v2g = Vehicle(name='evs',\n",
    "              value=np.zeros(data.vehicle['schedule_charge'].shape),\n",
    "              lower_bound=(data.vehicle['e_capacity_max'] * data.vehicle['min_technical_soc'] *\n",
    "                           np.ones(data.vehicle['schedule_charge'].shape).transpose()).transpose(),\n",
    "              upper_bound=(data.vehicle['e_capacity_max'] * np.ones(data.vehicle['schedule_charge'].shape).transpose()).transpose(),\n",
    "              cost=np.ones(data.vehicle['schedule_charge'].shape),\n",
    "              cost_discharge=data.vehicle['discharge_price'][:, 0],\n",
    "              cost_charge=data.vehicle['charge_price'][:, 0],\n",
    "              capacity_max=data.vehicle['e_capacity_max'],\n",
    "              initial_charge=np.ones(data.vehicle['schedule_charge'].shape) * 0.8,\n",
    "              min_charge=data.vehicle['min_technical_soc'],\n",
    "              discharge_efficiency=data.vehicle['discharge_efficiency'],\n",
    "              charge_efficiency=data.vehicle['charge_efficiency'],\n",
    "              capital_cost=np.array([0.042, 0.063, 0.042, 0.042, 0.063]),\n",
    "              schedule_discharge=data.vehicle['schedule_discharge'],\n",
    "              schedule_charge=data.vehicle['schedule_charge'])"
   ],
   "metadata": {
    "collapsed": false,
    "ExecuteTime": {
     "end_time": "2023-07-28T17:17:17.891412400Z",
     "start_time": "2023-07-28T17:17:17.883993700Z"
    }
   }
  },
  {
   "cell_type": "code",
   "execution_count": 7,
   "outputs": [],
   "source": [
    "# Define imports and exports\n",
    "\n",
    "pimp = BinaryResource(name='pImp',\n",
    "                      value=np.zeros(data.peers['import_contracted_p_max'][0, :].shape),\n",
    "                      lower_bound=np.zeros(data.peers['import_contracted_p_max'][0, :].shape),\n",
    "                      upper_bound=data.peers['import_contracted_p_max'][0, :],\n",
    "                      cost=data.peers['buy_price'][0, :],\n",
    "                      is_active=np.zeros(data.peers['import_contracted_p_max'][0, :].shape))\n",
    "\n",
    "pexp = BinaryResource(name='pExp',\n",
    "                      value=np.zeros(data.peers['export_contracted_p_max'][0, :].shape),\n",
    "                      lower_bound=np.zeros(data.peers['export_contracted_p_max'][0, :].shape),\n",
    "                      upper_bound=data.peers['export_contracted_p_max'][0, :],\n",
    "                      cost=data.peers['sell_price'][0, :],\n",
    "                      is_active=np.zeros(data.peers['export_contracted_p_max'][0, :].shape))"
   ],
   "metadata": {
    "collapsed": false,
    "ExecuteTime": {
     "end_time": "2023-07-28T17:17:18.321171200Z",
     "start_time": "2023-07-28T17:17:18.315956900Z"
    }
   }
  },
  {
   "cell_type": "code",
   "execution_count": 8,
   "outputs": [],
   "source": [
    "ec_components = {'gen': gens,\n",
    "                 'loads': loads,\n",
    "                 'stor': stor,\n",
    "                 'evs': v2g,\n",
    "                 'pimp': pimp,\n",
    "                 'pexp': pexp}"
   ],
   "metadata": {
    "collapsed": false,
    "ExecuteTime": {
     "end_time": "2023-07-28T17:17:18.704928300Z",
     "start_time": "2023-07-28T17:17:18.688712600Z"
    }
   }
  },
  {
   "cell_type": "code",
   "execution_count": 9,
   "outputs": [
    {
     "data": {
      "text/plain": "{'gen': gens,\n 'loads': loads,\n 'stor': stor,\n 'evs': evs,\n 'pimp': pImp,\n 'pexp': pExp}"
     },
     "execution_count": 9,
     "metadata": {},
     "output_type": "execute_result"
    }
   ],
   "source": [
    "ec_components"
   ],
   "metadata": {
    "collapsed": false,
    "ExecuteTime": {
     "end_time": "2023-07-28T17:17:19.065757800Z",
     "start_time": "2023-07-28T17:17:19.025682300Z"
    }
   }
  },
  {
   "cell_type": "code",
   "execution_count": 10,
   "outputs": [
    {
     "name": "stderr",
     "output_type": "stream",
     "text": [
      "100%|██████████| 200/200 [00:05<00:00, 37.98it/s]\n"
     ]
    }
   ],
   "source": [
    "# Create the scene\n",
    "\n",
    "scene = HMProblemScene(name='EC1', data=ec_components, hm_parser=data)\n",
    "scene.initialize()\n",
    "scene.run()"
   ],
   "metadata": {
    "collapsed": false,
    "ExecuteTime": {
     "end_time": "2023-07-28T17:17:24.781747700Z",
     "start_time": "2023-07-28T17:17:19.474649300Z"
    }
   }
  },
  {
   "cell_type": "code",
   "execution_count": 12,
   "outputs": [
    {
     "data": {
      "text/plain": "array([[0., 0., 0., ..., 1., 1., 1.],\n       [0., 0., 0., ..., 1., 1., 1.],\n       [0., 0., 0., ..., 1., 1., 1.],\n       ...,\n       [0., 0., 0., ..., 1., 1., 1.],\n       [0., 0., 0., ..., 1., 1., 1.],\n       [0., 0., 0., ..., 1., 1., 1.]])"
     },
     "execution_count": 12,
     "metadata": {},
     "output_type": "execute_result"
    }
   ],
   "source": [
    "# Check the population\n",
    "\n",
    "scene.algo.population"
   ],
   "metadata": {
    "collapsed": false,
    "ExecuteTime": {
     "end_time": "2023-07-28T17:17:41.800634200Z",
     "start_time": "2023-07-28T17:17:41.797286300Z"
    }
   }
  },
  {
   "cell_type": "code",
   "execution_count": null,
   "outputs": [],
   "source": [],
   "metadata": {
    "collapsed": false
   }
  }
 ],
 "metadata": {
  "kernelspec": {
   "display_name": "Python 3",
   "language": "python",
   "name": "python3"
  },
  "language_info": {
   "codemirror_mode": {
    "name": "ipython",
    "version": 2
   },
   "file_extension": ".py",
   "mimetype": "text/x-python",
   "name": "python",
   "nbconvert_exporter": "python",
   "pygments_lexer": "ipython2",
   "version": "2.7.6"
  }
 },
 "nbformat": 4,
 "nbformat_minor": 0
}

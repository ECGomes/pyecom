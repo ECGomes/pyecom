{
 "cells": [
  {
   "cell_type": "code",
   "execution_count": 1,
   "metadata": {
    "collapsed": true
   },
   "outputs": [
    {
     "name": "stderr",
     "output_type": "stream",
     "text": [
      "2023-10-09 16:34:33,425\tWARNING deprecation.py:50 -- DeprecationWarning: `DirectStepOptimizer` has been deprecated. This will raise an error in the future!\n"
     ]
    }
   ],
   "source": [
    "# Imports\n",
    "\n",
    "import matplotlib.pyplot as plt\n",
    "import pandas as pd\n",
    "\n",
    "from src.algorithms.rl import EnergyCommunitySingleEnv_v0"
   ]
  },
  {
   "cell_type": "code",
   "execution_count": 2,
   "outputs": [],
   "source": [
    "# Use rllib to handle the training\n",
    "\n",
    "import os\n",
    "import ray\n",
    "from ray.tune.registry import register_env\n",
    "from ray.rllib.algorithms.ppo import PPOConfig\n",
    "from ray.rllib.algorithms.impala import ImpalaConfig\n",
    "from ray import tune\n",
    "\n",
    "register_env(\"EC_Single\", lambda config: EnergyCommunitySingleEnv_v0())"
   ],
   "metadata": {
    "collapsed": false,
    "ExecuteTime": {
     "end_time": "2023-10-09T15:34:35.576761Z",
     "start_time": "2023-10-09T15:34:35.520033500Z"
    }
   }
  },
  {
   "cell_type": "code",
   "execution_count": 3,
   "outputs": [
    {
     "name": "stdout",
     "output_type": "stream",
     "text": [
      "Reward: -4.1723236\n",
      "Reward: -6.090446345003244\n",
      "Reward: -22.483800644328234\n",
      "Reward: -4.078525480103368\n",
      "Reward: -2.590025538161392\n",
      "Reward: -4.039913474213088\n",
      "Reward: -4.6633847871804255\n",
      "Reward: -24.543053571577914\n",
      "Reward: -4.974147530964156\n",
      "Reward: -51.89049012144\n",
      "Reward: -6.090803105289283\n",
      "Reward: 13.806411004356637\n",
      "Reward: -26.163440097377666\n",
      "Reward: -6.8912297315295445\n",
      "Reward: 15.11082133209497\n",
      "Reward: -6.2056700551021216\n",
      "Reward: 15.562105134078461\n",
      "Reward: -5.15078285775512\n",
      "Reward: -70.04863578472\n",
      "Reward: -50.461328846216205\n",
      "Reward: -72.40032776832581\n",
      "Reward: -7.949111763168334\n",
      "Reward: -71.79919721126556\n",
      "Reward: -25.098481932045516\n",
      "Reward: 0.0\n"
     ]
    }
   ],
   "source": [
    "temp_env = EnergyCommunitySingleEnv_v0()\n",
    "temp_done = False\n",
    "temp_env.reset()\n",
    "while not temp_done:\n",
    "    action = temp_env.action_space.sample()\n",
    "    observations, rewards, temp_done, infos = temp_env.step(action)\n",
    "    #print('Observation: {}'.format(observations))\n",
    "    print('Reward: {}'.format(rewards))\n",
    "    #print('Infos: {}\\n'.format(infos))"
   ],
   "metadata": {
    "collapsed": false,
    "ExecuteTime": {
     "end_time": "2023-10-09T15:34:38.973482200Z",
     "start_time": "2023-10-09T15:34:38.939878900Z"
    }
   }
  },
  {
   "cell_type": "code",
   "execution_count": 5,
   "outputs": [
    {
     "name": "stderr",
     "output_type": "stream",
     "text": [
      "2023-10-09 16:35:22,068\tINFO worker.py:1642 -- Started a local Ray instance.\n",
      "2023-10-09 16:35:24,808\tWARNING algorithm_config.py:2578 -- Setting `exploration_config={}` because you set `_enable_rl_module_api=True`. When RLModule API are enabled, exploration_config can not be set. If you want to implement custom exploration behaviour, please modify the `forward_exploration` method of the RLModule at hand. On configs that have a default exploration config, this must be done with `config.exploration_config={}`.\n",
      "2023-10-09 16:35:24,809\tWARNING algorithm_config.py:2578 -- Setting `exploration_config={}` because you set `_enable_rl_module_api=True`. When RLModule API are enabled, exploration_config can not be set. If you want to implement custom exploration behaviour, please modify the `forward_exploration` method of the RLModule at hand. On configs that have a default exploration config, this must be done with `config.exploration_config={}`.\n",
      "C:\\Users\\camar\\DataspellProjects\\phd_thesis\\pyecom\\venv\\lib\\site-packages\\ray\\rllib\\algorithms\\algorithm.py:484: RayDeprecationWarning: This API is deprecated and may be removed in future Ray releases. You could suppress this warning by setting env variable PYTHONWARNINGS=\"ignore::DeprecationWarning\"\n",
      "`UnifiedLogger` will be removed in Ray 2.7.\n",
      "  return UnifiedLogger(config, logdir, loggers=None)\n",
      "C:\\Users\\camar\\DataspellProjects\\phd_thesis\\pyecom\\venv\\lib\\site-packages\\ray\\tune\\logger\\unified.py:53: RayDeprecationWarning: This API is deprecated and may be removed in future Ray releases. You could suppress this warning by setting env variable PYTHONWARNINGS=\"ignore::DeprecationWarning\"\n",
      "The `JsonLogger interface is deprecated in favor of the `ray.tune.json.JsonLoggerCallback` interface and will be removed in Ray 2.7.\n",
      "  self._loggers.append(cls(self.config, self.logdir, self.trial))\n",
      "C:\\Users\\camar\\DataspellProjects\\phd_thesis\\pyecom\\venv\\lib\\site-packages\\ray\\tune\\logger\\unified.py:53: RayDeprecationWarning: This API is deprecated and may be removed in future Ray releases. You could suppress this warning by setting env variable PYTHONWARNINGS=\"ignore::DeprecationWarning\"\n",
      "The `CSVLogger interface is deprecated in favor of the `ray.tune.csv.CSVLoggerCallback` interface and will be removed in Ray 2.7.\n",
      "  self._loggers.append(cls(self.config, self.logdir, self.trial))\n",
      "C:\\Users\\camar\\DataspellProjects\\phd_thesis\\pyecom\\venv\\lib\\site-packages\\ray\\tune\\logger\\unified.py:53: RayDeprecationWarning: This API is deprecated and may be removed in future Ray releases. You could suppress this warning by setting env variable PYTHONWARNINGS=\"ignore::DeprecationWarning\"\n",
      "The `TBXLogger interface is deprecated in favor of the `ray.tune.tensorboardx.TBXLoggerCallback` interface and will be removed in Ray 2.7.\n",
      "  self._loggers.append(cls(self.config, self.logdir, self.trial))\n",
      "2023-10-09 16:35:24,826\tINFO tensorboardx.py:48 -- pip install \"ray[tune]\" to see TensorBoard files.\n",
      "2023-10-09 16:35:24,827\tWARNING unified.py:56 -- Could not instantiate TBXLogger: cannot import name 'builder' from 'google.protobuf.internal' (C:\\Users\\camar\\DataspellProjects\\phd_thesis\\pyecom\\venv\\lib\\site-packages\\google\\protobuf\\internal\\__init__.py).\n",
      "\u001B[2m\u001B[36m(pid=27336)\u001B[0m DeprecationWarning: `DirectStepOptimizer` has been deprecated. This will raise an error in the future!\n",
      "\u001B[2m\u001B[36m(RolloutWorker pid=27336)\u001B[0m C:\\Users\\camar\\DataspellProjects\\phd_thesis\\pyecom\\venv\\lib\\site-packages\\gymnasium\\wrappers\\compatibility.py:67: DeprecationWarning: \u001B[33mWARN: The `gymnasium.make(..., apply_api_compatibility=...)` parameter is deprecated and will be removed in v0.29. Instead use `gym.make('GymV21Environment-v0', env_name=...)` or `from shimmy import GymV21CompatibilityV0`\u001B[0m\n",
      "\u001B[2m\u001B[36m(RolloutWorker pid=27336)\u001B[0m   logger.deprecation(\n"
     ]
    },
    {
     "name": "stdout",
     "output_type": "stream",
     "text": [
      "Iter: 0; avg. reward=nan\n",
      "Iter: 1; avg. reward=-569.8266155927828\n",
      "Iter: 2; avg. reward=-568.7457967331372\n",
      "Iter: 3; avg. reward=-521.7014941592729\n",
      "Iter: 4; avg. reward=-522.9034482023515\n",
      "Iter: 5; avg. reward=-523.050381234064\n",
      "Iter: 6; avg. reward=-521.7371825204532\n",
      "Iter: 7; avg. reward=-517.3832071464698\n",
      "Iter: 8; avg. reward=-513.7825264322803\n",
      "Iter: 9; avg. reward=-500.60005000113034\n",
      "Iter: 10; avg. reward=-502.4977441489635\n",
      "Iter: 11; avg. reward=-495.7379356774123\n",
      "Iter: 12; avg. reward=-496.11751841567525\n",
      "Iter: 13; avg. reward=-496.5004225347202\n",
      "Iter: 14; avg. reward=-495.44574419231037\n",
      "Iter: 15; avg. reward=-481.6715319873156\n",
      "Iter: 16; avg. reward=-480.48419253348357\n",
      "Iter: 17; avg. reward=-481.6850482648795\n",
      "Iter: 18; avg. reward=-478.7557560964026\n",
      "Iter: 19; avg. reward=-475.18592733867746\n",
      "Iter: 20; avg. reward=-476.1003984952107\n",
      "Iter: 21; avg. reward=-465.0992609793221\n",
      "Iter: 22; avg. reward=-464.5471424896861\n",
      "Iter: 23; avg. reward=-465.25930316764885\n",
      "Iter: 24; avg. reward=-452.0805304342858\n",
      "Iter: 25; avg. reward=-452.0805304342858\n",
      "Iter: 26; avg. reward=-449.6898394686794\n",
      "Iter: 27; avg. reward=-448.1704206020552\n",
      "Iter: 28; avg. reward=-444.9186201578494\n",
      "Iter: 29; avg. reward=-446.76253179507273\n",
      "Iter: 30; avg. reward=-440.0114875669198\n",
      "Iter: 31; avg. reward=-441.0472378254385\n",
      "Iter: 32; avg. reward=-429.3924861848671\n",
      "Iter: 33; avg. reward=-426.89052328247993\n",
      "Iter: 34; avg. reward=-426.2676944096526\n",
      "Iter: 35; avg. reward=-425.7290301399569\n",
      "Iter: 36; avg. reward=-412.6199826566174\n",
      "Iter: 37; avg. reward=-409.4188046201454\n",
      "Iter: 38; avg. reward=-402.7771671022289\n",
      "Iter: 39; avg. reward=-401.1805712964699\n",
      "Iter: 40; avg. reward=-389.2937285169964\n",
      "Iter: 41; avg. reward=-390.00168834404815\n",
      "Iter: 42; avg. reward=-378.9186835873006\n",
      "Iter: 43; avg. reward=-375.9003643012189\n",
      "Iter: 44; avg. reward=-369.60277660150024\n",
      "Iter: 45; avg. reward=-370.15466659813654\n",
      "Iter: 46; avg. reward=-359.24198491381946\n",
      "Iter: 47; avg. reward=-357.74684083766806\n",
      "Iter: 48; avg. reward=-352.2570103060386\n",
      "Iter: 49; avg. reward=-336.67618320464913\n",
      "Iter: 50; avg. reward=-336.67618320464913\n",
      "Iter: 51; avg. reward=-325.85018002892446\n",
      "Iter: 52; avg. reward=-324.761648564107\n",
      "Iter: 53; avg. reward=-321.33446239364827\n",
      "Iter: 54; avg. reward=-317.24660011567\n",
      "Iter: 55; avg. reward=-315.72459077465186\n",
      "Iter: 56; avg. reward=-312.5190839651402\n",
      "Iter: 57; avg. reward=-307.58969942419196\n",
      "Iter: 58; avg. reward=-308.9020915281869\n",
      "Iter: 59; avg. reward=-303.43380424935674\n",
      "Iter: 60; avg. reward=-302.8004627664453\n",
      "Iter: 61; avg. reward=-292.331362643269\n",
      "Iter: 62; avg. reward=-289.7126580275158\n",
      "Iter: 63; avg. reward=-280.7181941575222\n",
      "Iter: 64; avg. reward=-278.6505685237925\n",
      "Iter: 65; avg. reward=-266.79212178374\n",
      "Iter: 66; avg. reward=-266.3038867858993\n",
      "Iter: 67; avg. reward=-262.8785234541733\n",
      "Iter: 68; avg. reward=-260.8261374670649\n",
      "Iter: 69; avg. reward=-258.58538176393563\n",
      "Iter: 70; avg. reward=-257.04034537596215\n",
      "Iter: 71; avg. reward=-254.25684808407001\n",
      "Iter: 72; avg. reward=-254.67728828267093\n",
      "Iter: 73; avg. reward=-246.55915901241147\n",
      "Iter: 74; avg. reward=-240.454999386786\n",
      "Iter: 75; avg. reward=-240.454999386786\n",
      "Iter: 76; avg. reward=-241.31821772632932\n",
      "Iter: 77; avg. reward=-238.14477688379557\n",
      "Iter: 78; avg. reward=-226.78938480204212\n",
      "Iter: 79; avg. reward=-226.7927913661936\n",
      "Iter: 80; avg. reward=-225.99431565562256\n",
      "Iter: 81; avg. reward=-222.31622250152267\n",
      "Iter: 82; avg. reward=-220.3588015755886\n",
      "Iter: 83; avg. reward=-221.45740677463684\n",
      "Iter: 84; avg. reward=-221.15966849343988\n",
      "Iter: 85; avg. reward=-219.48933265838764\n",
      "Iter: 86; avg. reward=-210.08015012261458\n",
      "Iter: 87; avg. reward=-205.65902326819065\n",
      "Iter: 88; avg. reward=-200.47760728738322\n",
      "Iter: 89; avg. reward=-200.9024741381637\n",
      "Iter: 90; avg. reward=-194.76063157363893\n",
      "Iter: 91; avg. reward=-192.14083203792677\n",
      "Iter: 92; avg. reward=-184.5272084939595\n",
      "Iter: 93; avg. reward=-181.7796489189038\n",
      "Iter: 94; avg. reward=-176.60646705576627\n",
      "Iter: 95; avg. reward=-175.2968192381277\n",
      "Iter: 96; avg. reward=-170.52346234178128\n",
      "Iter: 97; avg. reward=-169.87283450690902\n",
      "Iter: 98; avg. reward=-169.05035660486206\n",
      "Iter: 99; avg. reward=-158.31956442699865\n",
      "Iter: 100; avg. reward=-158.31956442699865\n",
      "Iter: 101; avg. reward=-155.8760925819397\n",
      "Iter: 102; avg. reward=-155.34330640666533\n",
      "Iter: 103; avg. reward=-147.80987813355821\n",
      "Iter: 104; avg. reward=-145.97560311210938\n",
      "Iter: 105; avg. reward=-141.09391453313012\n",
      "Iter: 106; avg. reward=-140.07180466642276\n",
      "Iter: 107; avg. reward=-137.36826623745745\n",
      "Iter: 108; avg. reward=-138.92583399753684\n",
      "Iter: 109; avg. reward=-132.80221822839087\n",
      "Iter: 110; avg. reward=-132.32384081930007\n",
      "Iter: 111; avg. reward=-129.9911262172955\n",
      "Iter: 112; avg. reward=-129.58183453218456\n",
      "Iter: 113; avg. reward=-124.91896154034285\n",
      "Iter: 114; avg. reward=-122.81417884920313\n",
      "Iter: 115; avg. reward=-114.54778938321687\n",
      "Iter: 116; avg. reward=-113.49287296294467\n",
      "Iter: 117; avg. reward=-107.99933633395995\n",
      "Iter: 118; avg. reward=-106.8908398881128\n",
      "Iter: 119; avg. reward=-103.46161369244686\n",
      "Iter: 120; avg. reward=-102.68817744622844\n",
      "Iter: 121; avg. reward=-94.19373161359702\n",
      "checkpoints saved at None\n"
     ]
    }
   ],
   "source": [
    "# Create an RLlib Algorithm instance from a PPOConfig to learn how to\n",
    "# act in the above environment - using PPO\n",
    "\n",
    "ray.shutdown()\n",
    "ray.init() #num_cpus=2, num_gpus=0)\n",
    "\n",
    "config = (\n",
    "    PPOConfig()\n",
    "    .environment(env=EnergyCommunitySingleEnv_v0)\n",
    "    .training(\n",
    "        train_batch_size=128,\n",
    "        lr=2e-4,\n",
    "        gamma=0.99,\n",
    "        #use_critic=True,\n",
    "        #use_gae=True,\n",
    "        #shuffle_sequences=True\n",
    "        #clip_param=0.4,\n",
    "        #grad_clip=None,\n",
    "        #entropy_coeff=0.1,\n",
    "        #vf_loss_coeff=0.25,\n",
    "        #sgd_minibatch_size=64,\n",
    "        #num_sgd_iter=10,\n",
    "    )\n",
    "    .debugging(log_level='ERROR')\n",
    "    .framework('torch') #'tf2', eager_tracing=True)\n",
    "    .rollouts(num_rollout_workers=10)\n",
    "    .resources(num_gpus=1)#int(os.environ.get(\"RLLIB_NUM_GPUS\", \"0\")))\n",
    ")\n",
    "\n",
    "# Use the config's `build()` method to construct a PPO object.\n",
    "algo = config.build()\n",
    "\n",
    "# Train for n iterations and report results (mean episode rewards).\n",
    "checkpoint = None\n",
    "for i in range(500):\n",
    "    results = algo.train()\n",
    "    print(f\"Iter: {i}; avg. reward={results['episode_reward_mean']}\")\n",
    "\n",
    "    if results['episode_reward_mean'] > -100.0:\n",
    "        break\n",
    "\n",
    "    # Save the checkpoint to disk.\n",
    "    #checkpoint = algo.save()\n",
    "print(\"checkpoints saved at\", checkpoint)"
   ],
   "metadata": {
    "collapsed": false,
    "ExecuteTime": {
     "end_time": "2023-10-09T15:37:35.603647900Z",
     "start_time": "2023-10-09T15:35:17.664723500Z"
    }
   }
  },
  {
   "cell_type": "code",
   "execution_count": 7,
   "outputs": [
    {
     "data": {
      "text/plain": "{'iteration': 112,\n 'timesteps_total': None,\n 'time_total': 115.09191846847534,\n 'episodes_total': 570,\n 'last_result': {'custom_metrics': {},\n  'episode_media': {},\n  'info': {'learner': {'__all__': {'num_agent_steps_trained': 128.0,\n     'num_env_steps_trained': 128.0,\n     'total_loss': 8.230392662684123},\n    'default_policy': {'total_loss': 8.230392662684123,\n     'policy_loss': -0.17095382949337362,\n     'vf_loss': 8.343017546335856,\n     'vf_loss_unclipped': 3394.159464518229,\n     'vf_explained_var': 0.27311816612879436,\n     'entropy': 21.348242568969727,\n     'mean_kl_loss': 0.017069295626909783,\n     'default_optimizer_lr': 0.00019999999999999996,\n     'curr_lr': 0.0002,\n     'curr_entropy_coeff': 0.0,\n     'curr_kl_coeff': 3.4171876907348633}},\n   'num_env_steps_sampled': 14336,\n   'num_env_steps_trained': 0,\n   'num_agent_steps_sampled': 14336,\n   'num_agent_steps_trained': 0},\n  'sampler_results': {'episode_reward_max': 29.38366672583742,\n   'episode_reward_min': -275.75255652450926,\n   'episode_reward_mean': -97.51885143425093,\n   'episode_len_mean': 25.0,\n   'episode_media': {},\n   'episodes_this_iter': 8,\n   'policy_reward_min': {},\n   'policy_reward_max': {},\n   'policy_reward_mean': {},\n   'custom_metrics': {},\n   'hist_stats': {'episode_reward': [-104.12553136576014,\n     -9.378592996724713,\n     -53.910412684180955,\n     -98.56711214062203,\n     -88.53950857023935,\n     -137.4725713771658,\n     -19.467286622311107,\n     -275.75255652450926,\n     -11.189456942677229,\n     -192.85569756261344,\n     -56.590520390579094,\n     -2.8587740337812235,\n     -142.90477242903634,\n     -17.41238789537487,\n     -102.92478654535684,\n     -179.86262220628356,\n     -59.178205916391995,\n     -218.2085486644466,\n     -178.98827667936558,\n     -134.59533748169085,\n     -144.73885961464282,\n     -142.10582211474406,\n     -139.96005873562916,\n     -6.666606468639424,\n     -11.223036059250376,\n     -57.96768020076274,\n     -236.10584279024837,\n     -92.42953746433426,\n     -12.156534398691436,\n     -93.67388480689236,\n     -96.32163625792924,\n     -13.496134985371366,\n     -172.4508021166769,\n     -170.50551182942814,\n     -233.49421392234458,\n     -51.16958854379767,\n     -104.89794731165392,\n     -92.08339782034426,\n     -59.43855867938778,\n     -134.49492889369844,\n     -60.780902542706826,\n     -141.17064553426917,\n     -140.26503892957453,\n     -19.563135914798693,\n     -269.8767908856461,\n     -267.67670918945777,\n     -140.9515850941336,\n     -66.57278485851212,\n     -90.63989470913164,\n     -93.61887864559135,\n     -229.55606366160802,\n     -95.44548390073338,\n     -161.35992761785212,\n     -51.80451096541432,\n     -102.42429342695038,\n     -230.32072021769906,\n     -172.03867032011715,\n     -94.18635985569196,\n     -10.565486969896885,\n     -62.24656649265301,\n     -48.51875975925223,\n     -12.258075409947228,\n     -6.5257768802685945,\n     -96.47647245806816,\n     -111.20922752790796,\n     -48.19947309229331,\n     -196.90173628765424,\n     -52.0578066061097,\n     -62.91683381990687,\n     -174.01313846929386,\n     -21.383941859826997,\n     -17.874620759324852,\n     -146.60963567685886,\n     -149.09252951253129,\n     -55.48029711117813,\n     -5.82316490367279,\n     -13.856303227960225,\n     -60.59154522032175,\n     29.38366672583742,\n     -47.6575675947998,\n     -14.057053950882455,\n     -150.5259282710211,\n     -99.4871126406295,\n     -140.8230200950292,\n     -184.63709576398952,\n     -51.07606139898133,\n     -92.50544547576901,\n     -131.00755834118644,\n     -58.113276011162824,\n     -85.74965139079858,\n     -95.88803735274186,\n     -50.1194204257478,\n     -185.72668868428613,\n     -48.24699014719603,\n     -55.59721129710577,\n     -172.5648437185598,\n     -60.609424267038314,\n     -11.431959230746187,\n     -62.42469485399437,\n     -52.002438880870145],\n    'episode_lengths': [25,\n     25,\n     25,\n     25,\n     25,\n     25,\n     25,\n     25,\n     25,\n     25,\n     25,\n     25,\n     25,\n     25,\n     25,\n     25,\n     25,\n     25,\n     25,\n     25,\n     25,\n     25,\n     25,\n     25,\n     25,\n     25,\n     25,\n     25,\n     25,\n     25,\n     25,\n     25,\n     25,\n     25,\n     25,\n     25,\n     25,\n     25,\n     25,\n     25,\n     25,\n     25,\n     25,\n     25,\n     25,\n     25,\n     25,\n     25,\n     25,\n     25,\n     25,\n     25,\n     25,\n     25,\n     25,\n     25,\n     25,\n     25,\n     25,\n     25,\n     25,\n     25,\n     25,\n     25,\n     25,\n     25,\n     25,\n     25,\n     25,\n     25,\n     25,\n     25,\n     25,\n     25,\n     25,\n     25,\n     25,\n     25,\n     25,\n     25,\n     25,\n     25,\n     25,\n     25,\n     25,\n     25,\n     25,\n     25,\n     25,\n     25,\n     25,\n     25,\n     25,\n     25,\n     25,\n     25,\n     25,\n     25,\n     25,\n     25]},\n   'sampler_perf': {'mean_raw_obs_processing_ms': 1.3083271836821624,\n    'mean_inference_ms': 11.723978568355536,\n    'mean_action_processing_ms': 1.2743531961510586,\n    'mean_env_wait_ms': 0.5193740918741961,\n    'mean_env_render_ms': 0.0},\n   'num_faulty_episodes': 0,\n   'connector_metrics': {'ObsPreprocessorConnector_ms': 0.1754775047302246,\n    'StateBufferConnector_ms': 0.004509449005126953,\n    'ViewRequirementAgentConnector_ms': 0.5007519721984863}},\n  'episode_reward_max': 29.38366672583742,\n  'episode_reward_min': -275.75255652450926,\n  'episode_reward_mean': -97.51885143425093,\n  'episode_len_mean': 25.0,\n  'episodes_this_iter': 8,\n  'policy_reward_min': {},\n  'policy_reward_max': {},\n  'policy_reward_mean': {},\n  'hist_stats': {'episode_reward': [-104.12553136576014,\n    -9.378592996724713,\n    -53.910412684180955,\n    -98.56711214062203,\n    -88.53950857023935,\n    -137.4725713771658,\n    -19.467286622311107,\n    -275.75255652450926,\n    -11.189456942677229,\n    -192.85569756261344,\n    -56.590520390579094,\n    -2.8587740337812235,\n    -142.90477242903634,\n    -17.41238789537487,\n    -102.92478654535684,\n    -179.86262220628356,\n    -59.178205916391995,\n    -218.2085486644466,\n    -178.98827667936558,\n    -134.59533748169085,\n    -144.73885961464282,\n    -142.10582211474406,\n    -139.96005873562916,\n    -6.666606468639424,\n    -11.223036059250376,\n    -57.96768020076274,\n    -236.10584279024837,\n    -92.42953746433426,\n    -12.156534398691436,\n    -93.67388480689236,\n    -96.32163625792924,\n    -13.496134985371366,\n    -172.4508021166769,\n    -170.50551182942814,\n    -233.49421392234458,\n    -51.16958854379767,\n    -104.89794731165392,\n    -92.08339782034426,\n    -59.43855867938778,\n    -134.49492889369844,\n    -60.780902542706826,\n    -141.17064553426917,\n    -140.26503892957453,\n    -19.563135914798693,\n    -269.8767908856461,\n    -267.67670918945777,\n    -140.9515850941336,\n    -66.57278485851212,\n    -90.63989470913164,\n    -93.61887864559135,\n    -229.55606366160802,\n    -95.44548390073338,\n    -161.35992761785212,\n    -51.80451096541432,\n    -102.42429342695038,\n    -230.32072021769906,\n    -172.03867032011715,\n    -94.18635985569196,\n    -10.565486969896885,\n    -62.24656649265301,\n    -48.51875975925223,\n    -12.258075409947228,\n    -6.5257768802685945,\n    -96.47647245806816,\n    -111.20922752790796,\n    -48.19947309229331,\n    -196.90173628765424,\n    -52.0578066061097,\n    -62.91683381990687,\n    -174.01313846929386,\n    -21.383941859826997,\n    -17.874620759324852,\n    -146.60963567685886,\n    -149.09252951253129,\n    -55.48029711117813,\n    -5.82316490367279,\n    -13.856303227960225,\n    -60.59154522032175,\n    29.38366672583742,\n    -47.6575675947998,\n    -14.057053950882455,\n    -150.5259282710211,\n    -99.4871126406295,\n    -140.8230200950292,\n    -184.63709576398952,\n    -51.07606139898133,\n    -92.50544547576901,\n    -131.00755834118644,\n    -58.113276011162824,\n    -85.74965139079858,\n    -95.88803735274186,\n    -50.1194204257478,\n    -185.72668868428613,\n    -48.24699014719603,\n    -55.59721129710577,\n    -172.5648437185598,\n    -60.609424267038314,\n    -11.431959230746187,\n    -62.42469485399437,\n    -52.002438880870145],\n   'episode_lengths': [25,\n    25,\n    25,\n    25,\n    25,\n    25,\n    25,\n    25,\n    25,\n    25,\n    25,\n    25,\n    25,\n    25,\n    25,\n    25,\n    25,\n    25,\n    25,\n    25,\n    25,\n    25,\n    25,\n    25,\n    25,\n    25,\n    25,\n    25,\n    25,\n    25,\n    25,\n    25,\n    25,\n    25,\n    25,\n    25,\n    25,\n    25,\n    25,\n    25,\n    25,\n    25,\n    25,\n    25,\n    25,\n    25,\n    25,\n    25,\n    25,\n    25,\n    25,\n    25,\n    25,\n    25,\n    25,\n    25,\n    25,\n    25,\n    25,\n    25,\n    25,\n    25,\n    25,\n    25,\n    25,\n    25,\n    25,\n    25,\n    25,\n    25,\n    25,\n    25,\n    25,\n    25,\n    25,\n    25,\n    25,\n    25,\n    25,\n    25,\n    25,\n    25,\n    25,\n    25,\n    25,\n    25,\n    25,\n    25,\n    25,\n    25,\n    25,\n    25,\n    25,\n    25,\n    25,\n    25,\n    25,\n    25,\n    25,\n    25]},\n  'sampler_perf': {'mean_raw_obs_processing_ms': 1.3083271836821624,\n   'mean_inference_ms': 11.723978568355536,\n   'mean_action_processing_ms': 1.2743531961510586,\n   'mean_env_wait_ms': 0.5193740918741961,\n   'mean_env_render_ms': 0.0},\n  'num_faulty_episodes': 0,\n  'connector_metrics': {'ObsPreprocessorConnector_ms': 0.1754775047302246,\n   'StateBufferConnector_ms': 0.004509449005126953,\n   'ViewRequirementAgentConnector_ms': 0.5007519721984863},\n  'num_healthy_workers': 10,\n  'num_in_flight_async_reqs': 0,\n  'num_remote_worker_restarts': 0,\n  'num_agent_steps_sampled': 14336,\n  'num_agent_steps_trained': 0,\n  'num_env_steps_sampled': 14336,\n  'num_env_steps_trained': 0,\n  'num_env_steps_sampled_this_iter': 128,\n  'num_env_steps_trained_this_iter': 0,\n  'num_env_steps_sampled_throughput_per_sec': 128.30946219433736,\n  'num_env_steps_trained_throughput_per_sec': 0.0,\n  'timesteps_total': 14336,\n  'num_steps_trained_this_iter': 0,\n  'agent_timesteps_total': 14336,\n  'timers': {'training_iteration_time_ms': 1009.851,\n   'sample_time_ms': 208.38,\n   'synch_weights_time_ms': 13.474},\n  'counters': {'num_env_steps_sampled': 14336,\n   'num_env_steps_trained': 0,\n   'num_agent_steps_sampled': 14336,\n   'num_agent_steps_trained': 0},\n  'done': False,\n  'episodes_total': 570,\n  'training_iteration': 112,\n  'trial_id': 'default',\n  'date': '2023-10-09_16-27-03',\n  'timestamp': 1696865223,\n  'time_this_iter_s': 1.0025830268859863,\n  'time_total_s': 115.09191846847534,\n  'pid': 29204,\n  'hostname': 'W00DY',\n  'node_ip': '127.0.0.1',\n  'config': {'extra_python_environs_for_driver': {},\n   'extra_python_environs_for_worker': {},\n   'num_gpus': 0,\n   'num_cpus_per_worker': 1,\n   'num_gpus_per_worker': 0,\n   '_fake_gpus': False,\n   'num_learner_workers': 0,\n   'num_gpus_per_learner_worker': 0,\n   'num_cpus_per_learner_worker': 1,\n   'local_gpu_idx': 0,\n   'custom_resources_per_worker': {},\n   'placement_strategy': 'PACK',\n   'eager_tracing': True,\n   'eager_max_retraces': 20,\n   'tf_session_args': {'intra_op_parallelism_threads': 2,\n    'inter_op_parallelism_threads': 2,\n    'gpu_options': {'allow_growth': True},\n    'log_device_placement': False,\n    'device_count': {'CPU': 1},\n    'allow_soft_placement': True},\n   'local_tf_session_args': {'intra_op_parallelism_threads': 8,\n    'inter_op_parallelism_threads': 8},\n   'torch_compile_learner': False,\n   'torch_compile_learner_what_to_compile': <TorchCompileWhatToCompile.FORWARD_TRAIN: 'forward_train'>,\n   'torch_compile_learner_dynamo_backend': 'inductor',\n   'torch_compile_learner_dynamo_mode': None,\n   'torch_compile_worker': False,\n   'torch_compile_worker_dynamo_backend': 'onnxrt',\n   'torch_compile_worker_dynamo_mode': None,\n   'env': src.algorithms.rl.ec_singleagent_v0.EnergyCommunitySingleEnv_v0,\n   'env_config': {},\n   'observation_space': None,\n   'action_space': None,\n   'env_task_fn': None,\n   'render_env': False,\n   'clip_rewards': None,\n   'normalize_actions': True,\n   'clip_actions': False,\n   'disable_env_checking': False,\n   'auto_wrap_old_gym_envs': True,\n   'action_mask_key': 'action_mask',\n   '_is_atari': None,\n   'env_runner_cls': None,\n   'num_envs_per_worker': 1,\n   'sample_collector': ray.rllib.evaluation.collectors.simple_list_collector.SimpleListCollector,\n   'sample_async': False,\n   'enable_connectors': True,\n   'update_worker_filter_stats': True,\n   'use_worker_filter_stats': True,\n   'rollout_fragment_length': 'auto',\n   'batch_mode': 'truncate_episodes',\n   'remote_worker_envs': False,\n   'remote_env_batch_wait_ms': 0,\n   'validate_workers_after_construction': True,\n   'preprocessor_pref': 'deepmind',\n   'observation_filter': 'NoFilter',\n   'compress_observations': False,\n   'enable_tf1_exec_eagerly': False,\n   'sampler_perf_stats_ema_coef': None,\n   'gamma': 0.99,\n   'lr': 0.0002,\n   'grad_clip': None,\n   'grad_clip_by': 'global_norm',\n   'train_batch_size': 128,\n   'model': {'_disable_preprocessor_api': False,\n    '_disable_action_flattening': False,\n    'fcnet_hiddens': [256, 256],\n    'fcnet_activation': 'tanh',\n    'conv_filters': None,\n    'conv_activation': 'relu',\n    'post_fcnet_hiddens': [],\n    'post_fcnet_activation': 'relu',\n    'free_log_std': False,\n    'no_final_linear': False,\n    'vf_share_layers': False,\n    'use_lstm': False,\n    'max_seq_len': 20,\n    'lstm_cell_size': 256,\n    'lstm_use_prev_action': False,\n    'lstm_use_prev_reward': False,\n    '_time_major': False,\n    'use_attention': False,\n    'attention_num_transformer_units': 1,\n    'attention_dim': 64,\n    'attention_num_heads': 1,\n    'attention_head_dim': 32,\n    'attention_memory_inference': 50,\n    'attention_memory_training': 50,\n    'attention_position_wise_mlp_dim': 32,\n    'attention_init_gru_gate_bias': 2.0,\n    'attention_use_n_prev_actions': 0,\n    'attention_use_n_prev_rewards': 0,\n    'framestack': True,\n    'dim': 84,\n    'grayscale': False,\n    'zero_mean': True,\n    'custom_model': None,\n    'custom_model_config': {},\n    'custom_action_dist': None,\n    'custom_preprocessor': None,\n    'encoder_latent_dim': None,\n    'always_check_shapes': False,\n    'lstm_use_prev_action_reward': -1,\n    '_use_default_native_models': -1},\n   'optimizer': {},\n   'max_requests_in_flight_per_sampler_worker': 2,\n   '_learner_class': None,\n   '_enable_learner_api': True,\n   'explore': True,\n   'exploration_config': {},\n   'algorithm_config_overrides_per_module': {},\n   'policy_map_capacity': 100,\n   'policy_mapping_fn': <function ray.rllib.algorithms.algorithm_config.AlgorithmConfig.DEFAULT_POLICY_MAPPING_FN(aid, episode, worker, **kwargs)>,\n   'policies_to_train': None,\n   'policy_states_are_swappable': False,\n   'observation_fn': None,\n   'count_steps_by': 'env_steps',\n   'input_config': {},\n   'actions_in_input_normalized': False,\n   'postprocess_inputs': False,\n   'shuffle_buffer_size': 0,\n   'output': None,\n   'output_config': {},\n   'output_compress_columns': ['obs', 'new_obs'],\n   'output_max_file_size': 67108864,\n   'offline_sampling': False,\n   'evaluation_interval': None,\n   'evaluation_duration': 10,\n   'evaluation_duration_unit': 'episodes',\n   'evaluation_sample_timeout_s': 180.0,\n   'evaluation_parallel_to_training': False,\n   'evaluation_config': None,\n   'off_policy_estimation_methods': {},\n   'ope_split_batch_by_episode': True,\n   'evaluation_num_workers': 0,\n   'always_attach_evaluation_results': False,\n   'enable_async_evaluation': False,\n   'in_evaluation': False,\n   'sync_filters_on_rollout_workers_timeout_s': 60.0,\n   'keep_per_episode_custom_metrics': False,\n   'metrics_episode_collection_timeout_s': 60.0,\n   'metrics_num_episodes_for_smoothing': 100,\n   'min_time_s_per_iteration': None,\n   'min_train_timesteps_per_iteration': 0,\n   'min_sample_timesteps_per_iteration': 0,\n   'export_native_model_files': False,\n   'checkpoint_trainable_policies_only': False,\n   'logger_creator': None,\n   'logger_config': None,\n   'log_level': 'ERROR',\n   'log_sys_usage': True,\n   'fake_sampler': False,\n   'seed': None,\n   'ignore_worker_failures': False,\n   'recreate_failed_workers': False,\n   'max_num_worker_restarts': 1000,\n   'delay_between_worker_restarts_s': 60.0,\n   'restart_failed_sub_environments': False,\n   'num_consecutive_worker_failures_tolerance': 100,\n   'worker_health_probe_timeout_s': 60,\n   'worker_restore_timeout_s': 1800,\n   'rl_module_spec': SingleAgentRLModuleSpec(module_class=<class 'ray.rllib.algorithms.ppo.torch.ppo_torch_rl_module.PPOTorchRLModule'>, observation_space=None, action_space=None, model_config_dict=None, catalog_class=<class 'ray.rllib.algorithms.ppo.ppo_catalog.PPOCatalog'>, load_state_path=None),\n   '_enable_rl_module_api': True,\n   '_AlgorithmConfig__prior_exploration_config': {'type': 'StochasticSampling'},\n   '_tf_policy_handles_more_than_one_loss': False,\n   '_disable_preprocessor_api': False,\n   '_disable_action_flattening': False,\n   '_disable_execution_plan_api': True,\n   '_disable_initialize_loss_from_dummy_batch': False,\n   'simple_optimizer': False,\n   'policy_map_cache': -1,\n   'worker_cls': -1,\n   'synchronize_filters': -1,\n   'replay_sequence_length': None,\n   'lr_schedule': None,\n   'use_critic': True,\n   'use_gae': True,\n   'use_kl_loss': True,\n   'kl_coeff': 0.2,\n   'kl_target': 0.01,\n   'sgd_minibatch_size': 128,\n   'num_sgd_iter': 30,\n   'shuffle_sequences': True,\n   'vf_loss_coeff': 1.0,\n   'entropy_coeff': 0.0,\n   'entropy_coeff_schedule': None,\n   'clip_param': 0.3,\n   'vf_clip_param': 10.0,\n   'vf_share_layers': -1,\n   'lambda': 1.0,\n   'input': 'sampler',\n   'policies': {'default_policy': (None, None, None, None)},\n   'callbacks': ray.rllib.algorithms.callbacks.DefaultCallbacks,\n   'create_env_on_driver': False,\n   'custom_eval_function': None,\n   'framework': 'torch',\n   'num_cpus_for_driver': 1,\n   'num_workers': 10},\n  'time_since_restore': 115.09191846847534,\n  'iterations_since_restore': 112,\n  'perf': {'cpu_util_percent': 63.4,\n   'ram_util_percent': 72.1,\n   'gpu_util_percent0': 0.02,\n   'vram_util_percent0': 0.10921223958333333}},\n 'ray_version': '2.7.0'}"
     },
     "execution_count": 7,
     "metadata": {},
     "output_type": "execute_result"
    }
   ],
   "source": [
    "# Get state\n",
    "\n",
    "algo.get_state()"
   ],
   "metadata": {
    "collapsed": false,
    "ExecuteTime": {
     "end_time": "2023-10-09T15:27:14.656295500Z",
     "start_time": "2023-10-09T15:27:14.638469900Z"
    }
   }
  },
  {
   "cell_type": "code",
   "execution_count": 6,
   "outputs": [],
   "source": [
    "# Check the actions (inference)\n",
    "\n",
    "env = EnergyCommunitySingleEnv_v0()\n",
    "obs = env.reset()\n",
    "\n",
    "done = False\n",
    "total_reward_prod = 0.0\n",
    "total_reward_cons = 0.0\n",
    "episode_info = []\n",
    "while not done:\n",
    "    action = algo.compute_single_action(obs)\n",
    "    obs, reward, done, info = env.step(action)\n",
    "    episode_info.append(info)"
   ],
   "metadata": {
    "collapsed": false,
    "ExecuteTime": {
     "end_time": "2023-10-09T13:16:44.438827100Z",
     "start_time": "2023-10-09T13:16:44.238748400Z"
    }
   }
  },
  {
   "cell_type": "code",
   "execution_count": 7,
   "outputs": [
    {
     "data": {
      "text/plain": "[{'total_production': 48.0,\n  'energy_requirements': 60.30809,\n  'calculated_requirements': 5.566657023277283,\n  'import': 5.566657023277283,\n  'export': 0.0,\n  'batteries_charge': 0.7999999999999998,\n  'batteries_discharge': 7.541432976722717,\n  'evs_charge': 0.0,\n  'evs_discharge': 0.0,\n  'storage_01': 8.0,\n  'storage_02': 8.458567023277283,\n  'storage_03': 4.0,\n  'ev_01': 20.0,\n  'ev_02': 30.0,\n  'ev_03': 20.0,\n  'ev_04': 20.0,\n  'ev_05': 30.0},\n {'total_production': 58.0,\n  'energy_requirements': 52.847466999999995,\n  'calculated_requirements': -8.359516089447027,\n  'import': 0.0,\n  'export': 8.359516089447027,\n  'batteries_charge': 1.9999999999999996,\n  'batteries_discharge': 5.2069830894470215,\n  'evs_charge': 0.0,\n  'evs_discharge': 0.0,\n  'storage_01': 10.0,\n  'storage_02': 3.251583933830262,\n  'storage_03': 4.0,\n  'ev_01': 20.0,\n  'ev_02': 24.0,\n  'ev_03': 20.0,\n  'ev_04': 16.0,\n  'ev_05': 30.0},\n {'total_production': 0.0,\n  'energy_requirements': 49.143703,\n  'calculated_requirements': 49.743703000000004,\n  'import': 49.743703000000004,\n  'export': 0.0,\n  'batteries_charge': 0.0,\n  'batteries_discharge': 0.0,\n  'evs_charge': 0.6,\n  'evs_discharge': 0.0,\n  'storage_01': 10.0,\n  'storage_02': 3.251583933830262,\n  'storage_03': 4.0,\n  'ev_01': 20.0,\n  'ev_02': 0.0,\n  'ev_03': 20.0,\n  'ev_04': 40.0,\n  'ev_05': 30.0},\n {'total_production': 58.0,\n  'energy_requirements': 47.034994,\n  'calculated_requirements': -14.216589933830264,\n  'import': 0.0,\n  'export': 14.216589933830264,\n  'batteries_charge': 0.0,\n  'batteries_discharge': 3.251583933830262,\n  'evs_charge': 0.0,\n  'evs_discharge': 0.0,\n  'storage_01': 10.0,\n  'storage_02': 0.0,\n  'storage_03': 4.0,\n  'ev_01': 20.0,\n  'ev_02': 0.0,\n  'ev_03': 20.0,\n  'ev_04': 40.0,\n  'ev_05': 30.0},\n {'total_production': 18.0,\n  'energy_requirements': 46.564353,\n  'calculated_requirements': 28.564352999999997,\n  'import': 28.564352999999997,\n  'export': 0.0,\n  'batteries_charge': 0.0,\n  'batteries_discharge': 0.0,\n  'evs_charge': 0.0,\n  'evs_discharge': 0.0,\n  'storage_01': 10.0,\n  'storage_02': 0.0,\n  'storage_03': 4.0,\n  'ev_01': 20.0,\n  'ev_02': 0.0,\n  'ev_03': 20.0,\n  'ev_04': 40.0,\n  'ev_05': 30.0},\n {'total_production': 19.012226775,\n  'energy_requirements': 47.663723000000005,\n  'calculated_requirements': 31.787702851892092,\n  'import': 31.787702851892092,\n  'export': 0.0,\n  'batteries_charge': 7.13620662689209,\n  'batteries_discharge': 4.0,\n  'evs_charge': 0.0,\n  'evs_discharge': 0.0,\n  'storage_01': 10.0,\n  'storage_02': 7.13620662689209,\n  'storage_03': 0.0,\n  'ev_01': 20.0,\n  'ev_02': 0.0,\n  'ev_03': 20.0,\n  'ev_04': 40.0,\n  'ev_05': 30.0},\n {'total_production': 20.882248633,\n  'energy_requirements': 51.155224,\n  'calculated_requirements': 35.15067438452472,\n  'import': 35.15067438452472,\n  'export': 0.0,\n  'batteries_charge': 4.877699017524719,\n  'batteries_discharge': 0.0,\n  'evs_charge': 0.0,\n  'evs_discharge': 0.0,\n  'storage_01': 10.0,\n  'storage_02': 12.013905644416809,\n  'storage_03': 0.0,\n  'ev_01': 20.0,\n  'ev_02': 0.0,\n  'ev_03': 20.0,\n  'ev_04': 40.0,\n  'ev_05': 30.0},\n {'total_production': 46.109311515,\n  'energy_requirements': 59.060424000000005,\n  'calculated_requirements': 16.054274296828616,\n  'import': 16.054274296828616,\n  'export': 0.0,\n  'batteries_charge': 3.1031618118286133,\n  'batteries_discharge': 0.0,\n  'evs_charge': 0.0,\n  'evs_discharge': 0.0,\n  'storage_01': 10.0,\n  'storage_02': 12.013905644416809,\n  'storage_03': 3.1031618118286133,\n  'ev_01': 20.0,\n  'ev_02': 0.0,\n  'ev_03': 20.0,\n  'ev_04': 12.000000000000002,\n  'ev_05': 30.0},\n {'total_production': 61.819486477,\n  'energy_requirements': 69.32922500000001,\n  'calculated_requirements': 4.406576711171397,\n  'import': 4.406576711171397,\n  'export': 0.0,\n  'batteries_charge': 0.0,\n  'batteries_discharge': 3.1031618118286133,\n  'evs_charge': 0.0,\n  'evs_discharge': 0.0,\n  'storage_01': 10.0,\n  'storage_02': 12.013905644416809,\n  'storage_03': 0.0,\n  'ev_01': 20.0,\n  'ev_02': 0.0,\n  'ev_03': 20.0,\n  'ev_04': 12.000000000000002,\n  'ev_05': 30.0},\n {'total_production': 69.203974583,\n  'energy_requirements': 77.92867500000001,\n  'calculated_requirements': 7.040540780502511,\n  'import': 7.040540780502511,\n  'export': 0.0,\n  'batteries_charge': 7.986094355583191,\n  'batteries_discharge': 9.670253992080688,\n  'evs_charge': 0.0,\n  'evs_discharge': 0.0,\n  'storage_01': 0.3297460079193115,\n  'storage_02': 20.0,\n  'storage_03': 0.0,\n  'ev_01': 20.0,\n  'ev_02': 0.0,\n  'ev_03': 20.0,\n  'ev_04': 12.000000000000002,\n  'ev_05': 24.0},\n {'total_production': 88.662498472,\n  'energy_requirements': 81.686041,\n  'calculated_requirements': -2.8476236654852527,\n  'import': 0.0,\n  'export': 2.8476236654852527,\n  'batteries_charge': 4.02883380651474,\n  'batteries_discharge': 0.0,\n  'evs_charge': 0.6,\n  'evs_discharge': 0.5,\n  'storage_01': 4.3585798144340515,\n  'storage_02': 20.0,\n  'storage_03': 0.0,\n  'ev_01': 0.0,\n  'ev_02': 0.0,\n  'ev_03': 20.0,\n  'ev_04': 12.000000000000002,\n  'ev_05': 60.0},\n {'total_production': 42.954221739,\n  'energy_requirements': 84.09700199999997,\n  'calculated_requirements': 46.57436090137559,\n  'import': 46.57436090137559,\n  'export': 0.0,\n  'batteries_charge': 5.331580638885498,\n  'batteries_discharge': 0.0,\n  'evs_charge': 0.10000000149011612,\n  'evs_discharge': 0.0,\n  'storage_01': 9.69016045331955,\n  'storage_02': 20.0,\n  'storage_03': 0.0,\n  'ev_01': 4.000000059604645,\n  'ev_02': 0.0,\n  'ev_03': 20.0,\n  'ev_04': 12.000000000000002,\n  'ev_05': 30.0},\n {'total_production': 66.74890841,\n  'energy_requirements': 81.553451,\n  'calculated_requirements': 6.486757565357053,\n  'import': 6.486757565357053,\n  'export': 0.0,\n  'batteries_charge': 4.0,\n  'batteries_discharge': 12.317785024642944,\n  'evs_charge': 0.0,\n  'evs_discharge': 0.0,\n  'storage_01': 9.69016045331955,\n  'storage_02': 7.682214975357056,\n  'storage_03': 4.0,\n  'ev_01': 0.0,\n  'ev_02': 0.0,\n  'ev_03': 16.0,\n  'ev_04': 12.000000000000002,\n  'ev_05': 30.0},\n {'total_production': 58.448981829000004,\n  'energy_requirements': 79.355014,\n  'calculated_requirements': 12.931961443174828,\n  'import': 12.931961443174828,\n  'export': 0.0,\n  'batteries_charge': 0.0,\n  'batteries_discharge': 8.474070727825165,\n  'evs_charge': 0.5,\n  'evs_discharge': 0.0,\n  'storage_01': 5.139447450637817,\n  'storage_02': 3.758857250213623,\n  'storage_03': 4.0,\n  'ev_01': 0.0,\n  'ev_02': 18.0,\n  'ev_03': 36.0,\n  'ev_04': 20.0,\n  'ev_05': 30.0},\n {'total_production': 51.167855038,\n  'energy_requirements': 78.25027,\n  'calculated_requirements': 14.867621339506258,\n  'import': 14.867621339506258,\n  'export': 0.0,\n  'batteries_charge': 0.0,\n  'batteries_discharge': 12.214793622493744,\n  'evs_charge': 0.0,\n  'evs_discharge': 0.0,\n  'storage_01': 0.5623510479927063,\n  'storage_02': 0.0,\n  'storage_03': 0.12116003036499023,\n  'ev_01': 0.0,\n  'ev_02': 18.0,\n  'ev_03': 16.0,\n  'ev_04': 20.0,\n  'ev_05': 30.0},\n {'total_production': 58.0,\n  'energy_requirements': 76.049428,\n  'calculated_requirements': 18.549428000000006,\n  'import': 18.549428000000006,\n  'export': 0.0,\n  'batteries_charge': 0.0,\n  'batteries_discharge': 0.0,\n  'evs_charge': 0.5,\n  'evs_discharge': 0.0,\n  'storage_01': 0.5623510479927063,\n  'storage_02': 0.0,\n  'storage_03': 0.12116003036499023,\n  'ev_01': 0.0,\n  'ev_02': 18.0,\n  'ev_03': 16.0,\n  'ev_04': 40.0,\n  'ev_05': 30.0},\n {'total_production': 68.44741347300001,\n  'energy_requirements': 79.072417,\n  'calculated_requirements': 15.779639433219472,\n  'import': 15.779639433219472,\n  'export': 0.0,\n  'batteries_charge': 5.154635906219482,\n  'batteries_discharge': 0.0,\n  'evs_charge': 0.0,\n  'evs_discharge': 0.0,\n  'storage_01': 5.716986954212189,\n  'storage_02': 0.0,\n  'storage_03': 0.12116003036499023,\n  'ev_01': 16.0,\n  'ev_02': 18.0,\n  'ev_03': 16.0,\n  'ev_04': 14.0,\n  'ev_05': 30.0},\n {'total_production': 61.714844024,\n  'energy_requirements': 87.72055,\n  'calculated_requirements': 25.81525165986078,\n  'import': 25.81525165986078,\n  'export': 0.0,\n  'batteries_charge': 0.0,\n  'batteries_discharge': 0.4904543161392212,\n  'evs_charge': 0.6,\n  'evs_discharge': 0.3,\n  'storage_01': 5.347692668437958,\n  'storage_02': 0.0,\n  'storage_03': 0.0,\n  'ev_01': 40.0,\n  'ev_02': 0.0,\n  'ev_03': 12.0,\n  'ev_04': 14.0,\n  'ev_05': 30.0},\n {'total_production': 59.636781216,\n  'energy_requirements': 92.106242,\n  'calculated_requirements': 55.65359780798538,\n  'import': 55.65359780798538,\n  'export': 0.0,\n  'batteries_charge': 22.08413702249527,\n  'batteries_discharge': 0.0,\n  'evs_charge': 1.1000000014901161,\n  'evs_discharge': 0.0,\n  'storage_01': 10.0,\n  'storage_02': 15.293494462966919,\n  'storage_03': 2.1383352279663086,\n  'ev_01': 20.0,\n  'ev_02': 60.0,\n  'ev_03': 16.000000059604645,\n  'ev_04': 14.0,\n  'ev_05': 30.0},\n {'total_production': 58.0,\n  'energy_requirements': 93.51056,\n  'calculated_requirements': 36.61916115289688,\n  'import': 36.61916115289688,\n  'export': 0.0,\n  'batteries_charge': 0.8086011409759521,\n  'batteries_discharge': 0.0,\n  'evs_charge': 0.30000001192092896,\n  'evs_discharge': 0.0,\n  'storage_01': 10.0,\n  'storage_02': 15.293494462966919,\n  'storage_03': 2.9469363689422607,\n  'ev_01': 20.0,\n  'ev_02': 60.0,\n  'ev_03': 28.000000536441803,\n  'ev_04': 14.0,\n  'ev_05': 18.0},\n {'total_production': 58.0,\n  'energy_requirements': 88.545641,\n  'calculated_requirements': 27.80317438336945,\n  'import': 27.80317438336945,\n  'export': 0.0,\n  'batteries_charge': 0.0,\n  'batteries_discharge': 2.442466616630554,\n  'evs_charge': 0.0,\n  'evs_discharge': 0.3,\n  'storage_01': 10.0,\n  'storage_02': 12.851027846336365,\n  'storage_03': 2.9469363689422607,\n  'ev_01': 20.0,\n  'ev_02': 60.0,\n  'ev_03': 10.000000536441805,\n  'ev_04': 14.0,\n  'ev_05': 0.0},\n {'total_production': 58.0,\n  'energy_requirements': 83.44002499999999,\n  'calculated_requirements': 13.6314438414812,\n  'import': 13.6314438414812,\n  'export': 0.0,\n  'batteries_charge': 0.0,\n  'batteries_discharge': 12.008581161499023,\n  'evs_charge': 0.20000000298023224,\n  'evs_discharge': 0.0,\n  'storage_01': 10.0,\n  'storage_02': 0.8424466848373413,\n  'storage_03': 2.9469363689422607,\n  'ev_01': 20.0,\n  'ev_02': 60.0,\n  'ev_03': 10.000000536441805,\n  'ev_04': 14.0,\n  'ev_05': 12.000000178813934},\n {'total_production': 30.0,\n  'energy_requirements': 77.401687,\n  'calculated_requirements': 46.559240315162654,\n  'import': 46.559240315162654,\n  'export': 0.0,\n  'batteries_charge': 0.0,\n  'batteries_discharge': 0.8424466848373413,\n  'evs_charge': 0.0,\n  'evs_discharge': 0.0,\n  'storage_01': 10.0,\n  'storage_02': 0.0,\n  'storage_03': 2.9469363689422607,\n  'ev_01': 20.0,\n  'ev_02': 60.0,\n  'ev_03': 10.000000536441805,\n  'ev_04': 14.0,\n  'ev_05': 0.0},\n {'total_production': 48.0,\n  'energy_requirements': 68.231239,\n  'calculated_requirements': 17.28430263105774,\n  'import': 17.28430263105774,\n  'export': 0.0,\n  'batteries_charge': 0.0,\n  'batteries_discharge': 2.9469363689422607,\n  'evs_charge': 0.0,\n  'evs_discharge': 0.0,\n  'storage_01': 10.0,\n  'storage_02': 0.0,\n  'storage_03': 0.0,\n  'ev_01': 20.0,\n  'ev_02': 0.0,\n  'ev_03': 10.000000536441805,\n  'ev_04': 14.0,\n  'ev_05': 0.0},\n {}]"
     },
     "execution_count": 7,
     "metadata": {},
     "output_type": "execute_result"
    }
   ],
   "source": [
    "episode_info"
   ],
   "metadata": {
    "collapsed": false,
    "ExecuteTime": {
     "end_time": "2023-10-09T13:16:51.160364200Z",
     "start_time": "2023-10-09T13:16:51.100152700Z"
    }
   }
  },
  {
   "cell_type": "code",
   "execution_count": 8,
   "outputs": [
    {
     "data": {
      "text/plain": "<Figure size 640x480 with 1 Axes>",
      "image/png": "[encoded data removed]"
     },
     "metadata": {},
     "output_type": "display_data"
    }
   ],
   "source": [
    "# Plot the battery level\n",
    "\n",
    "plt.plot([episode_info[i]['storage_01'] for i in range(len(episode_info) - 1)], label='Battery 01')\n",
    "plt.plot([episode_info[i]['storage_02'] for i in range(len(episode_info) - 1)], label='Battery 02')\n",
    "plt.plot([episode_info[i]['storage_03'] for i in range(len(episode_info) - 1)], label='Battery 03')\n",
    "plt.plot(env.energy_requirements, label='Energy requirements',\n",
    "         linestyle=':')\n",
    "\n",
    "plt.legend()\n",
    "plt.show()"
   ],
   "metadata": {
    "collapsed": false,
    "ExecuteTime": {
     "end_time": "2023-10-09T13:17:09.032499200Z",
     "start_time": "2023-10-09T13:17:08.870228300Z"
    }
   }
  },
  {
   "cell_type": "code",
   "execution_count": 8,
   "outputs": [
    {
     "data": {
      "text/plain": "'1'"
     },
     "execution_count": 8,
     "metadata": {},
     "output_type": "execute_result"
    }
   ],
   "source": [
    "os.environ.get(\"RLLIB_NUM_GPUS\", \"1\")"
   ],
   "metadata": {
    "collapsed": false,
    "ExecuteTime": {
     "end_time": "2023-10-09T15:10:26.212422400Z",
     "start_time": "2023-10-09T15:10:26.191933700Z"
    }
   }
  },
  {
   "cell_type": "code",
   "execution_count": 7,
   "outputs": [
    {
     "data": {
      "text/plain": "True"
     },
     "execution_count": 7,
     "metadata": {},
     "output_type": "execute_result"
    }
   ],
   "source": [],
   "metadata": {
    "collapsed": false
   }
  }
 ],
 "metadata": {
  "kernelspec": {
   "display_name": "Python 3",
   "language": "python",
   "name": "python3"
  },
  "language_info": {
   "codemirror_mode": {
    "name": "ipython",
    "version": 2
   },
   "file_extension": ".py",
   "mimetype": "text/x-python",
   "name": "python",
   "nbconvert_exporter": "python",
   "pygments_lexer": "ipython2",
   "version": "2.7.6"
  }
 },
 "nbformat": 4,
 "nbformat_minor": 0
}

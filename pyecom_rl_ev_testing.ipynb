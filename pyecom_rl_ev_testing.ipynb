{
 "cells": [
  {
   "cell_type": "code",
   "execution_count": 1,
   "metadata": {
    "collapsed": true,
    "ExecuteTime": {
     "end_time": "2023-11-26T20:53:47.390584400Z",
     "start_time": "2023-11-26T20:53:43.772951200Z"
    }
   },
   "outputs": [
    {
     "name": "stderr",
     "output_type": "stream",
     "text": [
      "2023-11-26 20:53:47,040\tWARNING deprecation.py:50 -- DeprecationWarning: `DirectStepOptimizer` has been deprecated. This will raise an error in the future!\n"
     ]
    }
   ],
   "source": [
    "# Imports\n",
    "\n",
    "import matplotlib.pyplot as plt\n",
    "import pandas as pd\n",
    "import numpy as np\n",
    "\n",
    "import os\n",
    "import ray\n",
    "from ray.rllib.algorithms.ppo import PPOConfig\n",
    "from ray import tune\n",
    "\n",
    "from src.parsers import HMParser\n",
    "from src.resources import BinaryResource, Generator, Load, Storage, Vehicle\n",
    "from src.algorithms.rl import EVMultiAgent_v0"
   ]
  },
  {
   "cell_type": "code",
   "execution_count": 2,
   "outputs": [],
   "source": [
    "# Data parsing\n",
    "\n",
    "data = HMParser(file_path='data/EC_V4.xlsx', ec_id=1)\n",
    "data.parse()"
   ],
   "metadata": {
    "collapsed": false,
    "ExecuteTime": {
     "end_time": "2023-11-26T20:53:49.629752300Z",
     "start_time": "2023-11-26T20:53:48.542690800Z"
    }
   }
  },
  {
   "cell_type": "code",
   "execution_count": 3,
   "outputs": [],
   "source": [
    "# Create EVs\n",
    "\n",
    "evs = []\n",
    "for ev in np.arange(data.vehicle['e_capacity_max'].shape[0]):\n",
    "    new_ev = Vehicle(name='ev_{:02d}'.format(ev + 1),\n",
    "                     value=data.vehicle['min_technical_soc'][ev] * data.vehicle['e_capacity_max'][ev],\n",
    "                     lower_bound=np.ones(data.vehicle['schedule_charge'][ev].shape) * \\\n",
    "                                 data.vehicle['min_technical_soc'][ev] * data.vehicle['e_capacity_max'][ev],\n",
    "                     upper_bound=np.ones(data.vehicle['schedule_charge'][ev].shape) * \\\n",
    "                                 data.vehicle['e_capacity_max'][ev],\n",
    "                     cost = np.zeros(data.vehicle['schedule_charge'][ev].shape),\n",
    "                     cost_discharge=np.ones(data.vehicle['schedule_charge'][ev].shape) * \\\n",
    "                                    data.vehicle['discharge_price'][ev, 0],\n",
    "                     cost_charge=np.ones(data.vehicle['schedule_charge'][ev].shape) * \\\n",
    "                                 data.vehicle['charge_price'][ev, 0],\n",
    "                     capacity_max=data.vehicle['e_capacity_max'][ev],\n",
    "                     initial_charge=data.vehicle['min_technical_soc'][ev] * data.vehicle['e_capacity_max'][ev],\n",
    "                     min_charge=data.vehicle['min_technical_soc'][ev] * data.vehicle['e_capacity_max'][ev],\n",
    "                     discharge_efficiency=data.vehicle['charge_efficiency'][ev],\n",
    "                     charge_efficiency=data.vehicle['charge_efficiency'][ev],\n",
    "                     schedule_connected=data.vehicle['schedule'][ev],\n",
    "                     schedule_discharge=data.vehicle['schedule_discharge'][ev],\n",
    "                     schedule_charge=data.vehicle['schedule_charge'][ev],\n",
    "                     schedule_requirement_soc=data.vehicle['schedule_departure_soc'][ev],\n",
    "                     schedule_arrival_soc=data.vehicle['schedule_arrival_soc'][ev]\n",
    "                     )\n",
    "    evs.append(new_ev)"
   ],
   "metadata": {
    "collapsed": false,
    "ExecuteTime": {
     "end_time": "2023-11-26T20:53:50.193529200Z",
     "start_time": "2023-11-26T20:53:50.178480300Z"
    }
   }
  },
  {
   "cell_type": "code",
   "execution_count": 4,
   "outputs": [
    {
     "name": "stdout",
     "output_type": "stream",
     "text": [
      "Terminated: True\n"
     ]
    }
   ],
   "source": [
    "# Create and test environment to check if everything is working\n",
    "\n",
    "temp_env = EVMultiAgent_v0(resources=evs,\n",
    "                           penalty_action_coefficient=2.0,\n",
    "                           penalty_not_charged=100.0,\n",
    "                           energy_price=data.peers['buy_price'][0, :])\n",
    "temp_env.reset()\n",
    "terminations = truncations = {a: False for a in temp_env.agents}\n",
    "terminations['__all__'] = False\n",
    "truncations['__all__'] = False\n",
    "while not terminations['__all__'] and not truncations['__all__']:\n",
    "    actions = temp_env.action_space.sample()\n",
    "    observations, rewards, terminations, truncations, infos = temp_env.step(actions)\n",
    "    # print('Observation: {}'.format(observations))\n",
    "    # print('Observation keys: {}'.format(observations.keys()))\n",
    "    # print('Reward: {}'.format(rewards))\n",
    "    # print('Infos: {}\\n'.format(infos))\n",
    "print('Terminated: {}'.format(terminations['__all__']))"
   ],
   "metadata": {
    "collapsed": false,
    "ExecuteTime": {
     "end_time": "2023-11-26T20:53:51.168086200Z",
     "start_time": "2023-11-26T20:53:51.148726300Z"
    }
   }
  },
  {
   "cell_type": "code",
   "execution_count": null,
   "outputs": [],
   "source": [],
   "metadata": {
    "collapsed": false
   }
  }
 ],
 "metadata": {
  "kernelspec": {
   "display_name": "Python 3",
   "language": "python",
   "name": "python3"
  },
  "language_info": {
   "codemirror_mode": {
    "name": "ipython",
    "version": 2
   },
   "file_extension": ".py",
   "mimetype": "text/x-python",
   "name": "python",
   "nbconvert_exporter": "python",
   "pygments_lexer": "ipython2",
   "version": "2.7.6"
  }
 },
 "nbformat": 4,
 "nbformat_minor": 0
}

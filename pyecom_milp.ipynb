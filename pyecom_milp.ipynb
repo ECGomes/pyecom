{
 "cells": [
  {
   "cell_type": "code",
   "execution_count": 6,
   "metadata": {
    "collapsed": true,
    "ExecuteTime": {
     "end_time": "2023-11-23T23:06:43.107469300Z",
     "start_time": "2023-11-23T23:06:42.501316100Z"
    }
   },
   "outputs": [],
   "source": [
    "# Imports\n",
    "\n",
    "import pandas as pd\n",
    "import numpy as np\n",
    "import matplotlib.pyplot as plt\n",
    "\n",
    "import pyomo\n",
    "import pyomo.opt\n",
    "import pyomo.environ as pe\n",
    "\n",
    "from src.parsers import HMParser"
   ]
  },
  {
   "cell_type": "code",
   "execution_count": 2,
   "outputs": [],
   "source": [
    "# Data parsing\n",
    "\n",
    "data = HMParser(file_path='data/EC_V4.xlsx', ec_id=1)\n",
    "data.parse()"
   ],
   "metadata": {
    "collapsed": false,
    "ExecuteTime": {
     "end_time": "2023-11-23T22:41:32.609470300Z",
     "start_time": "2023-11-23T22:41:31.831497300Z"
    }
   }
  },
  {
   "cell_type": "code",
   "execution_count": 40,
   "outputs": [],
   "source": [
    "# Auxiliary function to convert numpy arrays to dictionaries\n",
    "\n",
    "def convert_to_dictionary(a):\n",
    "    temp_dictionary = {}\n",
    "\n",
    "    if len(a.shape) == 3:\n",
    "        for dim0 in np.arange(a.shape[0]):\n",
    "            for dim1 in np.arange(a.shape[1]):\n",
    "                for dim2 in np.arange(a.shape[2]):\n",
    "                    temp_dictionary[(dim0+1, dim1+1, dim2+1)] = a[dim0, dim1, dim2]\n",
    "    elif len(a.shape) == 2:\n",
    "        for dim0 in np.arange(a.shape[0]):\n",
    "            for dim1 in np.arange(a.shape[1]):\n",
    "                temp_dictionary[(dim0+1, dim1+1)] = a[dim0, dim1]\n",
    "\n",
    "    else:\n",
    "        for dim0 in np.arange(a.shape[0]):\n",
    "            temp_dictionary[(dim0+1)] = a[dim0]\n",
    "\n",
    "    return temp_dictionary"
   ],
   "metadata": {
    "collapsed": false,
    "ExecuteTime": {
     "end_time": "2023-11-24T00:08:32.275369Z",
     "start_time": "2023-11-24T00:08:32.255978700Z"
    }
   }
  },
  {
   "cell_type": "code",
   "execution_count": 73,
   "outputs": [],
   "source": [
    "# Create model and attribute sets\n",
    "\n",
    "model = pe.ConcreteModel()\n",
    "\n",
    "# Set default behaviour\n",
    "default_behaviour = pe.Constraint.Skip\n",
    "\n",
    "# Variable iterators\n",
    "model.t = pe.Set(initialize=np.arange(1, data.generator['p_forecast'].shape[1] + 1),\n",
    "                 doc='Time periods')\n",
    "model.stor = pe.Set(initialize=np.arange(1, data.storage['p_charge_limit'].shape[0] + 1),\n",
    "                    doc='Number of storage units')\n",
    "model.v2g = pe.Set(initialize=np.arange(1, data.vehicle['p_charge_max'].shape[0] + 1),\n",
    "                   doc='Number of V2G units')\n",
    "model.cs = pe.Set(initialize=np.arange(1, data.charging_station['p_charge_limit'].shape[0] + 1),\n",
    "                  doc='Number of charging stations')"
   ],
   "metadata": {
    "collapsed": false,
    "ExecuteTime": {
     "end_time": "2023-11-24T00:39:24.176514800Z",
     "start_time": "2023-11-24T00:39:24.172150700Z"
    }
   }
  },
  {
   "cell_type": "code",
   "execution_count": 74,
   "outputs": [],
   "source": [
    "# Create generator properties\n",
    "\n",
    "# Sets and Parameters\n",
    "model.gen = pe.Set(initialize=np.arange(1, data.generator['p_forecast'].shape[0] + 1),\n",
    "                   doc='Number of generators')\n",
    "model.genType = pe.Param(model.gen,\n",
    "                         initialize=convert_to_dictionary(data.generator['type_generator'].astype(int)),\n",
    "                         doc='Types of generators')\n",
    "model.genMin = pe.Param(model.gen,\n",
    "                        initialize=convert_to_dictionary(data.generator['p_min']),\n",
    "                        doc='Minimum power generation')\n",
    "model.genMax = pe.Param(model.gen, model.t,\n",
    "                        initialize=convert_to_dictionary(data.generator['p_forecast']),\n",
    "                        doc='Forecasted power generation')\n",
    "\n",
    "# Variables\n",
    "model.genActPower = pe.Var(model.gen, model.t, within=pe.NonNegativeReals, initialize=0,\n",
    "                           doc='Active power generation')\n",
    "model.genExcPower = pe.Var(model.gen, model.t, within=pe.NonNegativeReals, initialize=0,\n",
    "                           doc='Excess power generation')\n",
    "model.genXo = pe.Var(model.gen, model.t, within=pe.Binary, initialize=0,\n",
    "                     doc='Generation on/off')\n",
    "\n",
    "# Constraints\n",
    "# Maximum generation\n",
    "def _genActMaxEq(m, g, t):\n",
    "    if m.genType[g] == 1:\n",
    "        return m.genActPower[g, t] <= m.genMax[g, t]\n",
    "    elif m.genType[g] == 2:\n",
    "        return m.genActPower[g, t] + m.genExcPower[g, t] == m.genMax[g, t]\n",
    "    return default_behaviour\n",
    "model.genActMaxEq = pe.Constraint(model.gen, model.t, rule=_genActMaxEq,\n",
    "                                  doc='Maximum active power generation')\n",
    "# Minimum generation\n",
    "def _genActMinEq(m, g, t):\n",
    "    if m.genType[g] == 1:\n",
    "        return m.genActPower[g, t] >= m.genMin[g] * m.genXo[g, t]\n",
    "    return default_behaviour\n",
    "model.genActMinEq = pe.Constraint(model.gen, model.t, rule=_genActMinEq,\n",
    "                                  doc='Minimum active power generation')"
   ],
   "metadata": {
    "collapsed": false,
    "ExecuteTime": {
     "end_time": "2023-11-24T00:39:24.734610100Z",
     "start_time": "2023-11-24T00:39:24.724835900Z"
    }
   }
  },
  {
   "cell_type": "code",
   "execution_count": 75,
   "outputs": [],
   "source": [
    "# Create load properties\n",
    "\n",
    "# Sets and Parameters\n",
    "model.loads = pe.Set(initialize=np.arange(1, data.load['p_forecast'].shape[0] + 1),\n",
    "                    doc='Number of loads')\n",
    "model.loadMax = pe.Param(model.loads, model.t,\n",
    "                         initialize=convert_to_dictionary(data.load['p_forecast'] * 5),\n",
    "                         doc='Forecasted power consumption')\n",
    "model.loadRedMax = pe.Param(model.loads, model.t,\n",
    "                            initialize=convert_to_dictionary(data.load['p_forecast'] * 0.5),\n",
    "                            doc='Maximum power reduction')\n",
    "model.loadCutMax = pe.Param(model.loads, model.t,\n",
    "                            initialize=convert_to_dictionary(data.load['p_forecast'] * 0.5),\n",
    "                            doc='Maximum power cut')\n",
    "\n",
    "# Variables\n",
    "model.loadRedActPower = pe.Var(model.loads, model.t, within=pe.NonNegativeReals, initialize=0,\n",
    "                               doc='Active power reduction')\n",
    "model.loadCutActPower = pe.Var(model.loads, model.t, within=pe.NonNegativeReals, initialize=0,\n",
    "                               doc='Active power cut')\n",
    "model.loadENS = pe.Var(model.loads, model.t, within=pe.NonNegativeReals, initialize=0,\n",
    "                       doc='Energy Not Supplied')\n",
    "model.loadXo = pe.Var(model.loads, model.t, within=pe.Binary, initialize=0,\n",
    "                      doc='Load on/off')\n",
    "\n",
    "# Constraints\n",
    "def _loadRedActEq(m, l, t):\n",
    "    return m.loadRedActPower[l, t] <= m.loadRedMax[l, t]\n",
    "model.loadReactEq = pe.Constraint(model.loads, model.t, rule=_loadRedActEq,\n",
    "                                  doc='Maximum active power reduction')\n",
    "\n",
    "def _loadCutActEq(m, l, t):\n",
    "    return m.loadCutActPower[l, t] == m.loadCutMax[l, t] * m.loadXo[l, t]\n",
    "model.loadCutActEq = pe.Constraint(model.loads, model.t, rule=_loadCutActEq,\n",
    "                                   doc='Maximum active power cut')\n",
    "\n",
    "def _loadENSEq(m, l, t):\n",
    "    return m.loadENS[l, t] + m.loadRedActPower[l, t] + m.loadCutActPower[l, t] <= m.loadMax[l, t]\n",
    "model.loadENSEq = pe.Constraint(model.loads, model.t, rule=_loadENSEq,\n",
    "                                doc='Maximum energy not supplied')"
   ],
   "metadata": {
    "collapsed": false,
    "ExecuteTime": {
     "end_time": "2023-11-24T00:39:25.467314200Z",
     "start_time": "2023-11-24T00:39:25.450614Z"
    }
   }
  },
  {
   "cell_type": "code",
   "execution_count": null,
   "outputs": [],
   "source": [],
   "metadata": {
    "collapsed": false
   }
  }
 ],
 "metadata": {
  "kernelspec": {
   "display_name": "Python 3",
   "language": "python",
   "name": "python3"
  },
  "language_info": {
   "codemirror_mode": {
    "name": "ipython",
    "version": 2
   },
   "file_extension": ".py",
   "mimetype": "text/x-python",
   "name": "python",
   "nbconvert_exporter": "python",
   "pygments_lexer": "ipython2",
   "version": "2.7.6"
  }
 },
 "nbformat": 4,
 "nbformat_minor": 0
}

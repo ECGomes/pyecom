{
 "cells": [
  {
   "cell_type": "code",
   "execution_count": 1,
   "metadata": {
    "collapsed": true,
    "ExecuteTime": {
     "end_time": "2023-07-26T12:10:00.097394100Z",
     "start_time": "2023-07-26T12:09:59.453816200Z"
    }
   },
   "outputs": [],
   "source": [
    "#  Imports\n",
    "\n",
    "from src.parsers import HMParser\n",
    "from src.repairs import PymooHMRepair\n",
    "from src.scenes import PymooHMProblem\n",
    "\n",
    "from src.metrics import CommunityMetrics\n",
    "\n",
    "import numpy as np\n",
    "\n",
    "# ignore the warnings (only demonstration purposes!)\n",
    "import warnings\n",
    "warnings.filterwarnings(\"ignore\")"
   ]
  },
  {
   "cell_type": "code",
   "execution_count": 2,
   "outputs": [],
   "source": [
    "# Data parsing\n",
    "\n",
    "data = HMParser(file_path='data/EC_V4.xlsx', ec_id=1)\n",
    "data.parse()"
   ],
   "metadata": {
    "collapsed": false,
    "ExecuteTime": {
     "end_time": "2023-07-26T12:10:03.379697500Z",
     "start_time": "2023-07-26T12:10:02.606294Z"
    }
   }
  },
  {
   "cell_type": "code",
   "execution_count": 3,
   "outputs": [
    {
     "name": "stdout",
     "output_type": "stream",
     "text": [
      "30\n",
      "=================================================\n",
      "n_gen  |  n_eval  |     f_avg     |     f_min    \n",
      "=================================================\n",
      "     1 |       30 |  3.238264E+05 |  3.291137E+03\n",
      "30\n",
      "     2 |       60 |  2.837603E+05 |  3.291137E+03\n",
      "30\n",
      "     3 |       90 |  2.370138E+05 |  3.291137E+03\n",
      "30\n",
      "     4 |      120 |  1.969193E+05 |  3.021715E+03\n",
      "30\n",
      "     5 |      150 |  1.701567E+05 |  3.021715E+03\n",
      "30\n",
      "     6 |      180 |  1.434055E+05 |  3.021715E+03\n",
      "30\n",
      "     7 |      210 |  1.266946E+05 |  3.021715E+03\n",
      "30\n",
      "     8 |      240 |  1.099102E+05 |  2.921541E+03\n",
      "30\n",
      "     9 |      270 |  9.655241E+04 |  2.687797E+03\n",
      "30\n",
      "    10 |      300 |  7.652225E+04 |  2.687797E+03\n",
      "30\n",
      "    11 |      330 |  6.646244E+04 |  2.594961E+03\n",
      "30\n",
      "    12 |      360 |  4.971762E+04 |  2.594961E+03\n",
      "30\n",
      "    13 |      390 |  3.296820E+04 |  2.594961E+03\n",
      "30\n",
      "    14 |      420 |  2.622627E+04 |  2.553485E+03\n",
      "30\n",
      "    15 |      450 |  2.281901E+04 |  2.477938E+03\n",
      "30\n",
      "    16 |      480 |  1.610890E+04 |  2.427720E+03\n",
      "30\n",
      "    17 |      510 |  9.379268E+03 |  2.420087E+03\n",
      "30\n",
      "    18 |      540 |  2.653790E+03 |  2.282128E+03\n",
      "30\n",
      "    19 |      570 |  2.627071E+03 |  2.282128E+03\n",
      "30\n",
      "    20 |      600 |  2.582970E+03 |  2.282128E+03\n"
     ]
    }
   ],
   "source": [
    "# Pymoo imports\n",
    "\n",
    "from pymoo.algorithms.soo.nonconvex.de import DE\n",
    "from pymoo.operators.sampling.lhs import LHS\n",
    "from pymoo.optimize import minimize\n",
    "from pymoo.termination.default import DefaultSingleObjectiveTermination\n",
    "\n",
    "algorithm = DE(pop_size=30,\n",
    "               sampling=LHS(),\n",
    "               variant=\"DE/rand/1/bin\",\n",
    "               CR=0.3,\n",
    "               dither=\"vector\",\n",
    "               jitter=False,\n",
    "               repair=PymooHMRepair(data=data))\n",
    "\n",
    "\n",
    "# Default termination:\n",
    "termination = DefaultSingleObjectiveTermination(xtol=1e-8,\n",
    "                                                cvtol=1e-6,\n",
    "                                                ftol=1e-6,\n",
    "                                                period=1000,\n",
    "                                                n_max_gen=2e1,\n",
    "                                                n_max_evals=5e9)\n",
    "\n",
    "customProblem = PymooHMProblem(data=data)\n",
    "\n",
    "temp_res = minimize(customProblem,\n",
    "                    algorithm,\n",
    "                    termination=termination,\n",
    "                    save_history=False,\n",
    "                    verbose=True)"
   ],
   "metadata": {
    "collapsed": false,
    "ExecuteTime": {
     "end_time": "2023-07-26T12:10:05.757792200Z",
     "start_time": "2023-07-26T12:10:03.900792300Z"
    }
   }
  },
  {
   "cell_type": "code",
   "execution_count": 4,
   "outputs": [
    {
     "data": {
      "text/plain": "array([2282.12834025])"
     },
     "execution_count": 4,
     "metadata": {},
     "output_type": "execute_result"
    }
   ],
   "source": [
    "# Obj function value\n",
    "\n",
    "temp_res.F"
   ],
   "metadata": {
    "collapsed": false,
    "ExecuteTime": {
     "end_time": "2023-07-26T12:10:06.412168600Z",
     "start_time": "2023-07-26T12:10:06.404485500Z"
    }
   }
  },
  {
   "cell_type": "code",
   "execution_count": 5,
   "outputs": [],
   "source": [
    "# Solution\n",
    "\n",
    "decoded_resources = customProblem.decode(temp_res.X)"
   ],
   "metadata": {
    "collapsed": false,
    "ExecuteTime": {
     "end_time": "2023-07-26T12:10:06.975678Z",
     "start_time": "2023-07-26T12:10:06.969869Z"
    }
   }
  },
  {
   "cell_type": "code",
   "execution_count": 6,
   "outputs": [
    {
     "data": {
      "text/plain": "{'genActPower': [genActPower_00,\n  genActPower_01,\n  genActPower_02,\n  genActPower_03,\n  genActPower_04,\n  genActPower_05,\n  genActPower_06],\n 'genExcActPower': [genExcActPower_00,\n  genExcActPower_01,\n  genExcActPower_02,\n  genExcActPower_03,\n  genExcActPower_04,\n  genExcActPower_05,\n  genExcActPower_06],\n 'pImp': pImp,\n 'pExp': pExp,\n 'loadRedActPower': [loadRedActPower_00,\n  loadRedActPower_01,\n  loadRedActPower_02,\n  loadRedActPower_03,\n  loadRedActPower_04,\n  loadRedActPower_05],\n 'loadCutActPower': [loadCutActPower_00,\n  loadCutActPower_01,\n  loadCutActPower_02,\n  loadCutActPower_03,\n  loadCutActPower_04,\n  loadCutActPower_05],\n 'loadENS': [loadENS_00,\n  loadENS_01,\n  loadENS_02,\n  loadENS_03,\n  loadENS_04,\n  loadENS_05],\n 'loadActPower': [loadActPower_00,\n  loadActPower_01,\n  loadActPower_02,\n  loadActPower_03,\n  loadActPower_04,\n  loadActPower_05],\n 'storDchActPower': [storDchActPower_00,\n  storDchActPower_01,\n  storDchActPower_02],\n 'storChActPower': [storChActPower_00, storChActPower_01, storChActPower_02],\n 'storEnerState': [storEnerState_00, storEnerState_01, storEnerState_02],\n 'v2gDchActPower': [v2gDchActPower_00,\n  v2gDchActPower_01,\n  v2gDchActPower_02,\n  v2gDchActPower_03,\n  v2gDchActPower_04],\n 'v2gChActPower': [v2gChActPower_00,\n  v2gChActPower_01,\n  v2gChActPower_02,\n  v2gChActPower_03,\n  v2gChActPower_04],\n 'v2gEnerState': [v2gEnerState_00,\n  v2gEnerState_01,\n  v2gEnerState_02,\n  v2gEnerState_03,\n  v2gEnerState_04]}"
     },
     "execution_count": 6,
     "metadata": {},
     "output_type": "execute_result"
    }
   ],
   "source": [
    "# Show the decoded resources\n",
    "\n",
    "decoded_resources"
   ],
   "metadata": {
    "collapsed": false,
    "ExecuteTime": {
     "end_time": "2023-07-26T12:10:07.582791400Z",
     "start_time": "2023-07-26T12:10:07.575360200Z"
    }
   }
  },
  {
   "cell_type": "code",
   "execution_count": 7,
   "outputs": [
    {
     "name": "stdout",
     "output_type": "stream",
     "text": [
      "Community Metrics available: \n",
      "- self_consumption\n",
      "- total_produced\n",
      "- total_consumed\n",
      "- import_export_balance\n",
      "\n"
     ]
    }
   ],
   "source": [
    "# Metrics\n",
    "\n",
    "metric = CommunityMetrics()\n",
    "print(metric)"
   ],
   "metadata": {
    "collapsed": false,
    "ExecuteTime": {
     "end_time": "2023-07-26T12:10:08.125913Z",
     "start_time": "2023-07-26T12:10:08.112168Z"
    }
   }
  },
  {
   "cell_type": "code",
   "execution_count": 8,
   "outputs": [
    {
     "data": {
      "text/plain": "1.6052307283912177"
     },
     "execution_count": 8,
     "metadata": {},
     "output_type": "execute_result"
    }
   ],
   "source": [
    "# Check the metrics\n",
    "metric.cmd_self_consumption(production=decoded_resources['genActPower'],\n",
    "                            consumption=decoded_resources['loadActPower'])"
   ],
   "metadata": {
    "collapsed": false,
    "ExecuteTime": {
     "end_time": "2023-07-26T12:10:08.815707Z",
     "start_time": "2023-07-26T12:10:08.808233600Z"
    }
   }
  },
  {
   "cell_type": "code",
   "execution_count": 9,
   "outputs": [
    {
     "data": {
      "text/plain": "{'self_consumption': 1.6052307283912177}"
     },
     "execution_count": 9,
     "metadata": {},
     "output_type": "execute_result"
    }
   ],
   "source": [
    "# Do a list of metrics at once\n",
    "\n",
    "metric.check_metrics_2inputs(components_a=decoded_resources['genActPower'],\n",
    "                             components_b=decoded_resources['loadActPower'],\n",
    "                             metric_list=['self_consumption'])"
   ],
   "metadata": {
    "collapsed": false,
    "ExecuteTime": {
     "end_time": "2023-07-26T12:10:09.454943900Z",
     "start_time": "2023-07-26T12:10:09.447616700Z"
    }
   }
  },
  {
   "cell_type": "code",
   "execution_count": 10,
   "outputs": [
    {
     "name": "stdout",
     "output_type": "stream",
     "text": [
      "The requested metric is not available with provided inputs:  total_consumed\n"
     ]
    },
    {
     "data": {
      "text/plain": "{'self_consumption': 1.6052307283912177, 'total_consumed': None}"
     },
     "execution_count": 10,
     "metadata": {},
     "output_type": "execute_result"
    }
   ],
   "source": [
    "# Try to get an error\n",
    "# Total consumption is not a valid metric with two components\n",
    "\n",
    "metric.check_metrics_2inputs(components_a=decoded_resources['genActPower'],\n",
    "                             components_b=decoded_resources['loadActPower'],\n",
    "                             metric_list=['self_consumption',\n",
    "                                          'total_consumed'])"
   ],
   "metadata": {
    "collapsed": false,
    "ExecuteTime": {
     "end_time": "2023-07-26T12:10:11.624192800Z",
     "start_time": "2023-07-26T12:10:11.617054500Z"
    }
   }
  },
  {
   "cell_type": "code",
   "execution_count": 11,
   "outputs": [
    {
     "data": {
      "text/plain": "{'total_consumed': 342.4098855999999}"
     },
     "execution_count": 11,
     "metadata": {},
     "output_type": "execute_result"
    }
   ],
   "source": [
    "# Do note that the following metrics do not make sense to be called like this.\n",
    "# Use at own discretion\n",
    "\n",
    "metric.check_metrics_1input(decoded_resources['loadActPower'],\n",
    "                            metric_list=['total_consumed'])"
   ],
   "metadata": {
    "collapsed": false,
    "ExecuteTime": {
     "end_time": "2023-07-26T12:10:12.222682900Z",
     "start_time": "2023-07-26T12:10:12.216818800Z"
    }
   }
  },
  {
   "cell_type": "code",
   "execution_count": 14,
   "outputs": [
    {
     "name": "stdout",
     "output_type": "stream",
     "text": [
      "Self consumption:  0.9999999999999998\n",
      "Cost:  -366.6457024117808\n"
     ]
    }
   ],
   "source": [
    "# Calculate the self sufficiency of the community\n",
    "\n",
    "production_list = ['genActPower', 'loadCutActPower', 'loadRedActPower', 'loadENS',\n",
    "                   'storDchActPower', 'v2gDchActPower']\n",
    "\n",
    "consumption_list = ['genExcActPower', 'loadActPower', 'storChActPower',\n",
    "                    'v2gChActPower']\n",
    "\n",
    "# Append all the production values to a single array. Need to go a level deeper\n",
    "community_productions = np.array([decoded_resources[prod][prod_elem]\n",
    "                                  for prod in production_list\n",
    "                                  for prod_elem in range(len(decoded_resources[prod]))])\n",
    "community_productions = np.append(community_productions, decoded_resources['pImp'])\n",
    "\n",
    "# Same for the consumption values\n",
    "community_consumptions = np.array([decoded_resources[cons][cons_elem]\n",
    "                                   for cons in consumption_list\n",
    "                                   for cons_elem in range(len(decoded_resources[cons]))])\n",
    "community_consumptions = np.append(community_consumptions, decoded_resources['pExp'])\n",
    "\n",
    "print('Self consumption: ', metric.cmd_self_consumption(community_productions, community_consumptions))\n",
    "print('Cost: ', metric.cmd_energy_costs(community_productions[:-1], community_consumptions[:-1]))"
   ],
   "metadata": {
    "collapsed": false,
    "ExecuteTime": {
     "end_time": "2023-07-26T12:11:02.402689200Z",
     "start_time": "2023-07-26T12:11:02.397939800Z"
    }
   }
  },
  {
   "cell_type": "code",
   "execution_count": null,
   "outputs": [],
   "source": [],
   "metadata": {
    "collapsed": false
   }
  }
 ],
 "metadata": {
  "kernelspec": {
   "display_name": "Python 3",
   "language": "python",
   "name": "python3"
  },
  "language_info": {
   "codemirror_mode": {
    "name": "ipython",
    "version": 2
   },
   "file_extension": ".py",
   "mimetype": "text/x-python",
   "name": "python",
   "nbconvert_exporter": "python",
   "pygments_lexer": "ipython2",
   "version": "2.7.6"
  }
 },
 "nbformat": 4,
 "nbformat_minor": 0
}

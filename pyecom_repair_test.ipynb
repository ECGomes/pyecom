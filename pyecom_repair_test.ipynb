{
 "cells": [
  {
   "cell_type": "code",
   "execution_count": 1,
   "metadata": {
    "collapsed": true,
    "ExecuteTime": {
     "end_time": "2023-07-20T00:27:31.044749Z",
     "start_time": "2023-07-20T00:27:30.746949200Z"
    }
   },
   "outputs": [],
   "source": [
    "#  Imports\n",
    "\n",
    "from src.parsers import HMParser\n",
    "from src.repairs import PymooHMRepair\n",
    "from src.scenes import PymooHMProblem\n",
    "\n",
    "# ignore the warnings (only demonstration purposes!)\n",
    "import warnings\n",
    "warnings.filterwarnings(\"ignore\")"
   ]
  },
  {
   "cell_type": "code",
   "execution_count": 2,
   "outputs": [],
   "source": [
    "# Data parsing\n",
    "\n",
    "data = HMParser(file_path='data/EC_V4.xlsx', ec_id=1)\n",
    "data.parse()"
   ],
   "metadata": {
    "collapsed": false,
    "ExecuteTime": {
     "end_time": "2023-07-20T00:27:38.221446200Z",
     "start_time": "2023-07-20T00:27:37.409913600Z"
    }
   }
  },
  {
   "cell_type": "code",
   "execution_count": 3,
   "outputs": [
    {
     "name": "stdout",
     "output_type": "stream",
     "text": [
      "30\n",
      "=================================================\n",
      "n_gen  |  n_eval  |     f_avg     |     f_min    \n",
      "=================================================\n",
      "     1 |       30 |  2.971584E+05 |  3.226060E+03\n",
      "30\n",
      "     2 |       60 |  2.571304E+05 |  3.226060E+03\n",
      "30\n",
      "     3 |       90 |  2.170305E+05 |  3.226060E+03\n",
      "30\n",
      "     4 |      120 |  2.069434E+05 |  3.226060E+03\n",
      "30\n",
      "     5 |      150 |  1.668896E+05 |  3.226060E+03\n",
      "30\n",
      "     6 |      180 |  1.434694E+05 |  2.858928E+03\n",
      "30\n",
      "     7 |      210 |  1.267524E+05 |  2.800115E+03\n",
      "30\n",
      "     8 |      240 |  1.134015E+05 |  2.800115E+03\n",
      "30\n",
      "     9 |      270 |  9.002036E+04 |  2.800115E+03\n",
      "30\n",
      "    10 |      300 |  8.326645E+04 |  2.789214E+03\n",
      "30\n",
      "    11 |      330 |  7.989347E+04 |  2.659967E+03\n",
      "30\n",
      "    12 |      360 |  7.318693E+04 |  2.659967E+03\n",
      "30\n",
      "    13 |      390 |  6.983973E+04 |  2.659967E+03\n",
      "30\n",
      "    14 |      420 |  6.311972E+04 |  2.659967E+03\n",
      "30\n",
      "    15 |      450 |  4.974545E+04 |  2.474752E+03\n",
      "30\n",
      "    16 |      480 |  4.299291E+04 |  2.285381E+03\n",
      "30\n",
      "    17 |      510 |  3.625760E+04 |  2.193477E+03\n",
      "30\n",
      "    18 |      540 |  2.617557E+04 |  2.193477E+03\n",
      "30\n",
      "    19 |      570 |  1.278825E+04 |  2.193477E+03\n",
      "30\n",
      "    20 |      600 |  1.271342E+04 |  2.150007E+03\n"
     ]
    }
   ],
   "source": [
    "# Pymoo imports\n",
    "\n",
    "from pymoo.algorithms.soo.nonconvex.de import DE\n",
    "from pymoo.operators.sampling.lhs import LHS\n",
    "from pymoo.optimize import minimize\n",
    "from pymoo.termination.default import DefaultSingleObjectiveTermination\n",
    "\n",
    "algorithm = DE(pop_size=30,\n",
    "               sampling=LHS(),\n",
    "               variant=\"DE/rand/1/bin\",\n",
    "               CR=0.3,\n",
    "               dither=\"vector\",\n",
    "               jitter=False,\n",
    "               repair=PymooHMRepair(data=data))\n",
    "\n",
    "\n",
    "# Default termination:\n",
    "termination = DefaultSingleObjectiveTermination(xtol=1e-8,\n",
    "                                                cvtol=1e-6,\n",
    "                                                ftol=1e-6,\n",
    "                                                period=1000,\n",
    "                                                n_max_gen=2e1,\n",
    "                                                n_max_evals=5e9)\n",
    "\n",
    "customProblem = PymooHMProblem(data=data)\n",
    "\n",
    "temp_res = minimize(customProblem,\n",
    "                    algorithm,\n",
    "                    termination=termination,\n",
    "                    save_history=False,\n",
    "                    verbose=True)"
   ],
   "metadata": {
    "collapsed": false,
    "ExecuteTime": {
     "end_time": "2023-07-20T00:27:41.104574400Z",
     "start_time": "2023-07-20T00:27:39.030045600Z"
    }
   }
  },
  {
   "cell_type": "code",
   "execution_count": 6,
   "outputs": [
    {
     "data": {
      "text/plain": "array([2150.00677873])"
     },
     "execution_count": 6,
     "metadata": {},
     "output_type": "execute_result"
    }
   ],
   "source": [
    "# Obj function value\n",
    "\n",
    "temp_res.F"
   ],
   "metadata": {
    "collapsed": false,
    "ExecuteTime": {
     "end_time": "2023-07-20T00:28:03.087709300Z",
     "start_time": "2023-07-20T00:28:03.081145Z"
    }
   }
  },
  {
   "cell_type": "code",
   "execution_count": null,
   "outputs": [],
   "source": [],
   "metadata": {
    "collapsed": false
   }
  }
 ],
 "metadata": {
  "kernelspec": {
   "display_name": "Python 3",
   "language": "python",
   "name": "python3"
  },
  "language_info": {
   "codemirror_mode": {
    "name": "ipython",
    "version": 2
   },
   "file_extension": ".py",
   "mimetype": "text/x-python",
   "name": "python",
   "nbconvert_exporter": "python",
   "pygments_lexer": "ipython2",
   "version": "2.7.6"
  }
 },
 "nbformat": 4,
 "nbformat_minor": 0
}

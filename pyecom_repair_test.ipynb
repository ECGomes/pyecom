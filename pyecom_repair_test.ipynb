{
 "cells": [
  {
   "cell_type": "code",
   "execution_count": 1,
   "metadata": {
    "collapsed": true,
    "ExecuteTime": {
     "end_time": "2023-07-25T23:51:24.587369400Z",
     "start_time": "2023-07-25T23:51:23.949623800Z"
    }
   },
   "outputs": [],
   "source": [
    "#  Imports\n",
    "\n",
    "from src.parsers import HMParser\n",
    "from src.repairs import PymooHMRepair\n",
    "from src.scenes import PymooHMProblem\n",
    "\n",
    "from src.metrics import CommunityMetrics\n",
    "\n",
    "# ignore the warnings (only demonstration purposes!)\n",
    "import warnings\n",
    "warnings.filterwarnings(\"ignore\")"
   ]
  },
  {
   "cell_type": "code",
   "execution_count": 2,
   "outputs": [],
   "source": [
    "# Data parsing\n",
    "\n",
    "data = HMParser(file_path='data/EC_V4.xlsx', ec_id=1)\n",
    "data.parse()"
   ],
   "metadata": {
    "collapsed": false,
    "ExecuteTime": {
     "end_time": "2023-07-25T23:51:25.992364700Z",
     "start_time": "2023-07-25T23:51:25.288815500Z"
    }
   }
  },
  {
   "cell_type": "code",
   "execution_count": 3,
   "outputs": [
    {
     "name": "stdout",
     "output_type": "stream",
     "text": [
      "30\n",
      "=================================================\n",
      "n_gen  |  n_eval  |     f_avg     |     f_min    \n",
      "=================================================\n",
      "     1 |       30 |  3.104912E+05 |  2.904377E+03\n",
      "30\n",
      "     2 |       60 |  2.537017E+05 |  2.904377E+03\n",
      "30\n",
      "     3 |       90 |  2.169779E+05 |  2.904377E+03\n",
      "30\n",
      "     4 |      120 |  1.802673E+05 |  2.904377E+03\n",
      "30\n",
      "     5 |      150 |  1.701975E+05 |  2.904377E+03\n",
      "30\n",
      "     6 |      180 |  1.534547E+05 |  2.904377E+03\n",
      "30\n",
      "     7 |      210 |  1.300144E+05 |  2.547782E+03\n",
      "30\n",
      "     8 |      240 |  1.032669E+05 |  2.547782E+03\n",
      "30\n",
      "     9 |      270 |  8.985193E+04 |  2.547782E+03\n",
      "30\n",
      "    10 |      300 |  7.643880E+04 |  2.534870E+03\n",
      "30\n",
      "    11 |      330 |  6.637748E+04 |  2.534870E+03\n",
      "30\n",
      "    12 |      360 |  5.628706E+04 |  2.477291E+03\n",
      "30\n",
      "    13 |      390 |  3.625125E+04 |  2.477291E+03\n",
      "30\n",
      "    14 |      420 |  3.622289E+04 |  2.440779E+03\n",
      "30\n",
      "    15 |      450 |  3.617873E+04 |  2.410607E+03\n",
      "30\n",
      "    16 |      480 |  2.610928E+04 |  2.380575E+03\n",
      "30\n",
      "    17 |      510 |  1.939543E+04 |  2.354254E+03\n",
      "30\n",
      "    18 |      540 |  1.604874E+04 |  2.354254E+03\n",
      "30\n",
      "    19 |      570 |  1.264895E+04 |  2.262714E+03\n",
      "30\n",
      "    20 |      600 |  1.261479E+04 |  2.172755E+03\n"
     ]
    }
   ],
   "source": [
    "# Pymoo imports\n",
    "\n",
    "from pymoo.algorithms.soo.nonconvex.de import DE\n",
    "from pymoo.operators.sampling.lhs import LHS\n",
    "from pymoo.optimize import minimize\n",
    "from pymoo.termination.default import DefaultSingleObjectiveTermination\n",
    "\n",
    "algorithm = DE(pop_size=30,\n",
    "               sampling=LHS(),\n",
    "               variant=\"DE/rand/1/bin\",\n",
    "               CR=0.3,\n",
    "               dither=\"vector\",\n",
    "               jitter=False,\n",
    "               repair=PymooHMRepair(data=data))\n",
    "\n",
    "\n",
    "# Default termination:\n",
    "termination = DefaultSingleObjectiveTermination(xtol=1e-8,\n",
    "                                                cvtol=1e-6,\n",
    "                                                ftol=1e-6,\n",
    "                                                period=1000,\n",
    "                                                n_max_gen=2e1,\n",
    "                                                n_max_evals=5e9)\n",
    "\n",
    "customProblem = PymooHMProblem(data=data)\n",
    "\n",
    "temp_res = minimize(customProblem,\n",
    "                    algorithm,\n",
    "                    termination=termination,\n",
    "                    save_history=False,\n",
    "                    verbose=True)"
   ],
   "metadata": {
    "collapsed": false,
    "ExecuteTime": {
     "end_time": "2023-07-25T23:51:28.404150700Z",
     "start_time": "2023-07-25T23:51:26.578241400Z"
    }
   }
  },
  {
   "cell_type": "code",
   "execution_count": 4,
   "outputs": [
    {
     "data": {
      "text/plain": "array([2172.75488886])"
     },
     "execution_count": 4,
     "metadata": {},
     "output_type": "execute_result"
    }
   ],
   "source": [
    "# Obj function value\n",
    "\n",
    "temp_res.F"
   ],
   "metadata": {
    "collapsed": false,
    "ExecuteTime": {
     "end_time": "2023-07-25T23:51:30.291750900Z",
     "start_time": "2023-07-25T23:51:30.280336Z"
    }
   }
  },
  {
   "cell_type": "code",
   "execution_count": 5,
   "outputs": [],
   "source": [
    "# Solution\n",
    "\n",
    "decoded_resources = customProblem.decode(temp_res.X)"
   ],
   "metadata": {
    "collapsed": false,
    "ExecuteTime": {
     "end_time": "2023-07-25T23:51:31.045051700Z",
     "start_time": "2023-07-25T23:51:31.038891700Z"
    }
   }
  },
  {
   "cell_type": "code",
   "execution_count": 6,
   "outputs": [
    {
     "data": {
      "text/plain": "{'genActPower': [genActPower_00,\n  genActPower_01,\n  genActPower_02,\n  genActPower_03,\n  genActPower_04,\n  genActPower_05,\n  genActPower_06],\n 'genExcActPower': [genExcActPower_00,\n  genExcActPower_01,\n  genExcActPower_02,\n  genExcActPower_03,\n  genExcActPower_04,\n  genExcActPower_05,\n  genExcActPower_06],\n 'pImp': pImp,\n 'pExp': pExp,\n 'loadRedActPower': [loadRedActPower_00,\n  loadRedActPower_01,\n  loadRedActPower_02,\n  loadRedActPower_03,\n  loadRedActPower_04,\n  loadRedActPower_05],\n 'loadCutActPower': [loadCutActPower_00,\n  loadCutActPower_01,\n  loadCutActPower_02,\n  loadCutActPower_03,\n  loadCutActPower_04,\n  loadCutActPower_05],\n 'loadENS': [loadENS_00,\n  loadENS_01,\n  loadENS_02,\n  loadENS_03,\n  loadENS_04,\n  loadENS_05],\n 'loadActPower': [loadActPower_00,\n  loadActPower_01,\n  loadActPower_02,\n  loadActPower_03,\n  loadActPower_04,\n  loadActPower_05],\n 'storDchActPower': [storDchActPower_00,\n  storDchActPower_01,\n  storDchActPower_02],\n 'storChActPower': [storChActPower_00, storChActPower_01, storChActPower_02],\n 'storEnerState': [storEnerState_00, storEnerState_01, storEnerState_02],\n 'v2gDchActPower': [v2gDchActPower_00,\n  v2gDchActPower_01,\n  v2gDchActPower_02,\n  v2gDchActPower_03,\n  v2gDchActPower_04],\n 'v2gChActPower': [v2gChActPower_00,\n  v2gChActPower_01,\n  v2gChActPower_02,\n  v2gChActPower_03,\n  v2gChActPower_04],\n 'v2gEnerState': [v2gEnerState_00,\n  v2gEnerState_01,\n  v2gEnerState_02,\n  v2gEnerState_03,\n  v2gEnerState_04]}"
     },
     "execution_count": 6,
     "metadata": {},
     "output_type": "execute_result"
    }
   ],
   "source": [
    "# Show the decoded resources\n",
    "\n",
    "decoded_resources"
   ],
   "metadata": {
    "collapsed": false,
    "ExecuteTime": {
     "end_time": "2023-07-25T23:51:31.684273900Z",
     "start_time": "2023-07-25T23:51:31.677412500Z"
    }
   }
  },
  {
   "cell_type": "code",
   "execution_count": 7,
   "outputs": [
    {
     "name": "stdout",
     "output_type": "stream",
     "text": [
      "Community Metrics available: \n",
      "- self_consumption\n",
      "- prosumer_consumption_community\n",
      "- total_produced\n",
      "- total_consumed\n",
      "- import_export_balance\n",
      "\n"
     ]
    }
   ],
   "source": [
    "# Metrics\n",
    "\n",
    "metric = CommunityMetrics()\n",
    "print(metric)"
   ],
   "metadata": {
    "collapsed": false,
    "ExecuteTime": {
     "end_time": "2023-07-25T23:51:33.092033400Z",
     "start_time": "2023-07-25T23:51:33.086073700Z"
    }
   }
  },
  {
   "cell_type": "code",
   "execution_count": 8,
   "outputs": [
    {
     "data": {
      "text/plain": "0.7511071799622477"
     },
     "execution_count": 8,
     "metadata": {},
     "output_type": "execute_result"
    }
   ],
   "source": [
    "# Check the metrics\n",
    "metric.cmd_self_consumption(production=decoded_resources['genActPower'],\n",
    "                            consumption=decoded_resources['loadActPower'])"
   ],
   "metadata": {
    "collapsed": false,
    "ExecuteTime": {
     "end_time": "2023-07-25T23:51:33.477222300Z",
     "start_time": "2023-07-25T23:51:33.471463800Z"
    }
   }
  },
  {
   "cell_type": "code",
   "execution_count": 10,
   "outputs": [
    {
     "data": {
      "text/plain": "{'self_consumption': 0.7511071799622477,\n 'prosumer_consumption_community': 1.3313679148297612}"
     },
     "execution_count": 10,
     "metadata": {},
     "output_type": "execute_result"
    }
   ],
   "source": [
    "# Do a list of metrics at once\n",
    "\n",
    "metric.check_metrics_2inputs(components_a=decoded_resources['genActPower'],\n",
    "                             components_b=decoded_resources['loadActPower'],\n",
    "                             metric_list=['self_consumption',\n",
    "                                          'prosumer_consumption_community'])"
   ],
   "metadata": {
    "collapsed": false,
    "ExecuteTime": {
     "end_time": "2023-07-25T23:51:50.244393100Z",
     "start_time": "2023-07-25T23:51:50.238482300Z"
    }
   }
  },
  {
   "cell_type": "code",
   "execution_count": 11,
   "outputs": [
    {
     "name": "stdout",
     "output_type": "stream",
     "text": [
      "The requested metric is not available with provided inputs:  total_consumed\n"
     ]
    },
    {
     "data": {
      "text/plain": "{'self_consumption': 0.7511071799622477,\n 'prosumer_consumption_community': 1.3313679148297612,\n 'total_consumed': None}"
     },
     "execution_count": 11,
     "metadata": {},
     "output_type": "execute_result"
    }
   ],
   "source": [
    "# Try to get an error\n",
    "# Total consumption is not a valid metric with two components\n",
    "\n",
    "metric.check_metrics_2inputs(components_a=decoded_resources['genActPower'],\n",
    "                             components_b=decoded_resources['loadActPower'],\n",
    "                             metric_list=['self_consumption',\n",
    "                                          'prosumer_consumption_community',\n",
    "                                          'total_consumed'])"
   ],
   "metadata": {
    "collapsed": false,
    "ExecuteTime": {
     "end_time": "2023-07-25T23:52:10.776448900Z",
     "start_time": "2023-07-25T23:52:10.762885500Z"
    }
   }
  },
  {
   "cell_type": "code",
   "execution_count": 12,
   "outputs": [
    {
     "data": {
      "text/plain": "{'total_consumed': 342.40988559999994, 'total_produced': 342.40988559999994}"
     },
     "execution_count": 12,
     "metadata": {},
     "output_type": "execute_result"
    }
   ],
   "source": [
    "# Do note that the following metrics do not make sense to be called like this.\n",
    "# Use at own discretion\n",
    "\n",
    "metric.check_metrics_1input(decoded_resources['loadActPower'],\n",
    "                            metric_list=['total_consumed',\n",
    "                                         'total_produced'])"
   ],
   "metadata": {
    "collapsed": false,
    "ExecuteTime": {
     "end_time": "2023-07-25T23:52:40.813902Z",
     "start_time": "2023-07-25T23:52:40.809098400Z"
    }
   }
  },
  {
   "cell_type": "code",
   "execution_count": null,
   "outputs": [],
   "source": [],
   "metadata": {
    "collapsed": false
   }
  }
 ],
 "metadata": {
  "kernelspec": {
   "display_name": "Python 3",
   "language": "python",
   "name": "python3"
  },
  "language_info": {
   "codemirror_mode": {
    "name": "ipython",
    "version": 2
   },
   "file_extension": ".py",
   "mimetype": "text/x-python",
   "name": "python",
   "nbconvert_exporter": "python",
   "pygments_lexer": "ipython2",
   "version": "2.7.6"
  }
 },
 "nbformat": 4,
 "nbformat_minor": 0
}

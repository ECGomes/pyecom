{
 "cells": [
  {
   "cell_type": "code",
   "execution_count": 1,
   "id": "initial_id",
   "metadata": {
    "collapsed": true,
    "ExecuteTime": {
     "end_time": "2024-05-08T11:20:27.842215Z",
     "start_time": "2024-05-08T11:20:26.717998Z"
    }
   },
   "outputs": [
    {
     "name": "stdout",
     "output_type": "stream",
     "text": [
      "Importing the dtw module. When using in academic works please cite:\n",
      "  T. Giorgino. Computing and Visualizing Dynamic Time Warping Alignments in R: The dtw Package.\n",
      "  J. Stat. Soft., doi:10.18637/jss.v031.i07.\n"
     ]
    }
   ],
   "source": [
    "# Imports\n",
    "\n",
    "import numpy as np\n",
    "import pandas as pd\n",
    "import matplotlib.pyplot as plt\n",
    "\n",
    "import pickle\n",
    "import glob\n",
    "import dtw"
   ]
  },
  {
   "cell_type": "code",
   "outputs": [],
   "source": [
    "# Load the data\n",
    "\n",
    "milp_data = pickle.load(open('./results/results.pkl', 'rb'))"
   ],
   "metadata": {
    "collapsed": false,
    "ExecuteTime": {
     "end_time": "2024-05-08T11:20:29.580195Z",
     "start_time": "2024-05-08T11:20:29.068479Z"
    }
   },
   "id": "b3aa345db8dcc5eb",
   "execution_count": 2
  },
  {
   "cell_type": "code",
   "outputs": [
    {
     "data": {
      "text/plain": "[<matplotlib.lines.Line2D at 0x13b3a7890>]"
     },
     "execution_count": 3,
     "metadata": {},
     "output_type": "execute_result"
    },
    {
     "data": {
      "text/plain": "<Figure size 640x480 with 1 Axes>",
      "image/png": "[encoded data removed]"
     },
     "metadata": {},
     "output_type": "display_data"
    }
   ],
   "source": [
    "plt.plot(milp_data['2019-01-01']['imports'])\n",
    "plt.plot(milp_data['2019-01-01']['exports'])"
   ],
   "metadata": {
    "collapsed": false,
    "ExecuteTime": {
     "end_time": "2024-05-08T11:20:46.344902Z",
     "start_time": "2024-05-08T11:20:46.161162Z"
    }
   },
   "id": "981b2a38e61253c0",
   "execution_count": 3
  },
  {
   "cell_type": "code",
   "outputs": [
    {
     "data": {
      "text/plain": "dict_keys(['genPower', 'genExcessPower', 'imports', 'exports', 'loadReducePower', 'loadCutPower', 'loadEnsPower', 'storageDischargePower', 'storageChargePower', 'storageState', 'v2gDischargePower', 'v2gChargePower', 'v2gState'])"
     },
     "execution_count": 57,
     "metadata": {},
     "output_type": "execute_result"
    }
   ],
   "source": [
    "# Check MILP data\n",
    "\n",
    "milp_data['2019-01-01'].keys()"
   ],
   "metadata": {
    "collapsed": false,
    "ExecuteTime": {
     "end_time": "2024-05-08T01:42:44.152778Z",
     "start_time": "2024-05-08T01:42:44.150599Z"
    }
   },
   "id": "3b476360f7c14c56",
   "execution_count": 57
  },
  {
   "cell_type": "code",
   "outputs": [],
   "source": [
    "# Load the sequential data\n",
    "\n",
    "sequential_data = {}\n",
    "for file in glob.glob('scenarios/sequential_testing/results/sequential/*.csv'):\n",
    "    data = pd.read_csv(file, index_col=0)\n",
    "    name = file.split('/')[-1].split('.')[0].split('_')[1]\n",
    "    sequential_data[name] = data"
   ],
   "metadata": {
    "collapsed": false,
    "ExecuteTime": {
     "end_time": "2024-05-08T01:36:41.588270Z",
     "start_time": "2024-05-08T01:36:41.238067Z"
    }
   },
   "id": "b2360a55d624f9cd",
   "execution_count": 48
  },
  {
   "cell_type": "code",
   "outputs": [
    {
     "data": {
      "text/plain": "    generator_08  generator_06  generator_02  generator_09  generator_13  \\\n0       0.000000      0.000000      0.000000      0.000012      0.000000   \n1       0.000000      0.001365      0.000000      0.000027      0.000000   \n2       0.000000      0.001458      0.000000      0.000025      0.000000   \n3       0.000000      0.001178      0.000000      0.000005      0.000000   \n4       0.000000      0.001430      0.000000      0.000008      0.000000   \n5       0.000000      0.001410      0.000000      0.000067      0.000000   \n6       0.000000      0.001405      0.000000      0.000012      0.000000   \n7       0.000000      0.001458      0.000000      0.000017      0.000000   \n8       0.000000      0.001438      0.000008      0.000110      0.003387   \n9       0.047292      0.010010      0.010902      0.020192      0.013912   \n10      0.163550      0.064383      0.118475      0.122963      0.070004   \n11      0.242413      0.147333      0.414025      0.251408      0.177001   \n12      0.128320      0.366838      0.515613      0.466627      0.542175   \n13      0.143365      0.223808      0.378712      0.000000      1.175445   \n14      0.364883      0.679115      0.000000      0.766588      0.556085   \n15      0.689543      0.421308      0.226225      0.517373      0.213037   \n16      0.776613      0.594762      0.005809      1.470830      0.000000   \n17      0.171855      0.203475      0.140477      0.148232      0.033622   \n18      0.000002      0.002640      0.001098      0.002290      0.000000   \n19      0.000000      0.001425      0.000000      0.000000      0.000000   \n20      0.000000      0.001428      0.000000      0.000000      0.000000   \n21      0.000000      0.001418      0.000000      0.000000      0.000000   \n22      0.000000      0.001487      0.000000      0.000010      0.000000   \n23      0.000000      0.001397      0.000000      0.000065      0.000000   \n\n    storage_01  storage_02  storage_03     ev_01     ev_02     ev_03  \\\n0     0.800000    0.800000    0.800000  0.800000  0.800000  0.800000   \n1     0.787608    0.600000    0.864850  0.813116  0.912679  0.818258   \n2     0.787608    0.400000    0.921541  0.852722  0.997217  0.818258   \n3     0.647528    0.400000    0.921541  0.844037  0.997217  0.833552   \n4     0.482612    0.480339    0.820917  0.824015  0.997217  0.833552   \n5     0.482612    0.428285    0.820917  0.828803  0.997217  0.833552   \n6     0.446455    0.428285    0.591036  0.844059  0.997217  0.833552   \n7     0.246455    0.497237    0.591036  0.844059  0.986884  0.825045   \n8     0.046455    0.560394    0.591036  0.832241  0.986884  0.825045   \n9     0.046455    0.560394    0.591036  0.786482  1.000000  0.845928   \n10    0.000000    0.560394    0.591036  0.786482  1.000000  0.845928   \n11    0.000000    0.560394    0.324369  0.786482  1.000000  0.845928   \n12    0.000000    0.360394    0.324369  0.798859  1.000000  0.938236   \n13    0.000000    0.360394    0.057702  0.798859  1.000000  0.938236   \n14    0.000000    0.360394    0.057702  0.805977  1.000000  0.938236   \n15    0.000000    0.360394    0.015642  0.805977  1.000000  0.938236   \n16    0.000000    0.360394    0.000000  0.805977  1.000000  0.938236   \n17    0.000000    0.160394    0.136688  0.805977  1.000000  0.938236   \n18    0.000000    0.160394    0.000000  0.794160  0.989667  0.929729   \n19    0.000000    0.160394    0.000000  0.794160  0.627900  0.929729   \n20    0.000000    0.126273    0.000000  0.794160  0.627900  1.000000   \n21    0.000000    0.000000    0.000000  0.794160  0.627900  1.000000   \n22    0.000000    0.000000    0.000000  0.794160  0.627900  1.000000   \n23    0.000000    0.000000    0.000000  0.830852  0.654994  1.000000   \n\n       ev_04     ev_05    imports    exports  \n0   0.800000  0.800000   0.000000   0.000012  \n1   0.860414  0.800000   0.000000   5.659424  \n2   0.860414  0.860791   0.000000   5.338918  \n3   0.879778  0.860791   0.000000   1.384647  \n4   0.881556  0.870533   1.114352   0.000000  \n5   0.881556  0.833838   0.000000   1.139811  \n6   0.896511  0.833838   2.169589   0.000000  \n7   0.896511  0.833838   1.178872   0.000000  \n8   0.802567  0.833838   0.730727   0.000000  \n9   0.817355  0.806519   2.109091   0.000000  \n10  0.817355  0.812037   2.572685   0.000000  \n11  0.817355  0.812037   1.662617   0.000000  \n12  0.819893  0.812037   0.000000   3.663249  \n13  0.819893  0.812037   0.775505   0.000000  \n14  0.819893  0.812037   4.300866   0.000000  \n15  0.819893  0.812037   4.314869   0.000000  \n16  0.842031  0.812037   9.505943   0.000000  \n17  0.842031  0.812037   0.000000  10.438585  \n18  0.748086  0.775341   3.546335   0.000000  \n19  0.797770  0.811555   6.451221   0.000000  \n20  0.825578  0.811555  12.252456   0.000000  \n21  0.825578  0.811555   0.000000   3.185308  \n22  0.825578  0.811555   8.974243   0.000000  \n23  0.825578  0.708991   0.983546   0.000000  ",
      "text/html": "<div>\n<style scoped>\n    .dataframe tbody tr th:only-of-type {\n        vertical-align: middle;\n    }\n\n    .dataframe tbody tr th {\n        vertical-align: top;\n    }\n\n    .dataframe thead th {\n        text-align: right;\n    }\n</style>\n<table border=\"1\" class=\"dataframe\">\n  <thead>\n    <tr style=\"text-align: right;\">\n      <th></th>\n      <th>generator_08</th>\n      <th>generator_06</th>\n      <th>generator_02</th>\n      <th>generator_09</th>\n      <th>generator_13</th>\n      <th>storage_01</th>\n      <th>storage_02</th>\n      <th>storage_03</th>\n      <th>ev_01</th>\n      <th>ev_02</th>\n      <th>ev_03</th>\n      <th>ev_04</th>\n      <th>ev_05</th>\n      <th>imports</th>\n      <th>exports</th>\n    </tr>\n  </thead>\n  <tbody>\n    <tr>\n      <th>0</th>\n      <td>0.000000</td>\n      <td>0.000000</td>\n      <td>0.000000</td>\n      <td>0.000012</td>\n      <td>0.000000</td>\n      <td>0.800000</td>\n      <td>0.800000</td>\n      <td>0.800000</td>\n      <td>0.800000</td>\n      <td>0.800000</td>\n      <td>0.800000</td>\n      <td>0.800000</td>\n      <td>0.800000</td>\n      <td>0.000000</td>\n      <td>0.000012</td>\n    </tr>\n    <tr>\n      <th>1</th>\n      <td>0.000000</td>\n      <td>0.001365</td>\n      <td>0.000000</td>\n      <td>0.000027</td>\n      <td>0.000000</td>\n      <td>0.787608</td>\n      <td>0.600000</td>\n      <td>0.864850</td>\n      <td>0.813116</td>\n      <td>0.912679</td>\n      <td>0.818258</td>\n      <td>0.860414</td>\n      <td>0.800000</td>\n      <td>0.000000</td>\n      <td>5.659424</td>\n    </tr>\n    <tr>\n      <th>2</th>\n      <td>0.000000</td>\n      <td>0.001458</td>\n      <td>0.000000</td>\n      <td>0.000025</td>\n      <td>0.000000</td>\n      <td>0.787608</td>\n      <td>0.400000</td>\n      <td>0.921541</td>\n      <td>0.852722</td>\n      <td>0.997217</td>\n      <td>0.818258</td>\n      <td>0.860414</td>\n      <td>0.860791</td>\n      <td>0.000000</td>\n      <td>5.338918</td>\n    </tr>\n    <tr>\n      <th>3</th>\n      <td>0.000000</td>\n      <td>0.001178</td>\n      <td>0.000000</td>\n      <td>0.000005</td>\n      <td>0.000000</td>\n      <td>0.647528</td>\n      <td>0.400000</td>\n      <td>0.921541</td>\n      <td>0.844037</td>\n      <td>0.997217</td>\n      <td>0.833552</td>\n      <td>0.879778</td>\n      <td>0.860791</td>\n      <td>0.000000</td>\n      <td>1.384647</td>\n    </tr>\n    <tr>\n      <th>4</th>\n      <td>0.000000</td>\n      <td>0.001430</td>\n      <td>0.000000</td>\n      <td>0.000008</td>\n      <td>0.000000</td>\n      <td>0.482612</td>\n      <td>0.480339</td>\n      <td>0.820917</td>\n      <td>0.824015</td>\n      <td>0.997217</td>\n      <td>0.833552</td>\n      <td>0.881556</td>\n      <td>0.870533</td>\n      <td>1.114352</td>\n      <td>0.000000</td>\n    </tr>\n    <tr>\n      <th>5</th>\n      <td>0.000000</td>\n      <td>0.001410</td>\n      <td>0.000000</td>\n      <td>0.000067</td>\n      <td>0.000000</td>\n      <td>0.482612</td>\n      <td>0.428285</td>\n      <td>0.820917</td>\n      <td>0.828803</td>\n      <td>0.997217</td>\n      <td>0.833552</td>\n      <td>0.881556</td>\n      <td>0.833838</td>\n      <td>0.000000</td>\n      <td>1.139811</td>\n    </tr>\n    <tr>\n      <th>6</th>\n      <td>0.000000</td>\n      <td>0.001405</td>\n      <td>0.000000</td>\n      <td>0.000012</td>\n      <td>0.000000</td>\n      <td>0.446455</td>\n      <td>0.428285</td>\n      <td>0.591036</td>\n      <td>0.844059</td>\n      <td>0.997217</td>\n      <td>0.833552</td>\n      <td>0.896511</td>\n      <td>0.833838</td>\n      <td>2.169589</td>\n      <td>0.000000</td>\n    </tr>\n    <tr>\n      <th>7</th>\n      <td>0.000000</td>\n      <td>0.001458</td>\n      <td>0.000000</td>\n      <td>0.000017</td>\n      <td>0.000000</td>\n      <td>0.246455</td>\n      <td>0.497237</td>\n      <td>0.591036</td>\n      <td>0.844059</td>\n      <td>0.986884</td>\n      <td>0.825045</td>\n      <td>0.896511</td>\n      <td>0.833838</td>\n      <td>1.178872</td>\n      <td>0.000000</td>\n    </tr>\n    <tr>\n      <th>8</th>\n      <td>0.000000</td>\n      <td>0.001438</td>\n      <td>0.000008</td>\n      <td>0.000110</td>\n      <td>0.003387</td>\n      <td>0.046455</td>\n      <td>0.560394</td>\n      <td>0.591036</td>\n      <td>0.832241</td>\n      <td>0.986884</td>\n      <td>0.825045</td>\n      <td>0.802567</td>\n      <td>0.833838</td>\n      <td>0.730727</td>\n      <td>0.000000</td>\n    </tr>\n    <tr>\n      <th>9</th>\n      <td>0.047292</td>\n      <td>0.010010</td>\n      <td>0.010902</td>\n      <td>0.020192</td>\n      <td>0.013912</td>\n      <td>0.046455</td>\n      <td>0.560394</td>\n      <td>0.591036</td>\n      <td>0.786482</td>\n      <td>1.000000</td>\n      <td>0.845928</td>\n      <td>0.817355</td>\n      <td>0.806519</td>\n      <td>2.109091</td>\n      <td>0.000000</td>\n    </tr>\n    <tr>\n      <th>10</th>\n      <td>0.163550</td>\n      <td>0.064383</td>\n      <td>0.118475</td>\n      <td>0.122963</td>\n      <td>0.070004</td>\n      <td>0.000000</td>\n      <td>0.560394</td>\n      <td>0.591036</td>\n      <td>0.786482</td>\n      <td>1.000000</td>\n      <td>0.845928</td>\n      <td>0.817355</td>\n      <td>0.812037</td>\n      <td>2.572685</td>\n      <td>0.000000</td>\n    </tr>\n    <tr>\n      <th>11</th>\n      <td>0.242413</td>\n      <td>0.147333</td>\n      <td>0.414025</td>\n      <td>0.251408</td>\n      <td>0.177001</td>\n      <td>0.000000</td>\n      <td>0.560394</td>\n      <td>0.324369</td>\n      <td>0.786482</td>\n      <td>1.000000</td>\n      <td>0.845928</td>\n      <td>0.817355</td>\n      <td>0.812037</td>\n      <td>1.662617</td>\n      <td>0.000000</td>\n    </tr>\n    <tr>\n      <th>12</th>\n      <td>0.128320</td>\n      <td>0.366838</td>\n      <td>0.515613</td>\n      <td>0.466627</td>\n      <td>0.542175</td>\n      <td>0.000000</td>\n      <td>0.360394</td>\n      <td>0.324369</td>\n      <td>0.798859</td>\n      <td>1.000000</td>\n      <td>0.938236</td>\n      <td>0.819893</td>\n      <td>0.812037</td>\n      <td>0.000000</td>\n      <td>3.663249</td>\n    </tr>\n    <tr>\n      <th>13</th>\n      <td>0.143365</td>\n      <td>0.223808</td>\n      <td>0.378712</td>\n      <td>0.000000</td>\n      <td>1.175445</td>\n      <td>0.000000</td>\n      <td>0.360394</td>\n      <td>0.057702</td>\n      <td>0.798859</td>\n      <td>1.000000</td>\n      <td>0.938236</td>\n      <td>0.819893</td>\n      <td>0.812037</td>\n      <td>0.775505</td>\n      <td>0.000000</td>\n    </tr>\n    <tr>\n      <th>14</th>\n      <td>0.364883</td>\n      <td>0.679115</td>\n      <td>0.000000</td>\n      <td>0.766588</td>\n      <td>0.556085</td>\n      <td>0.000000</td>\n      <td>0.360394</td>\n      <td>0.057702</td>\n      <td>0.805977</td>\n      <td>1.000000</td>\n      <td>0.938236</td>\n      <td>0.819893</td>\n      <td>0.812037</td>\n      <td>4.300866</td>\n      <td>0.000000</td>\n    </tr>\n    <tr>\n      <th>15</th>\n      <td>0.689543</td>\n      <td>0.421308</td>\n      <td>0.226225</td>\n      <td>0.517373</td>\n      <td>0.213037</td>\n      <td>0.000000</td>\n      <td>0.360394</td>\n      <td>0.015642</td>\n      <td>0.805977</td>\n      <td>1.000000</td>\n      <td>0.938236</td>\n      <td>0.819893</td>\n      <td>0.812037</td>\n      <td>4.314869</td>\n      <td>0.000000</td>\n    </tr>\n    <tr>\n      <th>16</th>\n      <td>0.776613</td>\n      <td>0.594762</td>\n      <td>0.005809</td>\n      <td>1.470830</td>\n      <td>0.000000</td>\n      <td>0.000000</td>\n      <td>0.360394</td>\n      <td>0.000000</td>\n      <td>0.805977</td>\n      <td>1.000000</td>\n      <td>0.938236</td>\n      <td>0.842031</td>\n      <td>0.812037</td>\n      <td>9.505943</td>\n      <td>0.000000</td>\n    </tr>\n    <tr>\n      <th>17</th>\n      <td>0.171855</td>\n      <td>0.203475</td>\n      <td>0.140477</td>\n      <td>0.148232</td>\n      <td>0.033622</td>\n      <td>0.000000</td>\n      <td>0.160394</td>\n      <td>0.136688</td>\n      <td>0.805977</td>\n      <td>1.000000</td>\n      <td>0.938236</td>\n      <td>0.842031</td>\n      <td>0.812037</td>\n      <td>0.000000</td>\n      <td>10.438585</td>\n    </tr>\n    <tr>\n      <th>18</th>\n      <td>0.000002</td>\n      <td>0.002640</td>\n      <td>0.001098</td>\n      <td>0.002290</td>\n      <td>0.000000</td>\n      <td>0.000000</td>\n      <td>0.160394</td>\n      <td>0.000000</td>\n      <td>0.794160</td>\n      <td>0.989667</td>\n      <td>0.929729</td>\n      <td>0.748086</td>\n      <td>0.775341</td>\n      <td>3.546335</td>\n      <td>0.000000</td>\n    </tr>\n    <tr>\n      <th>19</th>\n      <td>0.000000</td>\n      <td>0.001425</td>\n      <td>0.000000</td>\n      <td>0.000000</td>\n      <td>0.000000</td>\n      <td>0.000000</td>\n      <td>0.160394</td>\n      <td>0.000000</td>\n      <td>0.794160</td>\n      <td>0.627900</td>\n      <td>0.929729</td>\n      <td>0.797770</td>\n      <td>0.811555</td>\n      <td>6.451221</td>\n      <td>0.000000</td>\n    </tr>\n    <tr>\n      <th>20</th>\n      <td>0.000000</td>\n      <td>0.001428</td>\n      <td>0.000000</td>\n      <td>0.000000</td>\n      <td>0.000000</td>\n      <td>0.000000</td>\n      <td>0.126273</td>\n      <td>0.000000</td>\n      <td>0.794160</td>\n      <td>0.627900</td>\n      <td>1.000000</td>\n      <td>0.825578</td>\n      <td>0.811555</td>\n      <td>12.252456</td>\n      <td>0.000000</td>\n    </tr>\n    <tr>\n      <th>21</th>\n      <td>0.000000</td>\n      <td>0.001418</td>\n      <td>0.000000</td>\n      <td>0.000000</td>\n      <td>0.000000</td>\n      <td>0.000000</td>\n      <td>0.000000</td>\n      <td>0.000000</td>\n      <td>0.794160</td>\n      <td>0.627900</td>\n      <td>1.000000</td>\n      <td>0.825578</td>\n      <td>0.811555</td>\n      <td>0.000000</td>\n      <td>3.185308</td>\n    </tr>\n    <tr>\n      <th>22</th>\n      <td>0.000000</td>\n      <td>0.001487</td>\n      <td>0.000000</td>\n      <td>0.000010</td>\n      <td>0.000000</td>\n      <td>0.000000</td>\n      <td>0.000000</td>\n      <td>0.000000</td>\n      <td>0.794160</td>\n      <td>0.627900</td>\n      <td>1.000000</td>\n      <td>0.825578</td>\n      <td>0.811555</td>\n      <td>8.974243</td>\n      <td>0.000000</td>\n    </tr>\n    <tr>\n      <th>23</th>\n      <td>0.000000</td>\n      <td>0.001397</td>\n      <td>0.000000</td>\n      <td>0.000065</td>\n      <td>0.000000</td>\n      <td>0.000000</td>\n      <td>0.000000</td>\n      <td>0.000000</td>\n      <td>0.830852</td>\n      <td>0.654994</td>\n      <td>1.000000</td>\n      <td>0.825578</td>\n      <td>0.708991</td>\n      <td>0.983546</td>\n      <td>0.000000</td>\n    </tr>\n  </tbody>\n</table>\n</div>"
     },
     "execution_count": 49,
     "metadata": {},
     "output_type": "execute_result"
    }
   ],
   "source": [
    "sequential_data['2019-01-01']"
   ],
   "metadata": {
    "collapsed": false,
    "ExecuteTime": {
     "end_time": "2024-05-08T01:36:42.305928Z",
     "start_time": "2024-05-08T01:36:42.294621Z"
    }
   },
   "id": "9fa4a55ef129e014",
   "execution_count": 49
  },
  {
   "cell_type": "code",
   "outputs": [],
   "source": [
    "# Regular RL\n",
    "\n",
    "regular_data = {}\n",
    "for file in glob.glob('scenarios/sequential_testing/results/multiagent/*.csv'):\n",
    "    data = pd.read_csv(file, index_col=0)\n",
    "    name = file.split('/')[-1].split('.')[0].split('_')[1]\n",
    "    regular_data[name] = data"
   ],
   "metadata": {
    "collapsed": false,
    "ExecuteTime": {
     "end_time": "2024-05-08T00:54:37.570955Z",
     "start_time": "2024-05-08T00:54:37.195503Z"
    }
   },
   "id": "a517b46f80825f5d",
   "execution_count": 29
  },
  {
   "cell_type": "code",
   "outputs": [
    {
     "data": {
      "text/plain": "    generator_08  generator_06  generator_02  generator_09  generator_13  \\\n0       0.000000      0.001452      0.000000      0.000012      0.000000   \n1       0.000000      0.000000      0.000000      0.000000      0.000000   \n2       0.000000      0.001458      0.000000      0.000025      0.000000   \n3       0.000000      0.000000      0.000000      0.000000      0.000000   \n4       0.000000      0.001430      0.000000      0.000008      0.000000   \n5       0.000000      0.000000      0.000000      0.000000      0.000000   \n6       0.000000      0.001405      0.000000      0.000012      0.000000   \n7       0.000000      0.000000      0.000000      0.000000      0.000000   \n8       0.000000      0.001438      0.000008      0.000110      0.003387   \n9       0.000000      0.000000      0.000000      0.000000      0.000000   \n10      0.163550      0.064383      0.118475      0.122963      0.102425   \n11      0.000000      0.000000      0.000000      0.000000      0.000000   \n12      0.128320      0.366838      0.439168      0.466627      0.546347   \n13      0.000000      0.000000      0.000000      0.000000      0.000000   \n14      0.364883      0.679115      0.171250      0.766588      0.556085   \n15      0.000000      0.000000      0.000000      0.000000      0.000000   \n16      0.776613      0.594762      0.142318      1.470830      0.173382   \n17      0.000000      0.000000      0.000000      0.000000      0.000000   \n18      0.000002      0.002640      0.001098      0.002290      0.000000   \n19      0.000000      0.000000      0.000000      0.000000      0.000000   \n20      0.000000      0.001028      0.000000      0.000000      0.000000   \n21      0.000000      0.000000      0.000000      0.000000      0.000000   \n22      0.000000      0.001487      0.000000      0.000010      0.000000   \n23      0.000000      0.000000      0.000000      0.000000      0.000000   \n\n       ev_01     ev_02     ev_03     ev_04     ev_05  storage_01  storage_02  \\\n0   0.800000  0.800000  0.800000  0.800000  0.816275         0.8         0.8   \n1   0.200000  0.200000  0.200000  0.200000  0.200000         0.8         0.8   \n2   0.200000  0.200000  0.200000  0.200000  0.200000         0.8         0.8   \n3   0.200000  0.200000  0.200000  0.200000  0.200000         0.8         0.8   \n4   0.200000  0.200000  0.200000  0.200000  0.200000         0.8         0.8   \n5   0.200000  0.200000  0.200000  0.200000  0.200000         0.8         0.8   \n6   0.200000  0.200000  0.200000  0.200000  0.200000         0.8         0.8   \n7   0.200000  0.200000  0.200000  0.200000  0.200000         0.8         0.8   \n8   0.188182  0.200000  0.200000  0.106056  0.200000         0.8         0.8   \n9   0.200000  0.200000  0.200000  0.200000  0.200000         0.8         0.8   \n10  0.200000  0.200000  0.200000  0.200000  0.200000         0.8         0.8   \n11  0.200000  0.200000  0.200000  0.200000  0.200000         0.8         0.8   \n12  0.200000  0.200000  0.200000  0.200000  0.200000         0.8         0.8   \n13  0.200000  0.200000  0.200000  0.200000  0.200000         0.8         0.8   \n14  0.200000  0.200000  0.200000  0.200000  0.200000         0.8         0.8   \n15  0.200000  0.200000  0.200000  0.200000  0.200000         0.8         0.8   \n16  0.200000  0.200000  0.200000  0.200000  0.200000         0.8         0.8   \n17  0.200000  0.200000  0.200000  0.200000  0.200000         0.8         0.8   \n18  0.188182  0.189667  0.191493  0.106056  0.163305         0.8         0.8   \n19  0.200000  0.200000  0.200000  0.200000  0.200000         0.8         0.8   \n20  0.200000  0.200000  0.200000  0.200000  0.200000         0.8         0.8   \n21  0.200000  0.200000  0.200000  0.200000  0.200000         0.8         0.8   \n22  0.200000  0.200000  0.200000  0.200000  0.200000         0.8         0.8   \n23  0.200000  0.200000  0.200000  0.200000  0.200000         0.8         0.8   \n\n    storage_03  aggregator   imports   exports  \n0          0.8         0.0  1.141008  0.000000  \n1          0.8         0.0  0.000000  0.000000  \n2          0.8         0.0  0.000000  0.001483  \n3          0.8         0.0  0.000000  0.000000  \n4          0.8         0.0  0.000000  0.001438  \n5          0.8         0.0  0.000000  0.000000  \n6          0.8         0.0  0.000000  0.001417  \n7          0.8         0.0  0.000000  0.000000  \n8          0.8         0.0  0.000000  0.004943  \n9          0.8         0.0  0.000000  0.000000  \n10         0.8         0.0  0.000000  0.571797  \n11         0.8         0.0  0.000000  0.000000  \n12         0.8         0.0  0.000000  1.947299  \n13         0.8         0.0  0.000000  0.000000  \n14         0.8         0.0  0.000000  2.537922  \n15         0.8         0.0  0.000000  0.000000  \n16         0.8         0.0  0.000000  3.157905  \n17         0.8         0.0  0.000000  0.000000  \n18         0.8         0.0  0.000000  0.006030  \n19         0.8         0.0  0.000000  0.000000  \n20         0.8         0.0  0.000000  0.001028  \n21         0.8         0.0  0.000000  0.000000  \n22         0.8         0.0  0.000000  0.001497  \n23         0.8         0.0  0.000000  0.000000  ",
      "text/html": "<div>\n<style scoped>\n    .dataframe tbody tr th:only-of-type {\n        vertical-align: middle;\n    }\n\n    .dataframe tbody tr th {\n        vertical-align: top;\n    }\n\n    .dataframe thead th {\n        text-align: right;\n    }\n</style>\n<table border=\"1\" class=\"dataframe\">\n  <thead>\n    <tr style=\"text-align: right;\">\n      <th></th>\n      <th>generator_08</th>\n      <th>generator_06</th>\n      <th>generator_02</th>\n      <th>generator_09</th>\n      <th>generator_13</th>\n      <th>ev_01</th>\n      <th>ev_02</th>\n      <th>ev_03</th>\n      <th>ev_04</th>\n      <th>ev_05</th>\n      <th>storage_01</th>\n      <th>storage_02</th>\n      <th>storage_03</th>\n      <th>aggregator</th>\n      <th>imports</th>\n      <th>exports</th>\n    </tr>\n  </thead>\n  <tbody>\n    <tr>\n      <th>0</th>\n      <td>0.000000</td>\n      <td>0.001452</td>\n      <td>0.000000</td>\n      <td>0.000012</td>\n      <td>0.000000</td>\n      <td>0.800000</td>\n      <td>0.800000</td>\n      <td>0.800000</td>\n      <td>0.800000</td>\n      <td>0.816275</td>\n      <td>0.8</td>\n      <td>0.8</td>\n      <td>0.8</td>\n      <td>0.0</td>\n      <td>1.141008</td>\n      <td>0.000000</td>\n    </tr>\n    <tr>\n      <th>1</th>\n      <td>0.000000</td>\n      <td>0.000000</td>\n      <td>0.000000</td>\n      <td>0.000000</td>\n      <td>0.000000</td>\n      <td>0.200000</td>\n      <td>0.200000</td>\n      <td>0.200000</td>\n      <td>0.200000</td>\n      <td>0.200000</td>\n      <td>0.8</td>\n      <td>0.8</td>\n      <td>0.8</td>\n      <td>0.0</td>\n      <td>0.000000</td>\n      <td>0.000000</td>\n    </tr>\n    <tr>\n      <th>2</th>\n      <td>0.000000</td>\n      <td>0.001458</td>\n      <td>0.000000</td>\n      <td>0.000025</td>\n      <td>0.000000</td>\n      <td>0.200000</td>\n      <td>0.200000</td>\n      <td>0.200000</td>\n      <td>0.200000</td>\n      <td>0.200000</td>\n      <td>0.8</td>\n      <td>0.8</td>\n      <td>0.8</td>\n      <td>0.0</td>\n      <td>0.000000</td>\n      <td>0.001483</td>\n    </tr>\n    <tr>\n      <th>3</th>\n      <td>0.000000</td>\n      <td>0.000000</td>\n      <td>0.000000</td>\n      <td>0.000000</td>\n      <td>0.000000</td>\n      <td>0.200000</td>\n      <td>0.200000</td>\n      <td>0.200000</td>\n      <td>0.200000</td>\n      <td>0.200000</td>\n      <td>0.8</td>\n      <td>0.8</td>\n      <td>0.8</td>\n      <td>0.0</td>\n      <td>0.000000</td>\n      <td>0.000000</td>\n    </tr>\n    <tr>\n      <th>4</th>\n      <td>0.000000</td>\n      <td>0.001430</td>\n      <td>0.000000</td>\n      <td>0.000008</td>\n      <td>0.000000</td>\n      <td>0.200000</td>\n      <td>0.200000</td>\n      <td>0.200000</td>\n      <td>0.200000</td>\n      <td>0.200000</td>\n      <td>0.8</td>\n      <td>0.8</td>\n      <td>0.8</td>\n      <td>0.0</td>\n      <td>0.000000</td>\n      <td>0.001438</td>\n    </tr>\n    <tr>\n      <th>5</th>\n      <td>0.000000</td>\n      <td>0.000000</td>\n      <td>0.000000</td>\n      <td>0.000000</td>\n      <td>0.000000</td>\n      <td>0.200000</td>\n      <td>0.200000</td>\n      <td>0.200000</td>\n      <td>0.200000</td>\n      <td>0.200000</td>\n      <td>0.8</td>\n      <td>0.8</td>\n      <td>0.8</td>\n      <td>0.0</td>\n      <td>0.000000</td>\n      <td>0.000000</td>\n    </tr>\n    <tr>\n      <th>6</th>\n      <td>0.000000</td>\n      <td>0.001405</td>\n      <td>0.000000</td>\n      <td>0.000012</td>\n      <td>0.000000</td>\n      <td>0.200000</td>\n      <td>0.200000</td>\n      <td>0.200000</td>\n      <td>0.200000</td>\n      <td>0.200000</td>\n      <td>0.8</td>\n      <td>0.8</td>\n      <td>0.8</td>\n      <td>0.0</td>\n      <td>0.000000</td>\n      <td>0.001417</td>\n    </tr>\n    <tr>\n      <th>7</th>\n      <td>0.000000</td>\n      <td>0.000000</td>\n      <td>0.000000</td>\n      <td>0.000000</td>\n      <td>0.000000</td>\n      <td>0.200000</td>\n      <td>0.200000</td>\n      <td>0.200000</td>\n      <td>0.200000</td>\n      <td>0.200000</td>\n      <td>0.8</td>\n      <td>0.8</td>\n      <td>0.8</td>\n      <td>0.0</td>\n      <td>0.000000</td>\n      <td>0.000000</td>\n    </tr>\n    <tr>\n      <th>8</th>\n      <td>0.000000</td>\n      <td>0.001438</td>\n      <td>0.000008</td>\n      <td>0.000110</td>\n      <td>0.003387</td>\n      <td>0.188182</td>\n      <td>0.200000</td>\n      <td>0.200000</td>\n      <td>0.106056</td>\n      <td>0.200000</td>\n      <td>0.8</td>\n      <td>0.8</td>\n      <td>0.8</td>\n      <td>0.0</td>\n      <td>0.000000</td>\n      <td>0.004943</td>\n    </tr>\n    <tr>\n      <th>9</th>\n      <td>0.000000</td>\n      <td>0.000000</td>\n      <td>0.000000</td>\n      <td>0.000000</td>\n      <td>0.000000</td>\n      <td>0.200000</td>\n      <td>0.200000</td>\n      <td>0.200000</td>\n      <td>0.200000</td>\n      <td>0.200000</td>\n      <td>0.8</td>\n      <td>0.8</td>\n      <td>0.8</td>\n      <td>0.0</td>\n      <td>0.000000</td>\n      <td>0.000000</td>\n    </tr>\n    <tr>\n      <th>10</th>\n      <td>0.163550</td>\n      <td>0.064383</td>\n      <td>0.118475</td>\n      <td>0.122963</td>\n      <td>0.102425</td>\n      <td>0.200000</td>\n      <td>0.200000</td>\n      <td>0.200000</td>\n      <td>0.200000</td>\n      <td>0.200000</td>\n      <td>0.8</td>\n      <td>0.8</td>\n      <td>0.8</td>\n      <td>0.0</td>\n      <td>0.000000</td>\n      <td>0.571797</td>\n    </tr>\n    <tr>\n      <th>11</th>\n      <td>0.000000</td>\n      <td>0.000000</td>\n      <td>0.000000</td>\n      <td>0.000000</td>\n      <td>0.000000</td>\n      <td>0.200000</td>\n      <td>0.200000</td>\n      <td>0.200000</td>\n      <td>0.200000</td>\n      <td>0.200000</td>\n      <td>0.8</td>\n      <td>0.8</td>\n      <td>0.8</td>\n      <td>0.0</td>\n      <td>0.000000</td>\n      <td>0.000000</td>\n    </tr>\n    <tr>\n      <th>12</th>\n      <td>0.128320</td>\n      <td>0.366838</td>\n      <td>0.439168</td>\n      <td>0.466627</td>\n      <td>0.546347</td>\n      <td>0.200000</td>\n      <td>0.200000</td>\n      <td>0.200000</td>\n      <td>0.200000</td>\n      <td>0.200000</td>\n      <td>0.8</td>\n      <td>0.8</td>\n      <td>0.8</td>\n      <td>0.0</td>\n      <td>0.000000</td>\n      <td>1.947299</td>\n    </tr>\n    <tr>\n      <th>13</th>\n      <td>0.000000</td>\n      <td>0.000000</td>\n      <td>0.000000</td>\n      <td>0.000000</td>\n      <td>0.000000</td>\n      <td>0.200000</td>\n      <td>0.200000</td>\n      <td>0.200000</td>\n      <td>0.200000</td>\n      <td>0.200000</td>\n      <td>0.8</td>\n      <td>0.8</td>\n      <td>0.8</td>\n      <td>0.0</td>\n      <td>0.000000</td>\n      <td>0.000000</td>\n    </tr>\n    <tr>\n      <th>14</th>\n      <td>0.364883</td>\n      <td>0.679115</td>\n      <td>0.171250</td>\n      <td>0.766588</td>\n      <td>0.556085</td>\n      <td>0.200000</td>\n      <td>0.200000</td>\n      <td>0.200000</td>\n      <td>0.200000</td>\n      <td>0.200000</td>\n      <td>0.8</td>\n      <td>0.8</td>\n      <td>0.8</td>\n      <td>0.0</td>\n      <td>0.000000</td>\n      <td>2.537922</td>\n    </tr>\n    <tr>\n      <th>15</th>\n      <td>0.000000</td>\n      <td>0.000000</td>\n      <td>0.000000</td>\n      <td>0.000000</td>\n      <td>0.000000</td>\n      <td>0.200000</td>\n      <td>0.200000</td>\n      <td>0.200000</td>\n      <td>0.200000</td>\n      <td>0.200000</td>\n      <td>0.8</td>\n      <td>0.8</td>\n      <td>0.8</td>\n      <td>0.0</td>\n      <td>0.000000</td>\n      <td>0.000000</td>\n    </tr>\n    <tr>\n      <th>16</th>\n      <td>0.776613</td>\n      <td>0.594762</td>\n      <td>0.142318</td>\n      <td>1.470830</td>\n      <td>0.173382</td>\n      <td>0.200000</td>\n      <td>0.200000</td>\n      <td>0.200000</td>\n      <td>0.200000</td>\n      <td>0.200000</td>\n      <td>0.8</td>\n      <td>0.8</td>\n      <td>0.8</td>\n      <td>0.0</td>\n      <td>0.000000</td>\n      <td>3.157905</td>\n    </tr>\n    <tr>\n      <th>17</th>\n      <td>0.000000</td>\n      <td>0.000000</td>\n      <td>0.000000</td>\n      <td>0.000000</td>\n      <td>0.000000</td>\n      <td>0.200000</td>\n      <td>0.200000</td>\n      <td>0.200000</td>\n      <td>0.200000</td>\n      <td>0.200000</td>\n      <td>0.8</td>\n      <td>0.8</td>\n      <td>0.8</td>\n      <td>0.0</td>\n      <td>0.000000</td>\n      <td>0.000000</td>\n    </tr>\n    <tr>\n      <th>18</th>\n      <td>0.000002</td>\n      <td>0.002640</td>\n      <td>0.001098</td>\n      <td>0.002290</td>\n      <td>0.000000</td>\n      <td>0.188182</td>\n      <td>0.189667</td>\n      <td>0.191493</td>\n      <td>0.106056</td>\n      <td>0.163305</td>\n      <td>0.8</td>\n      <td>0.8</td>\n      <td>0.8</td>\n      <td>0.0</td>\n      <td>0.000000</td>\n      <td>0.006030</td>\n    </tr>\n    <tr>\n      <th>19</th>\n      <td>0.000000</td>\n      <td>0.000000</td>\n      <td>0.000000</td>\n      <td>0.000000</td>\n      <td>0.000000</td>\n      <td>0.200000</td>\n      <td>0.200000</td>\n      <td>0.200000</td>\n      <td>0.200000</td>\n      <td>0.200000</td>\n      <td>0.8</td>\n      <td>0.8</td>\n      <td>0.8</td>\n      <td>0.0</td>\n      <td>0.000000</td>\n      <td>0.000000</td>\n    </tr>\n    <tr>\n      <th>20</th>\n      <td>0.000000</td>\n      <td>0.001028</td>\n      <td>0.000000</td>\n      <td>0.000000</td>\n      <td>0.000000</td>\n      <td>0.200000</td>\n      <td>0.200000</td>\n      <td>0.200000</td>\n      <td>0.200000</td>\n      <td>0.200000</td>\n      <td>0.8</td>\n      <td>0.8</td>\n      <td>0.8</td>\n      <td>0.0</td>\n      <td>0.000000</td>\n      <td>0.001028</td>\n    </tr>\n    <tr>\n      <th>21</th>\n      <td>0.000000</td>\n      <td>0.000000</td>\n      <td>0.000000</td>\n      <td>0.000000</td>\n      <td>0.000000</td>\n      <td>0.200000</td>\n      <td>0.200000</td>\n      <td>0.200000</td>\n      <td>0.200000</td>\n      <td>0.200000</td>\n      <td>0.8</td>\n      <td>0.8</td>\n      <td>0.8</td>\n      <td>0.0</td>\n      <td>0.000000</td>\n      <td>0.000000</td>\n    </tr>\n    <tr>\n      <th>22</th>\n      <td>0.000000</td>\n      <td>0.001487</td>\n      <td>0.000000</td>\n      <td>0.000010</td>\n      <td>0.000000</td>\n      <td>0.200000</td>\n      <td>0.200000</td>\n      <td>0.200000</td>\n      <td>0.200000</td>\n      <td>0.200000</td>\n      <td>0.8</td>\n      <td>0.8</td>\n      <td>0.8</td>\n      <td>0.0</td>\n      <td>0.000000</td>\n      <td>0.001497</td>\n    </tr>\n    <tr>\n      <th>23</th>\n      <td>0.000000</td>\n      <td>0.000000</td>\n      <td>0.000000</td>\n      <td>0.000000</td>\n      <td>0.000000</td>\n      <td>0.200000</td>\n      <td>0.200000</td>\n      <td>0.200000</td>\n      <td>0.200000</td>\n      <td>0.200000</td>\n      <td>0.8</td>\n      <td>0.8</td>\n      <td>0.8</td>\n      <td>0.0</td>\n      <td>0.000000</td>\n      <td>0.000000</td>\n    </tr>\n  </tbody>\n</table>\n</div>"
     },
     "execution_count": 30,
     "metadata": {},
     "output_type": "execute_result"
    }
   ],
   "source": [
    "regular_data['2019-01-01']"
   ],
   "metadata": {
    "collapsed": false,
    "ExecuteTime": {
     "end_time": "2024-05-08T00:54:40.258507Z",
     "start_time": "2024-05-08T00:54:40.247335Z"
    }
   },
   "id": "a25826358a0d3cde",
   "execution_count": 30
  },
  {
   "cell_type": "code",
   "outputs": [],
   "source": [
    "# Dynamic Time Warping\n",
    "\n",
    "def dtw_distance(x, y):\n",
    "    return dtw.dtw(x, y, keep_internals=True).distance\n",
    "\n",
    "# Build the dataframes\n",
    "\n",
    "# Generators\n",
    "dtw_gens = pd.DataFrame(index=milp_data.keys(), columns=['seq_02', 'seq_06', 'seq_08',\n",
    "                                                         'seq_09', 'seq_13',\n",
    "                                                         'reg_02', 'reg_06', 'reg_08',\n",
    "                                                         'reg_09', 'reg_13'])\n",
    "for date in milp_data.keys():\n",
    "\n",
    "    dtw_gens.loc[date, 'seq_02'] = dtw_distance(milp_data[date]['genPower'].iloc[0,:],\n",
    "                                                sequential_data[date]['generator_02'])\n",
    "    dtw_gens.loc[date, 'seq_06'] = dtw_distance(milp_data[date]['genPower'].iloc[1,:],\n",
    "                                                sequential_data[date]['generator_06'])\n",
    "    dtw_gens.loc[date, 'seq_08'] = dtw_distance(milp_data[date]['genPower'].iloc[2,:],\n",
    "                                                sequential_data[date]['generator_08'])\n",
    "    dtw_gens.loc[date, 'seq_09'] = dtw_distance(milp_data[date]['genPower'].iloc[3,:],\n",
    "                                                sequential_data[date]['generator_09'])\n",
    "    dtw_gens.loc[date, 'seq_13'] = dtw_distance(milp_data[date]['genPower'].iloc[4,:],\n",
    "                                                sequential_data[date]['generator_13'])\n",
    "    \n",
    "    # Generator 08\n",
    "    dtw_gens.loc[date, 'reg_02'] = dtw_distance(milp_data[date]['genPower'].iloc[0,:],\n",
    "                                                regular_data[date]['generator_02'])\n",
    "    dtw_gens.loc[date, 'reg_06'] = dtw_distance(milp_data[date]['genPower'].iloc[1,:],\n",
    "                                                regular_data[date]['generator_06'])\n",
    "    dtw_gens.loc[date, 'reg_08'] = dtw_distance(milp_data[date]['genPower'].iloc[2,:],\n",
    "                                                regular_data[date]['generator_08'])\n",
    "    dtw_gens.loc[date, 'reg_09'] = dtw_distance(milp_data[date]['genPower'].iloc[3,:],\n",
    "                                                regular_data[date]['generator_09'])\n",
    "    dtw_gens.loc[date, 'reg_13'] = dtw_distance(milp_data[date]['genPower'].iloc[4,:],\n",
    "                                                regular_data[date]['generator_13'])\n",
    "    \n",
    "# Storage\n",
    "dtw_stor = pd.DataFrame(index=milp_data.keys(), columns=['seq_01', 'seq_02', 'seq_03',\n",
    "                                                         'reg_01', 'reg_02', 'reg_03'])\n",
    "for date in milp_data.keys():\n",
    "    \n",
    "    for stor in range(3):\n",
    "        dtw_stor.loc[date, f'seq_0{stor+1}'] = dtw_distance(milp_data[date]['storageState'].iloc[stor,:],\n",
    "                                                            sequential_data[date][f'storage_0{stor+1}'])\n",
    "        dtw_stor.loc[date, f'reg_0{stor+1}'] = dtw_distance(milp_data[date]['storageState'].iloc[stor,:],\n",
    "                                                            regular_data[date][f'storage_0{stor+1}'])\n",
    "\n",
    "# EVs\n",
    "dtw_evs = pd.DataFrame(index=milp_data.keys(), columns=['seq_01', 'seq_02', 'seq_03',\n",
    "                                                         'seq_04', 'seq_05',\n",
    "                                                         'reg_01', 'reg_02', 'reg_03',\n",
    "                                                         'reg_04', 'reg_05'])\n",
    "for date in milp_data.keys():\n",
    "        \n",
    "    for ev in range(5):\n",
    "        dtw_evs.loc[date, f'seq_0{ev+1}'] = dtw_distance(milp_data[date]['v2gState'].iloc[ev,:],\n",
    "                                                            sequential_data[date][f'ev_0{ev+1}'])\n",
    "        dtw_evs.loc[date, f'reg_0{ev+1}'] = dtw_distance(milp_data[date]['v2gState'].iloc[ev,:],\n",
    "                                                            regular_data[date][f'ev_0{ev+1}'])\n",
    "        \n",
    "# Imports and Exports\n",
    "dtw_impexp = pd.DataFrame(index=milp_data.keys(), columns=['seq_imp', 'seq_exp', \n",
    "                                                           'reg_imp', 'reg_exp'])\n",
    "\n",
    "for date in milp_data.keys():\n",
    "    \n",
    "    dtw_impexp.loc[date, 'seq_imp'] = dtw_distance(milp_data[date]['imports'],\n",
    "                                                    sequential_data[date]['imports'])\n",
    "    dtw_impexp.loc[date, 'seq_exp'] = dtw_distance(milp_data[date]['exports'],\n",
    "                                                    sequential_data[date]['exports'])\n",
    "    \n",
    "    dtw_impexp.loc[date, 'reg_imp'] = dtw_distance(milp_data[date]['imports'],\n",
    "                                                    regular_data[date]['imports'])\n",
    "    dtw_impexp.loc[date, 'reg_exp'] = dtw_distance(milp_data[date]['exports'],\n",
    "                                                    regular_data[date]['exports'])\n",
    "    "
   ],
   "metadata": {
    "collapsed": false,
    "ExecuteTime": {
     "end_time": "2024-05-08T01:44:19.111535Z",
     "start_time": "2024-05-08T01:44:15.354861Z"
    }
   },
   "id": "611a4bf412fbaefd",
   "execution_count": 59
  },
  {
   "cell_type": "code",
   "outputs": [
    {
     "data": {
      "text/plain": "               seq_02    seq_06     seq_08    seq_09    seq_13     reg_02  \\\n2019-01-01   1.767386  0.001795   1.365238  0.483797  0.203111   1.663612   \n2019-01-02  12.515689  3.646403  11.952694  6.631888  1.874848  12.039704   \n2019-01-03    8.58385  1.287113   8.774668  3.974343  2.571977    9.76403   \n2019-01-04   5.024992  2.954415   3.795977  5.054406   0.85442   4.290368   \n2019-01-05   6.600062  1.197198   6.695022  2.883799  0.635528   7.362222   \n...               ...       ...        ...       ...       ...        ...   \n2020-12-27   7.575733   3.71891   6.621302  9.836808  2.607785   8.012345   \n2020-12-28   2.846338  1.024773   2.846338  0.000002  8.702633   4.448225   \n2020-12-29   3.735785  0.660064   2.769648  6.246522  6.685967   3.254132   \n2020-12-30   6.538147  1.430365    5.84257  3.235737   9.91422    7.44689   \n2020-12-31        0.0  0.000815        0.0       0.0       0.0        0.0   \n\n              reg_06    reg_08     reg_09     reg_13  \n2019-01-01  1.677667  2.013503   1.933125   1.960665  \n2019-01-02  4.563748  10.81086    12.8069    3.84506  \n2019-01-03   4.13773  8.710551  11.851327   3.479712  \n2019-01-04  3.672195  3.909257     8.7973   1.071323  \n2019-01-05  2.510484  6.259649   5.488982   0.780837  \n...              ...       ...        ...        ...  \n2020-12-27  4.313248  9.800778  10.579747   5.454952  \n2020-12-28  2.160463  5.007248   4.762225   9.193007  \n2020-12-29  2.730977   4.39979   8.815928   8.172728  \n2020-12-30  4.551378  5.723576   8.277772  10.212492  \n2020-12-31   0.00978       0.0        0.0        0.0  \n\n[731 rows x 10 columns]",
      "text/html": "<div>\n<style scoped>\n    .dataframe tbody tr th:only-of-type {\n        vertical-align: middle;\n    }\n\n    .dataframe tbody tr th {\n        vertical-align: top;\n    }\n\n    .dataframe thead th {\n        text-align: right;\n    }\n</style>\n<table border=\"1\" class=\"dataframe\">\n  <thead>\n    <tr style=\"text-align: right;\">\n      <th></th>\n      <th>seq_02</th>\n      <th>seq_06</th>\n      <th>seq_08</th>\n      <th>seq_09</th>\n      <th>seq_13</th>\n      <th>reg_02</th>\n      <th>reg_06</th>\n      <th>reg_08</th>\n      <th>reg_09</th>\n      <th>reg_13</th>\n    </tr>\n  </thead>\n  <tbody>\n    <tr>\n      <th>2019-01-01</th>\n      <td>1.767386</td>\n      <td>0.001795</td>\n      <td>1.365238</td>\n      <td>0.483797</td>\n      <td>0.203111</td>\n      <td>1.663612</td>\n      <td>1.677667</td>\n      <td>2.013503</td>\n      <td>1.933125</td>\n      <td>1.960665</td>\n    </tr>\n    <tr>\n      <th>2019-01-02</th>\n      <td>12.515689</td>\n      <td>3.646403</td>\n      <td>11.952694</td>\n      <td>6.631888</td>\n      <td>1.874848</td>\n      <td>12.039704</td>\n      <td>4.563748</td>\n      <td>10.81086</td>\n      <td>12.8069</td>\n      <td>3.84506</td>\n    </tr>\n    <tr>\n      <th>2019-01-03</th>\n      <td>8.58385</td>\n      <td>1.287113</td>\n      <td>8.774668</td>\n      <td>3.974343</td>\n      <td>2.571977</td>\n      <td>9.76403</td>\n      <td>4.13773</td>\n      <td>8.710551</td>\n      <td>11.851327</td>\n      <td>3.479712</td>\n    </tr>\n    <tr>\n      <th>2019-01-04</th>\n      <td>5.024992</td>\n      <td>2.954415</td>\n      <td>3.795977</td>\n      <td>5.054406</td>\n      <td>0.85442</td>\n      <td>4.290368</td>\n      <td>3.672195</td>\n      <td>3.909257</td>\n      <td>8.7973</td>\n      <td>1.071323</td>\n    </tr>\n    <tr>\n      <th>2019-01-05</th>\n      <td>6.600062</td>\n      <td>1.197198</td>\n      <td>6.695022</td>\n      <td>2.883799</td>\n      <td>0.635528</td>\n      <td>7.362222</td>\n      <td>2.510484</td>\n      <td>6.259649</td>\n      <td>5.488982</td>\n      <td>0.780837</td>\n    </tr>\n    <tr>\n      <th>...</th>\n      <td>...</td>\n      <td>...</td>\n      <td>...</td>\n      <td>...</td>\n      <td>...</td>\n      <td>...</td>\n      <td>...</td>\n      <td>...</td>\n      <td>...</td>\n      <td>...</td>\n    </tr>\n    <tr>\n      <th>2020-12-27</th>\n      <td>7.575733</td>\n      <td>3.71891</td>\n      <td>6.621302</td>\n      <td>9.836808</td>\n      <td>2.607785</td>\n      <td>8.012345</td>\n      <td>4.313248</td>\n      <td>9.800778</td>\n      <td>10.579747</td>\n      <td>5.454952</td>\n    </tr>\n    <tr>\n      <th>2020-12-28</th>\n      <td>2.846338</td>\n      <td>1.024773</td>\n      <td>2.846338</td>\n      <td>0.000002</td>\n      <td>8.702633</td>\n      <td>4.448225</td>\n      <td>2.160463</td>\n      <td>5.007248</td>\n      <td>4.762225</td>\n      <td>9.193007</td>\n    </tr>\n    <tr>\n      <th>2020-12-29</th>\n      <td>3.735785</td>\n      <td>0.660064</td>\n      <td>2.769648</td>\n      <td>6.246522</td>\n      <td>6.685967</td>\n      <td>3.254132</td>\n      <td>2.730977</td>\n      <td>4.39979</td>\n      <td>8.815928</td>\n      <td>8.172728</td>\n    </tr>\n    <tr>\n      <th>2020-12-30</th>\n      <td>6.538147</td>\n      <td>1.430365</td>\n      <td>5.84257</td>\n      <td>3.235737</td>\n      <td>9.91422</td>\n      <td>7.44689</td>\n      <td>4.551378</td>\n      <td>5.723576</td>\n      <td>8.277772</td>\n      <td>10.212492</td>\n    </tr>\n    <tr>\n      <th>2020-12-31</th>\n      <td>0.0</td>\n      <td>0.000815</td>\n      <td>0.0</td>\n      <td>0.0</td>\n      <td>0.0</td>\n      <td>0.0</td>\n      <td>0.00978</td>\n      <td>0.0</td>\n      <td>0.0</td>\n      <td>0.0</td>\n    </tr>\n  </tbody>\n</table>\n<p>731 rows × 10 columns</p>\n</div>"
     },
     "execution_count": 60,
     "metadata": {},
     "output_type": "execute_result"
    }
   ],
   "source": [
    "dtw_gens"
   ],
   "metadata": {
    "collapsed": false,
    "ExecuteTime": {
     "end_time": "2024-05-08T01:44:20.425020Z",
     "start_time": "2024-05-08T01:44:20.417931Z"
    }
   },
   "id": "5d2082a452dd9c50",
   "execution_count": 60
  },
  {
   "cell_type": "code",
   "outputs": [
    {
     "data": {
      "text/plain": "seq_02     9.746017\nseq_06     3.368808\nseq_08    11.122993\nseq_09     7.574465\nseq_13     3.035586\nreg_02    10.064288\nreg_06     4.953132\nreg_08    10.715403\nreg_09      10.4995\nreg_13     4.003615\ndtype: object"
     },
     "execution_count": 56,
     "metadata": {},
     "output_type": "execute_result"
    }
   ],
   "source": [
    "dtw_gens.mean()"
   ],
   "metadata": {
    "collapsed": false,
    "ExecuteTime": {
     "end_time": "2024-05-08T01:39:07.384656Z",
     "start_time": "2024-05-08T01:39:07.380648Z"
    }
   },
   "id": "46a9786b26b350f3",
   "execution_count": 56
  },
  {
   "cell_type": "code",
   "outputs": [
    {
     "data": {
      "text/plain": "seq_imp    122.241067\nseq_exp     39.325014\nreg_imp      145.8568\nreg_exp     30.828539\ndtype: object"
     },
     "execution_count": 62,
     "metadata": {},
     "output_type": "execute_result"
    }
   ],
   "source": [
    "dtw_impexp.mean()"
   ],
   "metadata": {
    "collapsed": false,
    "ExecuteTime": {
     "end_time": "2024-05-08T01:44:44.762256Z",
     "start_time": "2024-05-08T01:44:44.758312Z"
    }
   },
   "id": "71a2c0a94f8883e2",
   "execution_count": 62
  },
  {
   "cell_type": "code",
   "outputs": [],
   "source": [],
   "metadata": {
    "collapsed": false
   },
   "id": "d54645896f91db2e"
  }
 ],
 "metadata": {
  "kernelspec": {
   "display_name": "Python 3",
   "language": "python",
   "name": "python3"
  },
  "language_info": {
   "codemirror_mode": {
    "name": "ipython",
    "version": 2
   },
   "file_extension": ".py",
   "mimetype": "text/x-python",
   "name": "python",
   "nbconvert_exporter": "python",
   "pygments_lexer": "ipython2",
   "version": "2.7.6"
  }
 },
 "nbformat": 4,
 "nbformat_minor": 5
}

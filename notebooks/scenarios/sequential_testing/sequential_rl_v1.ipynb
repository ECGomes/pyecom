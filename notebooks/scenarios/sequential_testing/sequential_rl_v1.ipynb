{
 "cells": [
  {
   "cell_type": "code",
   "execution_count": 1,
   "id": "initial_id",
   "metadata": {
    "collapsed": true,
    "ExecuteTime": {
     "end_time": "2024-08-29T12:17:59.883845Z",
     "start_time": "2024-08-29T12:17:54.142544Z"
    }
   },
   "outputs": [
    {
     "name": "stderr",
     "output_type": "stream",
     "text": [
      "2024-08-29 13:17:59,276\tWARNING deprecation.py:50 -- DeprecationWarning: `DirectStepOptimizer` has been deprecated. This will raise an error in the future!\n"
     ]
    }
   ],
   "source": [
    "# Imports\n",
    "import matplotlib.pyplot as plt\n",
    "import numpy as np\n",
    "import glob\n",
    "import pandas as pd\n",
    "\n",
    "import ray\n",
    "from ray.rllib.algorithms.ppo import PPOConfig\n",
    "from ray.rllib import Policy\n",
    "\n",
    "import IPython.core.display_functions\n",
    "\n",
    "from src.parsers import HMParser, CotevParser\n",
    "from src.resources import Aggregator, Generator, Load, Storage\n",
    "from src.algorithms.rl import EnergyCommunitySequentialV9\n",
    "\n",
    "import warnings\n",
    "warnings.filterwarnings('ignore')"
   ]
  },
  {
   "cell_type": "code",
   "outputs": [],
   "source": [
    "# Data parsing\n",
    "\n",
    "# EC data for non-renewable generators and batteries\n",
    "data_ec = HMParser(file_path='/Users/ecgomes/DataspellProjects/pyecom/data/EC_V4.xlsx', ec_id=1)\n",
    "data_ec.parse()\n",
    "\n",
    "# EV data from the EV4EU simulator\n",
    "data_ev = CotevParser(population_path=\n",
    "                      '/Users/ecgomes/DataspellProjects/pyecom/data/simulation_dataframes_2years/population_731.csv',\n",
    "                      driving_history_path=\n",
    "                      '/Users/ecgomes/DataspellProjects/pyecom/data/simulation_dataframes_2years/ev_driving_history_731.csv',\n",
    "                      assigned_segments_path='/Users/ecgomes/DataspellProjects/pyecom/data/simulation_dataframes_2years/assigned_segments_731.csv',\n",
    "                      parse_date_start='2019',\n",
    "                      parse_date_end='2020')\n",
    "data_ev.parse()"
   ],
   "metadata": {
    "collapsed": false,
    "ExecuteTime": {
     "end_time": "2024-08-29T12:18:02.062080Z",
     "start_time": "2024-08-29T12:18:00.660869Z"
    }
   },
   "id": "e43835ff69a5fd2a",
   "execution_count": 2
  },
  {
   "cell_type": "code",
   "outputs": [],
   "source": [
    "# UPAC Data load\n",
    "\n",
    "data_upacs = {}\n",
    "for i in glob.glob('/Users/ecgomes/Documents/PhD/UPAC data/upac*_pv.csv'):\n",
    "    temp = pd.read_csv(i, index_col=0, parse_dates=True)\n",
    "    temp = temp.resample('H').mean()\n",
    "    \n",
    "    # Need to divide by 1000 to convert from W to kW\n",
    "    temp['pv'] = temp['pv'] / 1000\n",
    "    temp['load'] = temp['load'] / 1000\n",
    "    \n",
    "    # Set any negative values to zero\n",
    "    temp.loc[temp['pv'] < 0, 'pv'] = 0\n",
    "    temp.loc[temp['load'] < 0, 'load'] = 0\n",
    "    \n",
    "    # We only want 2019 and 2020 data\n",
    "    temp = temp.loc['2019':'2020']\n",
    "    \n",
    "    # Fill potential NaN values with interpolation\n",
    "    # temp = temp.interpolate()\n",
    "    \n",
    "    # Fill NaN values with zeros\n",
    "    temp = temp.fillna(0)\n",
    "    \n",
    "    name = i.split('/')[-1].split('_')[0].split('upac')[1]\n",
    "    \n",
    "    data_upacs[name] = temp"
   ],
   "metadata": {
    "collapsed": false,
    "ExecuteTime": {
     "end_time": "2024-08-29T12:18:05.249559Z",
     "start_time": "2024-08-29T12:18:02.742617Z"
    }
   },
   "id": "d8097bd3d6272b3d",
   "execution_count": 3
  },
  {
   "cell_type": "code",
   "outputs": [],
   "source": [
    "# Train resource creation\n",
    "\n",
    "def create_resources(upacs, ec, ev):\n",
    "    \"\"\"\n",
    "    Create the resources for the training environment.\n",
    "    return a list of resources.\n",
    "    :param upacs: dict with the UPAC data\n",
    "    :param ec: dict with the EC data\n",
    "    :param ev: dict with the EV data\n",
    "    \"\"\"\n",
    "\n",
    "    resources = []\n",
    "    # Add generators (from pv column from the UPAC data)\n",
    "    for i in range(len(upacs)):\n",
    "        current_name = list(upacs.keys())[i]\n",
    "        resources.append(Generator(\n",
    "            name='ren_generator_' + current_name,\n",
    "            value=np.zeros(upacs[current_name]['pv'].shape),\n",
    "            lower_bound=np.zeros(upacs[current_name]['pv'].shape),\n",
    "            upper_bound=upacs[current_name]['pv'].values,\n",
    "            cost=ec.generator['cost_parameter_b'][0, 0] * np.ones(upacs[current_name].shape[0]),\n",
    "            cost_nde=np.tile(ec.generator['cost_nde'][0], (int(upacs[current_name].shape[0] / 24))),\n",
    "            is_renewable=True))\n",
    "\n",
    "    '''\n",
    "    resources.append(Generator(\n",
    "        name='generator_14',\n",
    "        value=np.zeros(upacs['02']['pv'].shape),\n",
    "        lower_bound=np.zeros(upacs['02']['pv'].shape),\n",
    "        upper_bound=np.ones(upacs['02']['pv'].shape) * 15,\n",
    "        cost=ec.generator['cost_parameter_b'][0, 0] * np.ones(upacs['02'].shape[0]),\n",
    "        cost_nde=ec.generator['cost_nde'][0],\n",
    "        is_renewable=False))\n",
    "    \n",
    "    resources.append(Generator(\n",
    "        name='generator_15',\n",
    "        value=np.zeros(upacs['02']['pv'].shape),\n",
    "        lower_bound=np.zeros(upacs['02']['pv'].shape),\n",
    "        upper_bound=np.ones(upacs['02']['pv'].shape) * 15,\n",
    "        cost=ec.generator['cost_parameter_b'][0, 0] * np.ones(upacs['02'].shape[0]),\n",
    "        cost_nde=ec.generator['cost_nde'][0],\n",
    "        is_renewable=False))\n",
    "    '''\n",
    "\n",
    "    # Add loads (from load column from the UPAC data)\n",
    "    for i in range(len(upacs)):\n",
    "        current_name = list(upacs.keys())[i]\n",
    "        resources.append(Load(\n",
    "            name='load_' + current_name,\n",
    "            value=upacs[current_name]['load'],\n",
    "            lower_bound=np.zeros(upacs[current_name].shape),\n",
    "            upper_bound=upacs[current_name]['load'].values,\n",
    "            cost=np.ones(upacs[current_name].shape[0]),\n",
    "            cost_cut=np.tile(ec.load['cost_cut'][0], (int(upacs[current_name].shape[0] / 24))),\n",
    "            cost_reduce=np.tile(ec.load['cost_reduce'][0], (int(upacs[current_name].shape[0] / 24))),\n",
    "            cost_ens=np.tile(ec.load['cost_ens'][0], (int(upacs[current_name].shape[0] / 24)))))\n",
    "\n",
    "    # Add storage (from the EC data)\n",
    "    for i in range(ec.storage['p_charge_limit'].shape[0]):\n",
    "        resources.append(Storage(\n",
    "            name='storage_{:02d}'.format(i+1),\n",
    "            value=ec.storage['initial_state'][i] * np.ones(upacs['02'].shape[0]),\n",
    "            lower_bound=np.ones(upacs['02'].shape[0]) * ec.storage['energy_min_percentage'][i],\n",
    "            upper_bound=(ec.storage['energy_capacity'][i] * np.ones(upacs['02'].shape[0])),\n",
    "            cost=np.ones(upacs['02'].shape[0]) * 0,\n",
    "            cost_discharge=np.tile(ec.storage['discharge_price'][i], (int(upacs['02'].shape[0] / 24))),\n",
    "            cost_charge=np.tile(ec.storage['charge_price'][i], (int(upacs['02'].shape[0] / 24))),\n",
    "            capacity_max=ec.storage['energy_capacity'][i],\n",
    "            capacity_min=ec.storage['energy_min_percentage'][i],\n",
    "            initial_charge=ec.storage['initial_state'][i],\n",
    "            discharge_efficiency=ec.storage['discharge_efficiency'][i],\n",
    "            discharge_max=np.tile(ec.storage['p_discharge_limit'][i], (int(upacs['02'].shape[0] / 24))),\n",
    "            charge_efficiency=ec.storage['charge_efficiency'][i],\n",
    "            charge_max=np.tile(ec.storage['p_charge_limit'][i], (int(upacs['02'].shape[0] / 24))),\n",
    "            capital_cost=np.array([0.05250, 0.10500, 0.01575])))\n",
    "\n",
    "    # Add vehicles (from the EV data)\n",
    "    for i in np.arange(len(ev)):\n",
    "        # Append to the list of resources\n",
    "        # ev[i].cost_charge *= 0\n",
    "        # ev[i].cost_discharge *= 0\n",
    "        resources.append(ev[i])\n",
    "\n",
    "    # Append Aggregator\n",
    "    resources.append(Aggregator(\n",
    "        name='aggregator',\n",
    "        value=np.zeros(upacs['02'].shape[0]),\n",
    "        lower_bound=np.zeros(upacs['02'].shape[0]),\n",
    "        upper_bound=np.tile(ec.peers['import_contracted_p_max'][0, 0], (upacs['02'].shape[0])),\n",
    "        cost=np.tile(ec.peers['buy_price'][0, 0], (upacs['02'].shape[0])),\n",
    "        imports=np.zeros(upacs['02'].shape[0]),\n",
    "        exports=np.zeros(upacs['02'].shape[0]),\n",
    "        import_cost=np.tile(ec.peers['buy_price'][0], (int(upacs['02'].shape[0] / 24))), # * 100,\n",
    "        export_cost=np.tile(ec.peers['sell_price'][0], (int(upacs['02'].shape[0] / 24))),\n",
    "        import_max=np.tile(ec.peers['import_contracted_p_max'][0, 0], (int(upacs['02'].shape[0]))),\n",
    "        export_max=np.tile(ec.peers['export_contracted_p_max'][0, 0], (int(upacs['02'].shape[0])))))\n",
    "\n",
    "    return resources"
   ],
   "metadata": {
    "collapsed": false,
    "ExecuteTime": {
     "end_time": "2024-08-29T12:18:07.869517Z",
     "start_time": "2024-08-29T12:18:07.859876Z"
    }
   },
   "id": "bf9b045471522328",
   "execution_count": 4
  },
  {
   "cell_type": "code",
   "outputs": [],
   "source": [
    "# Create resources for the training environment\n",
    "\n",
    "def iterate_resources(u, c, e, mode='daily'):\n",
    "    \n",
    "    temp = {}\n",
    "    \n",
    "    # Save first key of upac data\n",
    "    first_key = list(u.keys())[0]\n",
    "    \n",
    "    if mode is 'daily':\n",
    "\n",
    "        # Loop to iterate over days in the datasets\n",
    "        for i in np.unique(u[first_key].index.date):\n",
    "            # Create the resources for the training environment\n",
    "            \n",
    "            date = i.strftime('%Y-%m-%d')\n",
    "            \n",
    "            temp_u = {k: v.loc[date] for k, v in u.items()}\n",
    "            temp_e = e.create_resources(e.population, e.trips_grid, e.assigned_segments, date)\n",
    "            \n",
    "            temp[date] = create_resources(upacs=temp_u,\n",
    "                                          ec=c,\n",
    "                                          ev=temp_e)\n",
    "            \n",
    "    elif mode is 'monthly':\n",
    "        \n",
    "        # Loop to iterate over months in the datasets\n",
    "        # Need to be careful with different years\n",
    "        unique_months = np.unique(data_upacs['02'].index.strftime('%Y-%m'))\n",
    "        \n",
    "        for i in unique_months:\n",
    "            # Create the resources for the training environment\n",
    "            date = i\n",
    "            \n",
    "            temp_u = {k: v.loc[date] for k, v in u.items()}\n",
    "            temp_e = e.create_resources(e.population, e.trips_grid, e.assigned_segments, date)\n",
    "            \n",
    "            temp[date] = create_resources(upacs=temp_u,\n",
    "                                          ec=c,\n",
    "                                          ev=temp_e)\n",
    "            \n",
    "    elif mode is 'yearly':\n",
    "        \n",
    "        # Loop to iterate over years in the datasets\n",
    "        unique_years = np.unique(data_upacs['02'].index.strftime('%Y'))\n",
    "        \n",
    "        for i in unique_years:\n",
    "            # Create the resources for the training environment\n",
    "            date = i\n",
    "            \n",
    "            temp_u = {k: v.loc[date] for k, v in u.items()}\n",
    "            temp_e = e.create_resources(e.population, e.trips_grid, e.assigned_segments, date)\n",
    "            \n",
    "            temp[date] = create_resources(upacs=temp_u,\n",
    "                                          ec=c,\n",
    "                                          ev=temp_e)\n",
    "        \n",
    "    return temp\n",
    "\n",
    "dataset_resources = iterate_resources(u=data_upacs, c=data_ec, e=data_ev, mode='monthly')"
   ],
   "metadata": {
    "collapsed": false,
    "ExecuteTime": {
     "end_time": "2024-08-29T12:18:08.736648Z",
     "start_time": "2024-08-29T12:18:08.650960Z"
    }
   },
   "id": "82526219bdef7d23",
   "execution_count": 5
  },
  {
   "cell_type": "code",
   "outputs": [
    {
     "data": {
      "text/plain": "['ren_generator_08',\n 'ren_generator_06',\n 'ren_generator_02',\n 'ren_generator_09',\n 'ren_generator_13',\n 'ev_01',\n 'ev_02',\n 'ev_03',\n 'ev_04',\n 'ev_05',\n 'storage_01',\n 'storage_02',\n 'storage_03',\n 'aggregator']"
     },
     "execution_count": 6,
     "metadata": {},
     "output_type": "execute_result"
    }
   ],
   "source": [
    "# Create the execution order\n",
    "\n",
    "execution_order = [res.name for res in dataset_resources[list(dataset_resources.keys())[0]][:5]] + \\\n",
    "                  [res.name for res in dataset_resources[list(dataset_resources.keys())[0]][13:-1]] + \\\n",
    "                  [res.name for res in dataset_resources[list(dataset_resources.keys())[0]][10:13]] + \\\n",
    "                  [dataset_resources[list(dataset_resources.keys())[0]][-1].name]\n",
    "execution_order"
   ],
   "metadata": {
    "collapsed": false,
    "ExecuteTime": {
     "end_time": "2024-08-29T12:18:09.198008Z",
     "start_time": "2024-08-29T12:18:09.194332Z"
    }
   },
   "id": "9905c07df9d0e24c",
   "execution_count": 6
  },
  {
   "cell_type": "code",
   "outputs": [
    {
     "name": "stdout",
     "output_type": "stream",
     "text": [
      "Terminated: True\n"
     ]
    }
   ],
   "source": [
    "# Create the environment and check if everything is ok\n",
    "\n",
    "temp_env = EnergyCommunitySequentialV9(ren_generators=dataset_resources[list(dataset_resources.keys())[0]][:5],\n",
    "                                       generators=[],#dataset_resources[list(dataset_resources.keys())[0]][5:7],\n",
    "                                       loads=dataset_resources[list(dataset_resources.keys())[0]][5:10],\n",
    "                                       storages=dataset_resources[list(dataset_resources.keys())[0]][10:13],\n",
    "                                       evs=dataset_resources[list(dataset_resources.keys())[0]][13:-1],\n",
    "                                       aggregator=dataset_resources[list(dataset_resources.keys())[0]][-1],\n",
    "                                       storage_penalty=1,\n",
    "                                       ev_penalty=1,\n",
    "                                       balance_penalty=1,\n",
    "                                       execution_order=execution_order)\n",
    "temp_env.reset()\n",
    "terminations = truncations = {a: False for a in temp_env.agents}\n",
    "terminations['__all__'] = False\n",
    "truncations['__all__'] = False\n",
    "while not terminations['__all__'] and not truncations['__all__']:\n",
    "\n",
    "    actions = temp_env.action_space_sample()\n",
    "    next_obs, rewards, terminations, truncations, infos = temp_env.step(actions)\n",
    "\n",
    "print('Terminated: {}'.format(terminations['__all__']))"
   ],
   "metadata": {
    "collapsed": false,
    "ExecuteTime": {
     "end_time": "2024-08-29T12:18:10.184747Z",
     "start_time": "2024-08-29T12:18:09.846417Z"
    }
   },
   "id": "f732630cb55ab585",
   "execution_count": 7
  },
  {
   "cell_type": "code",
   "outputs": [
    {
     "data": {
      "text/plain": "<IPython.core.display.HTML object>",
      "text/html": ""
     },
     "metadata": {},
     "output_type": "display_data"
    },
    {
     "data": {
      "text/plain": "<IPython.core.display.HTML object>",
      "text/html": "<div class=\"tuneStatus\">\n  <div style=\"display: flex;flex-direction: row\">\n    <div style=\"display: flex;flex-direction: column;\">\n      <h3>Tune Status</h3>\n      <table>\n<tbody>\n<tr><td>Current time:</td><td>2024-08-29 13:18:13</td></tr>\n<tr><td>Running for: </td><td>00:00:00.13        </td></tr>\n<tr><td>Memory:      </td><td>10.7/18.0 GiB      </td></tr>\n</tbody>\n</table>\n    </div>\n    <div class=\"vDivider\"></div>\n    <div class=\"systemInfo\">\n      <h3>System Info</h3>\n      Using AsyncHyperBand: num_stopped=0<br>Bracket: Iter 64.000: None | Iter 16.000: None | Iter 4.000: None | Iter 1.000: None<br>Logical resource usage: 11.0/12 CPUs, 0/0 GPUs\n    </div>\n    \n  </div>\n  <div class=\"hDivider\"></div>\n  <div class=\"trialStatus\">\n    <h3>Trial Status</h3>\n    <table>\n<thead>\n<tr><th>Trial name              </th><th>status  </th><th>loc  </th></tr>\n</thead>\n<tbody>\n<tr><td>PPO_EC_Multi_c347c_00000</td><td>PENDING </td><td>     </td></tr>\n</tbody>\n</table>\n  </div>\n</div>\n<style>\n.tuneStatus {\n  color: var(--jp-ui-font-color1);\n}\n.tuneStatus .systemInfo {\n  display: flex;\n  flex-direction: column;\n}\n.tuneStatus td {\n  white-space: nowrap;\n}\n.tuneStatus .trialStatus {\n  display: flex;\n  flex-direction: column;\n}\n.tuneStatus h3 {\n  font-weight: bold;\n}\n.tuneStatus .hDivider {\n  border-bottom-width: var(--jp-border-width);\n  border-bottom-color: var(--jp-border-color0);\n  border-bottom-style: solid;\n}\n.tuneStatus .vDivider {\n  border-left-width: var(--jp-border-width);\n  border-left-color: var(--jp-border-color0);\n  border-left-style: solid;\n  margin: 0.5em 1em 0.5em 1em;\n}\n</style>\n"
     },
     "metadata": {},
     "output_type": "display_data"
    },
    {
     "data": {
      "text/plain": "<IPython.core.display.HTML object>",
      "text/html": "<div class=\"tuneStatus\">\n  <div style=\"display: flex;flex-direction: row\">\n    <div style=\"display: flex;flex-direction: column;\">\n      <h3>Tune Status</h3>\n      <table>\n<tbody>\n<tr><td>Current time:</td><td>2024-08-29 13:18:18</td></tr>\n<tr><td>Running for: </td><td>00:00:05.21        </td></tr>\n<tr><td>Memory:      </td><td>10.8/18.0 GiB      </td></tr>\n</tbody>\n</table>\n    </div>\n    <div class=\"vDivider\"></div>\n    <div class=\"systemInfo\">\n      <h3>System Info</h3>\n      Using AsyncHyperBand: num_stopped=0<br>Bracket: Iter 64.000: None | Iter 16.000: None | Iter 4.000: None | Iter 1.000: None<br>Logical resource usage: 11.0/12 CPUs, 0/0 GPUs\n    </div>\n    \n  </div>\n  <div class=\"hDivider\"></div>\n  <div class=\"trialStatus\">\n    <h3>Trial Status</h3>\n    <table>\n<thead>\n<tr><th>Trial name              </th><th>status  </th><th>loc  </th></tr>\n</thead>\n<tbody>\n<tr><td>PPO_EC_Multi_c347c_00000</td><td>PENDING </td><td>     </td></tr>\n</tbody>\n</table>\n  </div>\n</div>\n<style>\n.tuneStatus {\n  color: var(--jp-ui-font-color1);\n}\n.tuneStatus .systemInfo {\n  display: flex;\n  flex-direction: column;\n}\n.tuneStatus td {\n  white-space: nowrap;\n}\n.tuneStatus .trialStatus {\n  display: flex;\n  flex-direction: column;\n}\n.tuneStatus h3 {\n  font-weight: bold;\n}\n.tuneStatus .hDivider {\n  border-bottom-width: var(--jp-border-width);\n  border-bottom-color: var(--jp-border-color0);\n  border-bottom-style: solid;\n}\n.tuneStatus .vDivider {\n  border-left-width: var(--jp-border-width);\n  border-left-color: var(--jp-border-color0);\n  border-left-style: solid;\n  margin: 0.5em 1em 0.5em 1em;\n}\n</style>\n"
     },
     "metadata": {},
     "output_type": "display_data"
    },
    {
     "data": {
      "text/plain": "<IPython.core.display.HTML object>",
      "text/html": "<div class=\"tuneStatus\">\n  <div style=\"display: flex;flex-direction: row\">\n    <div style=\"display: flex;flex-direction: column;\">\n      <h3>Tune Status</h3>\n      <table>\n<tbody>\n<tr><td>Current time:</td><td>2024-08-29 13:18:33</td></tr>\n<tr><td>Running for: </td><td>00:00:20.37        </td></tr>\n<tr><td>Memory:      </td><td>11.1/18.0 GiB      </td></tr>\n</tbody>\n</table>\n    </div>\n    <div class=\"vDivider\"></div>\n    <div class=\"systemInfo\">\n      <h3>System Info</h3>\n      Using AsyncHyperBand: num_stopped=0<br>Bracket: Iter 64.000: None | Iter 16.000: None | Iter 4.000: None | Iter 1.000: None<br>Logical resource usage: 11.0/12 CPUs, 0/0 GPUs\n    </div>\n    \n  </div>\n  <div class=\"hDivider\"></div>\n  <div class=\"trialStatus\">\n    <h3>Trial Status</h3>\n    <table>\n<thead>\n<tr><th>Trial name              </th><th>status  </th><th>loc           </th></tr>\n</thead>\n<tbody>\n<tr><td>PPO_EC_Multi_c347c_00000</td><td>RUNNING </td><td>127.0.0.1:1288</td></tr>\n</tbody>\n</table>\n  </div>\n</div>\n<style>\n.tuneStatus {\n  color: var(--jp-ui-font-color1);\n}\n.tuneStatus .systemInfo {\n  display: flex;\n  flex-direction: column;\n}\n.tuneStatus td {\n  white-space: nowrap;\n}\n.tuneStatus .trialStatus {\n  display: flex;\n  flex-direction: column;\n}\n.tuneStatus h3 {\n  font-weight: bold;\n}\n.tuneStatus .hDivider {\n  border-bottom-width: var(--jp-border-width);\n  border-bottom-color: var(--jp-border-color0);\n  border-bottom-style: solid;\n}\n.tuneStatus .vDivider {\n  border-left-width: var(--jp-border-width);\n  border-left-color: var(--jp-border-color0);\n  border-left-style: solid;\n  margin: 0.5em 1em 0.5em 1em;\n}\n</style>\n"
     },
     "metadata": {},
     "output_type": "display_data"
    },
    {
     "data": {
      "text/plain": "<IPython.core.display.HTML object>",
      "text/html": "<div class=\"tuneStatus\">\n  <div style=\"display: flex;flex-direction: row\">\n    <div style=\"display: flex;flex-direction: column;\">\n      <h3>Tune Status</h3>\n      <table>\n<tbody>\n<tr><td>Current time:</td><td>2024-08-29 14:51:47</td></tr>\n<tr><td>Running for: </td><td>01:33:33.65        </td></tr>\n<tr><td>Memory:      </td><td>12.8/18.0 GiB      </td></tr>\n</tbody>\n</table>\n    </div>\n    <div class=\"vDivider\"></div>\n    <div class=\"systemInfo\">\n      <h3>System Info</h3>\n      Using AsyncHyperBand: num_stopped=1<br>Bracket: Iter 64.000: 2991.031300000203 | Iter 16.000: 2612.5521000000917 | Iter 4.000: 1140.920199999997 | Iter 1.000: 507.0378999999997<br>Logical resource usage: 11.0/12 CPUs, 0/0 GPUs\n    </div>\n    \n  </div>\n  <div class=\"hDivider\"></div>\n  <div class=\"trialStatus\">\n    <h3>Trial Status</h3>\n    <table>\n<thead>\n<tr><th>Trial name              </th><th>status    </th><th>loc           </th><th style=\"text-align: right;\">  iter</th><th style=\"text-align: right;\">  total time (s)</th><th style=\"text-align: right;\">      ts</th><th style=\"text-align: right;\">  reward</th><th style=\"text-align: right;\">  episode_reward_max</th><th style=\"text-align: right;\">  episode_reward_min</th><th style=\"text-align: right;\">  episode_len_mean</th></tr>\n</thead>\n<tbody>\n<tr><td>PPO_EC_Multi_c347c_00000</td><td>TERMINATED</td><td>127.0.0.1:1288</td><td style=\"text-align: right;\">   100</td><td style=\"text-align: right;\">         5599.15</td><td style=\"text-align: right;\">10416000</td><td style=\"text-align: right;\"> -970.59</td><td style=\"text-align: right;\">             2999.97</td><td style=\"text-align: right;\">            -17011.2</td><td style=\"text-align: right;\">             10416</td></tr>\n</tbody>\n</table>\n  </div>\n</div>\n<style>\n.tuneStatus {\n  color: var(--jp-ui-font-color1);\n}\n.tuneStatus .systemInfo {\n  display: flex;\n  flex-direction: column;\n}\n.tuneStatus td {\n  white-space: nowrap;\n}\n.tuneStatus .trialStatus {\n  display: flex;\n  flex-direction: column;\n}\n.tuneStatus h3 {\n  font-weight: bold;\n}\n.tuneStatus .hDivider {\n  border-bottom-width: var(--jp-border-width);\n  border-bottom-color: var(--jp-border-color0);\n  border-bottom-style: solid;\n}\n.tuneStatus .vDivider {\n  border-left-width: var(--jp-border-width);\n  border-left-color: var(--jp-border-color0);\n  border-left-style: solid;\n  margin: 0.5em 1em 0.5em 1em;\n}\n</style>\n"
     },
     "metadata": {},
     "output_type": "display_data"
    },
    {
     "name": "stderr",
     "output_type": "stream",
     "text": [
      "\u001B[2m\u001B[36m(PPO pid=1288)\u001B[0m Checkpoint successfully created at: Checkpoint(filesystem=local, path=/Users/ecgomes/ray_results/PPO_2024-08-29_13-18-13/PPO_EC_Multi_c347c_00000_0_2024-08-29_13-18-13/checkpoint_000000)\n",
      "2024-08-29 14:51:47,153\tINFO tune.py:1143 -- Total run time: 5613.75 seconds (5613.62 seconds for the tuning loop).\n"
     ]
    }
   ],
   "source": [
    "import logging\n",
    "# Create an RLlib Algorithm instance from a PPOConfig to learn how to\n",
    "# act in the above environment.\n",
    "\n",
    "from ray.tune import register_env\n",
    "from ray.train import Checkpoint\n",
    "from ray import tune, train\n",
    "from ray.tune.schedulers import AsyncHyperBandScheduler\n",
    "from ray.tune.stopper import CombinedStopper, MaximumIterationStopper, TrialPlateauStopper\n",
    "\n",
    "ray.shutdown()\n",
    "ray.init()\n",
    "\n",
    "IMPORT_PENALTY = 1 #100\n",
    "EXPORT_PENALTY = 1 #10\n",
    "STORAGE_ACTION_PENALTY = 1 #100\n",
    "STORAGE_ACTION_REWARD = 5 #10\n",
    "EV_ACTION_PENALTY = 1 #1000\n",
    "EV_ACTION_REWARD = 5 #10\n",
    "EV_REQUIREMENT_PENALTY = 2000 #3000\n",
    "BALANCE_PENALTY = 5000 #20000\n",
    "\n",
    "checkpoint = None\n",
    "checkpoint_path = None\n",
    "algo = None\n",
    "current_best = None\n",
    "\n",
    "# Months per day:\n",
    "# January: 0:31 -> DONE\n",
    "# February: 31:59 -> DONE\n",
    "# March: 59:90 -> DONE\n",
    "# April: 90:120 -> DONE\n",
    "# May: 120:151 -> DONE\n",
    "# June: 151:181 -> DONE\n",
    "# July: 181:212 -> DONE\n",
    "# August: 212:243 -> DONE\n",
    "# September: 243:273 -> DONE\n",
    "# October: 273:304 -> DONE\n",
    "# November: 304:334 -> DONE\n",
    "# December: 334:365 -> DONE\n",
    "\n",
    "gamma_gen = 0.0\n",
    "gamma_storage = 0.9\n",
    "gamma_ev = 0.9\n",
    "\n",
    "# Build a loop for using separate resources on a daily basis\n",
    "for datapoint in list(dataset_resources.keys())[:1]:\n",
    "    \n",
    "    temp_resources = dataset_resources[datapoint]\n",
    "    \n",
    "    env = EnergyCommunitySequentialV9(ren_generators=temp_resources[:5],\n",
    "                                      generators=[],#temp_resources[5:7],\n",
    "                                      loads=temp_resources[5:10],\n",
    "                                      storages=temp_resources[10:13],\n",
    "                                      evs=temp_resources[13:-1],\n",
    "                                      aggregator=temp_resources[-1],\n",
    "                                      storage_penalty=STORAGE_ACTION_PENALTY,\n",
    "                                      ev_penalty=EV_REQUIREMENT_PENALTY,\n",
    "                                      balance_penalty=BALANCE_PENALTY,\n",
    "                                      execution_order=execution_order)\n",
    "\n",
    "    register_env(\"EC_Multi\", lambda config: env)\n",
    "\n",
    "    # Define the PPOConfig\n",
    "    config = PPOConfig() \\\n",
    "        .environment(env=\"EC_Multi\", disable_env_checking=False)\\\n",
    "        .training(train_batch_size=512,\n",
    "                  lr=2e-4, #tune.grid_search([0.001, 0.0001]),\n",
    "                  gamma=0.99,\n",
    "                  use_gae=True,\n",
    "                  use_critic=True,\n",
    "                  use_kl_loss=True,\n",
    "                  clip_param=0.1,\n",
    "                  model={'use_lstm': True,\n",
    "                         'fcnet_hiddens': [256, 256],\n",
    "                         'lstm_cell_size': 64,\n",
    "                         #'max_seq_len': 20,\n",
    "                         'lstm_use_prev_action': True,\n",
    "                         'lstm_use_prev_reward': True,\n",
    "                         'vf_share_layers': False\n",
    "                        }\n",
    "                )\\\n",
    "        .framework('torch') \\\n",
    "        .rollouts(batch_mode='complete_episodes', #'complete_episodes',\n",
    "                  num_rollout_workers=10,\n",
    "                  rollout_fragment_length='auto')\\\n",
    "        .multi_agent(policies={\n",
    "                               'ren_08': (None,\n",
    "                                          env.observation_space['ren_generator_08'],\n",
    "                                          env.action_space['ren_generator_08'],\n",
    "                                          PPOConfig.overrides(gamma=gamma_gen)),\n",
    "                               'ren_09': (None,\n",
    "                                          env.observation_space['ren_generator_09'],\n",
    "                                          env.action_space['ren_generator_09'],\n",
    "                                          PPOConfig.overrides(gamma=gamma_gen)),\n",
    "                               'ren_02': (None,\n",
    "                                          env.observation_space['ren_generator_02'],\n",
    "                                          env.action_space['ren_generator_02'],\n",
    "                                          PPOConfig.overrides(gamma=gamma_gen)),\n",
    "                               'ren_06': (None,\n",
    "                                          env.observation_space['ren_generator_06'],\n",
    "                                          env.action_space['ren_generator_06'],\n",
    "                                          PPOConfig.overrides(gamma=gamma_gen)),\n",
    "                               'ren_13': (None,\n",
    "                                          env.observation_space['ren_generator_13'],\n",
    "                                          env.action_space['ren_generator_13'],\n",
    "                                          PPOConfig.overrides(gamma=gamma_gen)),\n",
    "                               'ev_01': (None,\n",
    "                                         env.observation_space['ev_01'],\n",
    "                                         env.action_space['ev_01'],\n",
    "                                         PPOConfig.overrides(gamma=gamma_ev)),\n",
    "                               'ev_02': (None,\n",
    "                                         env.observation_space['ev_02'],\n",
    "                                         env.action_space['ev_02'],\n",
    "                                         PPOConfig.overrides(gamma=gamma_ev)),\n",
    "                               'ev_03': (None,\n",
    "                                         env.observation_space['ev_03'],\n",
    "                                         env.action_space['ev_03'],\n",
    "                                         PPOConfig.overrides(gamma=gamma_ev)),\n",
    "                               'ev_04': (None,\n",
    "                                         env.observation_space['ev_04'],\n",
    "                                         env.action_space['ev_04'],\n",
    "                                         PPOConfig.overrides(gamma=gamma_ev)),\n",
    "                               'ev_05': (None,\n",
    "                                         env.observation_space['ev_05'],\n",
    "                                         env.action_space['ev_05'],\n",
    "                                         PPOConfig.overrides(gamma=gamma_ev)),\n",
    "                               'storage_01': (None,\n",
    "                                              env.observation_space['storage_01'],\n",
    "                                              env.action_space['storage_01'],\n",
    "                                              PPOConfig.overrides(gamma=gamma_storage)),\n",
    "                               'storage_02': (None,\n",
    "                                              env.observation_space['storage_02'],\n",
    "                                              env.action_space['storage_02'],\n",
    "                                              PPOConfig.overrides(gamma=gamma_storage)),\n",
    "                               'storage_03': (None,\n",
    "                                              env.observation_space['storage_03'],\n",
    "                                              env.action_space['storage_03'],\n",
    "                                              PPOConfig.overrides(gamma=gamma_storage)),\n",
    "                               'aggregator': (None,\n",
    "                                              env.observation_space['aggregator'],\n",
    "                                              env.action_space['aggregator'],\n",
    "                                              PPOConfig.overrides(gamma=0.9))},\n",
    "                     policy_mapping_fn=(\n",
    "                         lambda agent_id, episode, worker, **kwargs:\n",
    "                                        #'generator_renewable' if agent_id.startswith('ren_generator') else\n",
    "                                        'ren_08' if agent_id.startswith('ren_generator_08') else\n",
    "                                        'ren_09' if agent_id.startswith('ren_generator_09') else\n",
    "                                        'ren_02' if agent_id.startswith('ren_generator_02') else\n",
    "                                        'ren_06' if agent_id.startswith('ren_generator_06') else\n",
    "                                        'ren_13' if agent_id.startswith('ren_generator_13') else\n",
    "                                        'storage_01' if agent_id.startswith('storage_01') else\n",
    "                                        'storage_02' if agent_id.startswith('storage_02') else\n",
    "                                        'storage_03' if agent_id.startswith('storage_03') else\n",
    "                                        'ev_01' if agent_id.startswith('ev_01') else\n",
    "                                        'ev_02' if agent_id.startswith('ev_02') else\n",
    "                                        'ev_03' if agent_id.startswith('ev_03') else\n",
    "                                        'ev_04' if agent_id.startswith('ev_04') else\n",
    "                                        'ev_05' if agent_id.startswith('ev_05') else\n",
    "                                        'aggregator'\n",
    "                                        ))\n",
    "    \n",
    "    #algo = config.build()    \n",
    "    \n",
    "    # Clear the Jupyter cell output\n",
    "    IPython.core.display_functions.clear_output()\n",
    "    \n",
    "    stopper = CombinedStopper(\n",
    "        MaximumIterationStopper(max_iter=500),\n",
    "        TrialPlateauStopper(metric='episode_reward_max', mode='max', metric_threshold=0.01)\n",
    "    )\n",
    "\n",
    "    scheduler = AsyncHyperBandScheduler(time_attr=\"training_iteration\")\n",
    "    \n",
    "    # Train the algorithm with Tuner\n",
    "    tuner = tune.Tuner(\n",
    "        \"PPO\",\n",
    "        param_space=config,\n",
    "        run_config=train.RunConfig(stop={'training_iteration': 500, 'episode_reward_mean': 4000}),\n",
    "        tune_config=tune.TuneConfig(scheduler=scheduler,\n",
    "                                    num_samples=1, metric=\"episode_reward_max\", mode=\"max\"),\n",
    "    )\n",
    "    results = tuner.fit()"
   ],
   "metadata": {
    "collapsed": false
   },
   "id": "204b37883758a647",
   "execution_count": 8
  },
  {
   "cell_type": "code",
   "outputs": [
    {
     "data": {
      "text/plain": "'/Users/ecgomes/ray_results/PPO_2024-08-29_13-18-13/PPO_EC_Multi_c347c_00000_0_2024-08-29_13-18-13/checkpoint_000000'"
     },
     "execution_count": 9,
     "metadata": {},
     "output_type": "execute_result"
    }
   ],
   "source": [
    " results.get_best_result('episode_reward_mean', 'max').get_best_checkpoint('episode_reward_mean', 'max').path"
   ],
   "metadata": {
    "collapsed": false,
    "ExecuteTime": {
     "end_time": "2024-08-29T13:52:18.612358Z",
     "start_time": "2024-08-29T13:52:18.608959Z"
    }
   },
   "id": "c26cdd2ebcee6d96",
   "execution_count": 9
  },
  {
   "cell_type": "code",
   "outputs": [
    {
     "data": {
      "text/plain": "TrainingResult(checkpoint=Checkpoint(filesystem=local, path=/Users/ecgomes/DataspellProjects/pyecom/models/no_costs/sequential_monthly_v9), metrics={'custom_metrics': {}, 'episode_media': {}, 'info': {'learner': {'__all__': {'num_agent_steps_trained': 35093.333333333336, 'num_env_steps_trained': 744.0, 'total_loss': 90.45810445149739}, 'ren_08': {'total_loss': 90.45810445149739, 'policy_loss': -0.11016020758284463, 'vf_loss': 9.887492391798231, 'vf_loss_unclipped': 23.095281177096897, 'vf_explained_var': -0.18266610304514566, 'entropy': 0.8672190176116096, 'mean_kl_loss': 0.00013163477899524878, 'default_optimizer_lr': 0.0002, 'curr_lr': 0.0002, 'curr_entropy_coeff': 0.0, 'curr_kl_coeff': 1.5777218339519106e-31}, 'ren_06': {'total_loss': 9.779482311672634, 'policy_loss': -0.10272389650344849, 'vf_loss': 9.882206810845268, 'vf_loss_unclipped': 23.965681711832683, 'vf_explained_var': -0.3536699083116319, 'entropy': 0.42338014311260647, 'mean_kl_loss': 2.0781449529118213e-06, 'default_optimizer_lr': 0.0002, 'curr_lr': 0.0002, 'curr_entropy_coeff': 0.0, 'curr_kl_coeff': 1.5777218339519106e-31}, 'ren_02': {'total_loss': 9.784368303087023, 'policy_loss': -0.10910209351115757, 'vf_loss': 9.893469916449654, 'vf_loss_unclipped': 28.427399317423504, 'vf_explained_var': -0.2981327772140503, 'entropy': 0.3866602083047231, 'mean_kl_loss': 4.98997739907371e-06, 'default_optimizer_lr': 0.0002, 'curr_lr': 0.0002, 'curr_entropy_coeff': 0.0, 'curr_kl_coeff': 1.5777218339519106e-31}, 'ren_09': {'total_loss': 9.776618851555718, 'policy_loss': -0.08794445627265507, 'vf_loss': 9.864563412136501, 'vf_loss_unclipped': 20.433903164333767, 'vf_explained_var': -0.9944765170415243, 'entropy': 0.3116272787253062, 'mean_kl_loss': 3.937964340345385e-06, 'default_optimizer_lr': 0.0002, 'curr_lr': 0.0002, 'curr_entropy_coeff': 0.0, 'curr_kl_coeff': 1.5777218339519106e-31}, 'ren_13': {'total_loss': 9.781222343444824, 'policy_loss': -0.10605551054080327, 'vf_loss': 9.88727781507704, 'vf_loss_unclipped': 24.60898166232639, 'vf_explained_var': -0.3248416980107625, 'entropy': 0.38292227188746136, 'mean_kl_loss': 1.5498445803026801e-06, 'default_optimizer_lr': 0.0002, 'curr_lr': 0.0002, 'curr_entropy_coeff': 0.0, 'curr_kl_coeff': 1.5777218339519106e-31}, 'ev_01': {'total_loss': 5.735640949673122, 'policy_loss': -0.003348762583401468, 'vf_loss': 5.738989618089464, 'vf_loss_unclipped': 140.13979170057507, 'vf_explained_var': -0.006194975641038682, 'entropy': 0.7571955389446683, 'mean_kl_loss': 3.0134145752826038e-05, 'default_optimizer_lr': 0.0002, 'curr_lr': 0.0002, 'curr_entropy_coeff': 0.0, 'curr_kl_coeff': 1.5777218339519106e-31}, 'ev_02': {'total_loss': 7.420678933461507, 'policy_loss': -0.05908447172906664, 'vf_loss': 7.479763242933485, 'vf_loss_unclipped': 9.389246198866102, 'vf_explained_var': 0.13093643056021798, 'entropy': 1.06536955303616, 'mean_kl_loss': 0.00019923054443597246, 'default_optimizer_lr': 0.0002, 'curr_lr': 0.0002, 'curr_entropy_coeff': 0.0, 'curr_kl_coeff': 1.5777218339519106e-31}, 'ev_03': {'total_loss': 5.928840319315593, 'policy_loss': -0.0031849126228027875, 'vf_loss': 5.932025114695231, 'vf_loss_unclipped': 74.50173102484808, 'vf_explained_var': -0.00586863358815511, 'entropy': 0.41875894533263314, 'mean_kl_loss': 4.2543670047597475e-06, 'default_optimizer_lr': 0.0002, 'curr_lr': 0.0002, 'curr_entropy_coeff': 0.0, 'curr_kl_coeff': 1.5777218339519106e-31}, 'ev_04': {'total_loss': 5.601648595598009, 'policy_loss': 0.002934178492675225, 'vf_loss': 5.598714722527398, 'vf_loss_unclipped': 29246.206163194445, 'vf_explained_var': -0.00016302532619900175, 'entropy': 1.6839259068171184, 'mean_kl_loss': 1.3828497142438007e-05, 'default_optimizer_lr': 0.0002, 'curr_lr': 0.0002, 'curr_entropy_coeff': 0.0, 'curr_kl_coeff': 1.5777218339519106e-31}, 'ev_05': {'total_loss': 6.507528252071804, 'policy_loss': -0.014852937789530389, 'vf_loss': 6.5223810407850475, 'vf_loss_unclipped': 16.314687940809463, 'vf_explained_var': 0.03077706363466051, 'entropy': 0.8521842559178671, 'mean_kl_loss': 6.28003174618641e-06, 'default_optimizer_lr': 0.0002, 'curr_lr': 0.0002, 'curr_entropy_coeff': 0.0, 'curr_kl_coeff': 1.5777218339519106e-31}, 'storage_01': {'total_loss': 2.1117115285661487, 'policy_loss': 0.004239520834137996, 'vf_loss': 2.107472022374471, 'vf_loss_unclipped': 23.785057067871094, 'vf_explained_var': 0.04869916041692098, 'entropy': 2.715623140335083, 'mean_kl_loss': 5.9589891858132425e-05, 'default_optimizer_lr': 0.0002, 'curr_lr': 0.0002, 'curr_entropy_coeff': 0.0, 'curr_kl_coeff': 1.5777218339519106e-31}, 'storage_02': {'total_loss': 2.3410388363732233, 'policy_loss': 0.006418804987333715, 'vf_loss': 2.334619919459025, 'vf_loss_unclipped': 331.91357760959204, 'vf_explained_var': 0.004760841528574626, 'entropy': 2.604230456882053, 'mean_kl_loss': 5.005010938536398e-05, 'default_optimizer_lr': 0.0002, 'curr_lr': 0.0002, 'curr_entropy_coeff': 0.0, 'curr_kl_coeff': 1.5777218339519106e-31}, 'storage_03': {'total_loss': 3.8178150918748646, 'policy_loss': 0.004509979186372625, 'vf_loss': 3.8133049541049533, 'vf_loss_unclipped': 90.24775780571832, 'vf_explained_var': 0.001839107937282986, 'entropy': 2.6104613410101996, 'mean_kl_loss': 0.00020880945670424347, 'default_optimizer_lr': 0.0002, 'curr_lr': 0.0002, 'curr_entropy_coeff': 0.0, 'curr_kl_coeff': 1.5777218339519106e-31}, 'aggregator': {'total_loss': 2.094180107116699, 'policy_loss': -0.004112097693400251, 'vf_loss': 2.09829224480523, 'vf_loss_unclipped': 2.5557091765933566, 'vf_explained_var': -0.012925379806094699, 'entropy': 0.0, 'mean_kl_loss': 0.0, 'default_optimizer_lr': 0.0002, 'curr_lr': 0.0002, 'curr_entropy_coeff': 0.0, 'curr_kl_coeff': 1.5777218339519106e-31}}, 'num_env_steps_sampled': 1041600, 'num_env_steps_trained': 0, 'num_agent_steps_sampled': 1041600, 'num_agent_steps_trained': 0}, 'sampler_results': {'episode_reward_max': 4566.354600000063, 'episode_reward_min': -25260.12620000017, 'episode_reward_mean': -250.08759599995, 'episode_len_mean': 10416.0, 'episode_media': {}, 'episodes_this_iter': 1, 'policy_reward_min': {'ren_08': 322.5000000000002, 'ren_06': 347.29999999999984, 'ren_02': 359.3000000000008, 'ren_09': 347.50000000000017, 'ren_13': 344.79999999999995, 'ev_01': -3093.4652999999985, 'ev_02': -5647.1138999999985, 'ev_03': -2520.7943000000023, 'ev_04': -4311.326699999995, 'ev_05': -12078.7785, 'storage_01': -2382.2897000000007, 'storage_02': -3978.7688000000035, 'storage_03': -4119.110100000004, 'aggregator': -5571.481400000006}, 'policy_reward_max': {'ren_08': 599.4999999999983, 'ren_06': 656.5999999999915, 'ren_02': 659.2999999999914, 'ren_09': 660.1999999999912, 'ren_13': 658.8999999999913, 'ev_01': 561.9044, 'ev_02': 524.7364000000002, 'ev_03': 623.4776999999999, 'ev_04': 315.8174999999999, 'ev_05': 515.6254, 'storage_01': -113.31939999999996, 'storage_02': -136.69409999999988, 'storage_03': -111.37290000000002, 'aggregator': -386.70739999999995}, 'policy_reward_mean': {'ren_08': 531.2960000000013, 'ren_06': 587.4699999999945, 'ren_02': 581.8529999999948, 'ren_09': 582.6849999999945, 'ren_13': 586.1789999999951, 'ev_01': -71.32241600000003, 'ev_02': -440.704211, 'ev_03': 211.62161999999992, 'ev_04': -355.0281109999999, 'ev_05': -379.3323260000001, 'storage_01': -441.32734600000003, 'storage_02': -525.001311, 'storage_03': -488.304115, 'aggregator': -630.1723800000001}, 'custom_metrics': {}, 'hist_stats': {'episode_reward': [-25260.12620000017, -24278.26170000019, -21488.61710000008, -17440.24260000015, -18473.4096000001, -11638.731300000098, -6934.944500000016, -4163.503399999987, -6848.213900000009, -2806.547099999992, -3127.9176999999745, -841.0237000000109, -6049.77940000009, -6644.306800000075, -455.9855000000008, -1051.9204000000093, -1113.4059999999968, -1073.2347000000098, 285.9708999999971, 369.0193000000006, 138.00540000000447, 677.069299999988, 56.4006000000006, 497.3779999999856, -1036.1564000000221, -63.62359999999806, 301.5347999999898, -596.686300000038, 855.007199999968, 1041.9920999999688, 1228.14099999998, 1036.6890999999691, 650.6480999999748, 770.0057999999657, 611.3666999999681, 634.0741999999768, 669.8350999999826, 515.9780999999763, 652.7068999999753, 1047.1082999999542, 852.2377999999743, 895.908599999977, 1646.5953000000382, 1360.048800000002, 62.307199999986544, 35.84699999997078, 1344.437500000026, 873.8216999999705, 2148.2835000000696, 1733.8203000000208, 1319.3803999999861, 1075.867299999987, 1018.6288999999431, 837.5985999999854, 1818.9992000000832, 1682.1694000000741, 2170.5556000000834, 1850.858000000042, 1683.9197000000531, 2671.4784000001305, 160.37699999998753, 2392.0611000001154, 2230.1825000000626, 2587.8346000001416, 2644.4329000001753, 2608.7637000001505, 2801.497200000121, 2539.114200000138, 2557.9524000001225, 2355.0948000001135, 2781.9249000001655, 2413.6128000001386, 2476.627000000103, 1842.3078000000596, 3151.8779000001455, 1819.2282000000666, 2955.9919000001755, 1978.0280000001255, 3570.0111000002275, 3297.020600000171, 3543.576200000203, 3932.8534000002237, 3177.3567000001744, 3636.3434000002203, 3180.327900000185, 872.5711000001127, 3668.5959000002217, 3944.1945000002333, 3513.8054000001666, 4231.224300000175, 3533.706900000223, -4276.9936999999745, 3573.132400000203, 3868.0522000002234, 4047.2070000002564, 4566.354600000063, 3341.5205000002343, 3218.9876000001964, -8310.61439999997, 830.0417000001061], 'episode_lengths': [10416, 10416, 10416, 10416, 10416, 10416, 10416, 10416, 10416, 10416, 10416, 10416, 10416, 10416, 10416, 10416, 10416, 10416, 10416, 10416, 10416, 10416, 10416, 10416, 10416, 10416, 10416, 10416, 10416, 10416, 10416, 10416, 10416, 10416, 10416, 10416, 10416, 10416, 10416, 10416, 10416, 10416, 10416, 10416, 10416, 10416, 10416, 10416, 10416, 10416, 10416, 10416, 10416, 10416, 10416, 10416, 10416, 10416, 10416, 10416, 10416, 10416, 10416, 10416, 10416, 10416, 10416, 10416, 10416, 10416, 10416, 10416, 10416, 10416, 10416, 10416, 10416, 10416, 10416, 10416, 10416, 10416, 10416, 10416, 10416, 10416, 10416, 10416, 10416, 10416, 10416, 10416, 10416, 10416, 10416, 10416, 10416, 10416, 10416, 10416], 'policy_ren_08_reward': [322.5000000000002, 341.4000000000006, 353.50000000000074, 360.50000000000085, 356.10000000000093, 374.0000000000009, 381.3000000000009, 382.70000000000124, 394.20000000000164, 399.3000000000018, 416.0000000000015, 421.7000000000018, 444.50000000000284, 445.9000000000023, 450.3000000000027, 445.8000000000025, 467.700000000003, 463.80000000000234, 475.400000000003, 489.60000000000304, 492.3000000000029, 487.80000000000314, 482.7000000000026, 501.9000000000031, 507.7000000000033, 505.90000000000344, 505.4000000000032, 512.1000000000035, 516.1000000000033, 511.7000000000033, 525.0000000000031, 524.4000000000029, 527.100000000003, 533.5000000000027, 537.4000000000027, 534.2000000000024, 541.500000000002, 540.7000000000027, 538.6000000000028, 545.700000000002, 539.2000000000022, 543.7000000000022, 543.200000000002, 553.0000000000016, 549.6000000000021, 551.8000000000021, 557.4000000000015, 554.000000000002, 560.6000000000017, 561.7000000000019, 553.4000000000018, 562.8000000000019, 565.200000000001, 559.2000000000021, 566.1000000000013, 569.6000000000013, 562.2000000000011, 566.4000000000011, 578.5000000000005, 571.1000000000008, 576.4000000000009, 573.7000000000002, 577.7000000000006, 571.200000000001, 575.9000000000001, 573.9000000000005, 576.7000000000006, 580.7000000000006, 578.6000000000008, 577.4000000000009, 582.5000000000002, 582.4000000000003, 579.5000000000005, 576.800000000001, 576.4000000000005, 581.7000000000004, 580.0999999999998, 589.2, 581.4000000000003, 587.8999999999995, 584.8999999999997, 588.2999999999995, 590.5999999999995, 587.5999999999999, 586.5000000000002, 588.5999999999993, 581.4000000000001, 589.5999999999997, 590.4999999999995, 590.9999999999992, 592.499999999999, 595.0999999999991, 592.8999999999988, 590.0999999999989, 596.8999999999988, 592.1999999999985, 590.3999999999996, 599.4999999999983, 597.3999999999988, 596.8999999999983], 'policy_ren_06_reward': [347.29999999999984, 354.4999999999999, 370.10000000000014, 380.50000000000034, 404.59999999999985, 408.5999999999997, 413.2999999999993, 431.1, 429.59999999999934, 471.09999999999906, 462.7999999999994, 481.2999999999987, 490.6999999999984, 489.0999999999989, 504.6999999999987, 508.4999999999987, 524.5999999999979, 527.7999999999977, 536.5999999999968, 513.3999999999978, 539.8999999999969, 536.899999999997, 547.5999999999967, 559.999999999996, 567.2999999999963, 552.5999999999973, 568.399999999996, 574.2999999999962, 582.2999999999953, 564.7999999999962, 581.8999999999954, 588.6999999999953, 584.4999999999955, 586.2999999999947, 599.9999999999944, 598.2999999999948, 597.399999999995, 610.0999999999948, 606.7999999999942, 595.7999999999944, 600.9999999999945, 604.0999999999945, 616.8999999999936, 619.2999999999937, 616.8999999999935, 616.1999999999938, 614.3999999999937, 614.8999999999935, 614.8999999999936, 618.1999999999929, 617.8999999999935, 622.1999999999932, 621.7999999999931, 624.6999999999927, 627.5999999999932, 630.8999999999932, 620.9999999999933, 627.299999999993, 632.699999999993, 638.5999999999924, 633.5999999999931, 627.0999999999932, 629.199999999993, 628.899999999993, 627.8999999999925, 635.9999999999926, 634.6999999999924, 635.8999999999925, 636.0999999999926, 639.2999999999926, 639.9999999999925, 638.4999999999926, 634.4999999999923, 645.4999999999923, 640.1999999999922, 639.7999999999923, 645.699999999992, 645.9999999999923, 643.8999999999921, 647.2999999999923, 643.499999999992, 649.6999999999921, 644.9999999999922, 647.2999999999921, 642.799999999992, 652.8999999999918, 647.7999999999921, 646.3999999999919, 648.6999999999922, 648.9999999999919, 654.4999999999914, 649.5999999999918, 654.5999999999916, 650.2999999999915, 649.6999999999919, 655.3999999999912, 651.0999999999917, 656.5999999999915, 652.699999999992, 653.6999999999916], 'policy_ren_02_reward': [359.3000000000008, 376.60000000000025, 405.7000000000002, 392.7999999999999, 404.0000000000002, 399.9000000000001, 415.3999999999999, 412.59999999999997, 421.5999999999996, 438.89999999999964, 438.59999999999957, 451.6999999999989, 464.9999999999996, 469.9999999999993, 464.89999999999856, 481.49999999999875, 479.09999999999866, 493.29999999999893, 499.899999999999, 508.5999999999977, 519.6999999999981, 502.79999999999853, 533.5999999999972, 518.1999999999982, 545.8999999999972, 538.4999999999976, 543.2999999999978, 556.6999999999971, 559.2999999999967, 562.199999999997, 577.4999999999956, 566.9999999999967, 571.5999999999962, 572.4999999999961, 576.4999999999962, 589.1999999999954, 584.8999999999957, 589.799999999995, 595.1999999999953, 595.699999999996, 600.6999999999949, 591.8999999999957, 602.899999999995, 615.199999999995, 602.5999999999948, 596.9999999999951, 614.299999999995, 613.199999999994, 624.799999999994, 620.799999999994, 619.0999999999935, 622.199999999994, 617.0999999999945, 622.4999999999942, 625.1999999999938, 627.0999999999938, 628.1999999999936, 618.8999999999937, 630.1999999999932, 631.7999999999929, 631.499999999993, 634.2999999999929, 632.2999999999927, 640.4999999999925, 639.2999999999926, 641.1999999999925, 637.499999999993, 638.0999999999932, 638.0999999999923, 641.3999999999927, 638.5999999999926, 641.4999999999924, 647.6999999999919, 648.3999999999921, 648.8999999999924, 643.8999999999925, 647.7999999999919, 645.7999999999923, 647.099999999992, 651.499999999992, 651.699999999992, 651.4999999999919, 646.1999999999922, 649.3999999999918, 649.3999999999921, 647.3999999999922, 649.399999999992, 651.0999999999917, 647.4999999999917, 650.3999999999919, 649.499999999992, 654.4999999999919, 653.2999999999915, 654.199999999992, 656.1999999999915, 658.2999999999913, 653.0999999999918, 654.1999999999915, 658.0999999999916, 659.2999999999914], 'policy_ren_09_reward': [347.50000000000017, 359.7000000000004, 377.6999999999997, 378.09999999999974, 398.49999999999955, 403.99999999999966, 406.4999999999991, 426.7999999999995, 437.6999999999992, 445.89999999999895, 452.3999999999988, 472.5999999999985, 486.29999999999825, 470.0999999999984, 495.4999999999982, 499.2999999999976, 492.4999999999982, 497.7999999999975, 504.29999999999785, 523.8999999999974, 513.2999999999979, 520.5999999999973, 532.7999999999975, 537.2999999999975, 540.0999999999966, 533.7999999999975, 551.4999999999968, 549.6999999999967, 556.499999999997, 571.2999999999969, 565.9999999999961, 560.9999999999967, 562.299999999996, 569.1999999999961, 574.1999999999962, 573.4999999999962, 584.199999999995, 591.6999999999949, 588.1999999999957, 583.4999999999951, 594.6999999999946, 594.0999999999948, 608.2999999999938, 604.9999999999941, 604.2999999999943, 611.0999999999947, 615.6999999999939, 611.5999999999942, 617.3999999999941, 619.9999999999933, 608.499999999994, 612.5999999999941, 618.8999999999936, 619.6999999999931, 619.6999999999937, 624.799999999993, 623.8999999999929, 633.9999999999926, 629.2999999999929, 622.9999999999934, 628.0999999999929, 627.5999999999924, 635.2999999999925, 638.7999999999926, 637.2999999999925, 638.6999999999927, 640.8999999999925, 641.4999999999924, 647.4999999999922, 645.5999999999921, 640.4999999999924, 643.7999999999921, 638.7999999999923, 643.699999999992, 643.9999999999922, 647.799999999992, 646.7999999999921, 647.3999999999924, 648.5999999999916, 651.0999999999916, 650.0999999999917, 654.2999999999914, 653.0999999999915, 654.1999999999917, 655.3999999999917, 653.4999999999917, 651.3999999999918, 650.4999999999916, 651.6999999999916, 656.1999999999916, 656.9999999999916, 655.1999999999915, 652.0999999999915, 656.5999999999912, 660.1999999999912, 658.4999999999915, 657.3999999999912, 655.3999999999916, 658.2999999999914, 659.1999999999914], 'policy_ren_13_reward': [344.79999999999995, 360.4000000000003, 366.09999999999974, 391.20000000000016, 397.2000000000002, 404.49999999999966, 421.8999999999998, 427.9999999999998, 436.40000000000015, 450.59999999999974, 452.7, 471.1000000000002, 482.09999999999997, 481.5999999999997, 493.9000000000001, 501.3000000000001, 503.90000000000026, 504.8000000000004, 523.2999999999993, 510.39999999999884, 524.5999999999988, 529.2999999999985, 536.4999999999987, 544.4999999999987, 548.4999999999984, 548.0999999999987, 556.9999999999983, 563.2999999999973, 572.2999999999978, 565.3999999999977, 569.7999999999972, 576.899999999996, 581.3999999999966, 589.7999999999968, 586.1999999999967, 585.9999999999965, 594.2999999999953, 595.1999999999966, 604.0999999999959, 602.399999999995, 604.5999999999951, 598.5999999999957, 605.9999999999952, 606.9999999999953, 602.3999999999952, 617.9999999999945, 613.3999999999947, 618.7999999999946, 623.6999999999937, 616.2999999999944, 623.2999999999939, 628.6999999999932, 619.8999999999945, 623.7999999999935, 630.2999999999929, 628.5999999999934, 626.8999999999934, 627.1999999999935, 625.999999999993, 632.6999999999932, 636.7999999999928, 631.5999999999933, 638.7999999999923, 636.7999999999927, 646.3999999999925, 641.9999999999925, 641.8999999999928, 645.5999999999921, 638.2999999999928, 647.9999999999924, 641.6999999999923, 641.0999999999923, 646.3999999999918, 648.0999999999921, 641.5999999999922, 648.899999999992, 647.699999999992, 649.0999999999917, 646.5999999999917, 650.0999999999922, 652.3999999999921, 649.499999999992, 649.6999999999916, 649.1999999999919, 654.2999999999921, 649.3999999999918, 655.9999999999917, 652.6999999999917, 654.1999999999913, 656.1999999999915, 648.799999999992, 652.999999999992, 653.5999999999916, 655.7999999999919, 656.3999999999915, 653.9999999999918, 658.8999999999913, 657.1999999999916, 655.9999999999916, 655.0999999999915], 'policy_ev_01_reward': [-2055.9186000000022, -3093.4652999999985, -797.8696999999999, -1240.3484999999998, -2154.9012000000034, -997.1509999999993, -526.6215999999995, -838.3105999999999, -650.1867999999997, -241.95700000000014, -172.87450000000018, -17.5271, -209.45230000000043, -1.916600000000002, -45.9294, -67.84029999999997, -152.93599999999992, -474.06190000000095, -153.25579999999997, 27.475800000000024, -215.02909999999997, 20.54210000000004, -364.63420000000013, 36.35510000000008, -1351.9113000000004, -321.76300000000015, -155.28190000000012, -721.6083999999985, 25.455100000000023, -243.60049999999995, 53.19660000000008, 68.98819999999999, -52.11099999999993, 84.7315, -219.51019999999997, 96.89209999999994, -27.896199999999972, 98.91020000000002, -382.2299000000001, -669.1866, -315.3550000000004, 86.51059999999998, 64.69060000000005, 156.14849999999993, -1092.1416000000002, -296.27540000000005, -80.96290000000006, -1141.9531999999997, 160.49270000000007, -165.76160000000016, -62.218900000000055, -359.6889, 199.4047000000001, 214.9491000000002, -194.16469999999995, 14.137999999999966, 249.4283999999999, 56.342399999999984, 240.38989999999993, 292.40220000000016, 242.0974, 296.24970000000013, 205.98449999999985, 304.96189999999996, -133.46450000000002, 197.56619999999995, 63.83889999999996, 230.83489999999998, 84.64659999999999, 176.01959999999994, 91.64980000000013, 103.2456999999999, 343.51489999999984, 355.6677, 384.6445999999999, 347.7874000000001, 424.954, -411.1077000000001, 436.44270000000023, 373.1472999999998, 471.7762000000001, 482.48269999999974, 473.45410000000015, 127.08640000000001, 390.17539999999997, 371.7279, 514.3938, 396.4523, 510.3888000000001, 518.0500000000001, 361.90240000000006, 546.8974000000002, 552.6697000000001, 524.7159, 561.9044, 480.3565000000002, 25.287900000000047, 559.7490000000003, 552.4878999999997, 405.4829999999999], 'policy_ev_02_reward': [-5647.1138999999985, -5045.466500000001, -4496.877299999997, -3695.1762000000003, -3603.394900000003, -2575.9503, -2829.7772000000014, -1622.7150999999988, -2129.863900000001, -1014.0353999999998, -1310.8456000000008, -1232.1758999999986, -972.0663999999995, -1148.4282999999998, -618.7136999999994, -432.9342999999998, -532.3931999999998, -606.4565999999994, -465.7504999999999, -223.0401000000002, -363.3711000000003, -179.0438000000003, -428.58750000000015, -421.5183, -474.2797999999999, -254.11550000000022, -296.9815999999999, -398.1733999999997, -243.97679999999994, -345.58489999999944, -291.61470000000025, -327.1842, -291.15100000000007, -219.74660000000026, -376.8358000000002, -229.37500000000006, -288.3135000000002, -334.12600000000026, -430.8262000000004, -256.9191000000003, -349.0461000000002, -355.5960000000004, -151.03799999999998, -389.7613, -351.42600000000016, -274.237, -366.7239999999999, -228.02240000000026, -311.11300000000034, -237.08559999999986, -265.78900000000004, -255.6384000000004, -180.6029000000002, -221.70770000000013, -226.4503000000001, -205.18749999999991, -172.37480000000036, -87.05270000000009, -86.99590000000019, -224.5652000000001, -209.98999999999998, -317.3450000000003, -41.266599999999976, -75.49680000000006, -74.93229999999993, -96.64100000000006, 57.72709999999998, 72.64430000000003, 14.405300000000004, -32.399599999999985, 89.66299999999997, 92.58880000000005, -204.52550000000005, 53.74729999999999, 205.62419999999986, -52.66400000000002, 92.90839999999997, 223.24960000000002, 195.62049999999988, 308.97389999999996, 277.31279999999987, 312.6665999999999, 220.3126, 142.83959999999996, 175.93280000000001, 284.04190000000006, 334.3747999999998, 320.2644, 385.76330000000013, 400.6272999999997, 265.37820000000005, 421.6973000000002, 367.4444000000002, 353.33219999999994, 488.8985999999999, 462.45929999999976, 468.59760000000006, 502.77869999999996, 513.5423999999999, 524.7364000000002], 'policy_ev_03_reward': [-2319.1947000000005, -1649.0659000000037, -2520.7943000000023, -1008.4454999999999, -725.7869000000005, -1794.4934000000014, -449.4444000000002, -24.693999999999967, -228.63620000000003, -244.2978, -106.19339999999998, -107.17540000000007, 6.421699999999995, 26.41490000000004, 35.71369999999999, -220.03500000000005, -65.09600000000002, -139.31040000000004, 55.26110000000004, -127.49769999999994, 92.37240000000004, 61.135700000000014, 155.21739999999997, 129.66469999999993, 171.05649999999991, 116.98390000000006, 129.05300000000003, 68.12030000000003, 206.6908999999999, 218.79219999999978, 239.94759999999997, 237.43590000000003, 237.37300000000013, 265.3982999999999, 198.40319999999988, 271.3312999999999, 317.5393000000001, 319.5089999999999, 324.7667, 329.47689999999994, 353.45440000000013, 350.36370000000016, 365.64490000000006, 342.1136, 397.9338000000002, 413.5932000000001, 421.2873999999999, 402.22310000000016, 176.36190000000008, 347.59490000000005, 277.5323, 431.40060000000005, 455.20110000000005, 468.93789999999996, 437.2336000000001, 336.1448000000002, 463.75860000000006, 481.58430000000016, 367.4812, 480.7185999999999, 468.66890000000024, 493.03150000000016, 233.5731999999999, 502.80199999999996, 469.96480000000014, 525.4728000000001, 533.8208, 424.52160000000015, 541.0723999999998, 530.7298999999999, 372.2050000000001, 232.5696999999998, 561.1314, 521.3316000000003, 556.6016, 480.62620000000004, 567.6633999999999, 561.7995999999998, 582.2259, 579.0874999999997, 575.3991, 590.9575000000003, 572.9192000000002, 591.8566000000001, 600.5573, 599.2798000000003, 596.3914000000002, 584.6273, 605.6546999999998, 396.9659, 605.7591999999999, 598.4359999999999, 599.1563, 613.1909, 322.4688, 623.4776999999999, 617.5531, 610.6422000000001, 449.27020000000016, 414.2164999999998], 'policy_ev_04_reward': [-2349.6259, -4311.326699999995, -3556.363300000005, -1367.717900000002, -1000.8149999999991, -1005.2411999999998, -331.0661, -107.28130000000012, -696.6054999999981, -271.5768000000001, -583.4044999999994, -56.543499999999945, -361.86480000000006, -83.12149999999994, -167.62500000000006, -214.24590000000006, -606.3677999999998, -338.5713999999997, -44.3745999999999, -53.703399999999945, -439.9753000000001, -132.9027, -404.41870000000006, -81.69910000000013, -42.68209999999992, -89.59079999999997, -204.66710000000015, -67.65819999999998, -250.5782000000002, -39.23799999999993, -53.20959999999994, -73.19020000000002, -390.3827, -281.9805, -144.02730000000022, -240.19640000000024, -386.57139999999976, -98.68230000000011, -279.2978999999998, -46.79049999999995, -45.684299999999936, -714.5542999999983, -39.53989999999994, -20.587899999999948, -698.4856000000001, -1530.0876000000023, -161.44600000000003, -122.95610000000029, 14.254100000000005, -3.2644999999999933, -512.1046999999998, -532.5244999999995, -275.68850000000003, -411.99680000000023, 5.556300000000006, 13.90170000000001, -59.436199999999985, -342.4560000000006, -866.9049999999999, -117.04090000000008, -544.068599999999, 45.51130000000013, 42.06200000000005, 7.411000000000082, -158.50620000000015, -218.26909999999992, 7.762399999999955, -94.3359999999999, -189.4734000000002, 88.94160000000007, 136.96869999999993, 121.4697, -694.0433999999997, 187.7525999999999, 73.46290000000008, -1160.7256999999995, -546.7728999999997, -43.5224000000001, -22.682700000000082, 138.6591, 235.01449999999988, 56.85399999999986, -175.61370000000005, 222.8291999999999, 93.22700000000003, -157.0946000000001, 228.0429, 236.0481999999997, -31.889399999999963, 283.9189999999999, 242.82910000000004, -3268.670399999998, -3.219800000000034, -261.22309999999993, 162.1299, 315.8174999999999, 120.03769999999999, -469.6093999999999, 42.71230000000001, -2876.3250999999977], 'policy_ev_05_reward': [-3635.4773, -4468.234300000002, -3421.740899999999, -4543.994599999999, -2906.0415999999987, -1592.9686000000008, -2387.9835000000003, -1467.301599999999, -1477.1904000000004, -913.2403999999993, -549.1637999999994, -18.97899999999998, -16.946399999999993, -840.2233999999993, -351.8045999999999, -303.25130000000024, -258.03840000000014, -219.80160000000058, -39.76439999999997, -126.5575, -15.460099999999997, -26.410499999999928, -31.847899999999907, 11.290600000000012, -251.58329999999987, -566.8064999999998, -12.158499999999869, -793.3176999999993, -76.44059999999995, 37.38410000000007, 32.72480000000004, 74.84960000000008, -136.92390000000012, -588.6354999999998, -85.97809999999997, -474.49550000000073, -17.570799999999963, -282.9093, 76.4907000000001, 127.54300000000002, 106.9266000000001, -127.89429999999994, 76.37870000000002, 94.53789999999996, 142.58560000000008, 34.37240000000006, 66.49609999999987, 173.84109999999995, 205.7562999999999, 123.86039999999974, 228.87939999999992, 213.8792, 252.52139999999974, 199.00239999999994, 158.47519999999975, 146.58939999999998, 283.15419999999983, 132.69969999999995, 250.0052999999999, 352.68049999999977, -127.54730000000019, 73.75910000000003, 374.9371999999999, 366.40329999999994, 374.1107999999997, 325.78369999999984, 189.0697999999999, 385.11259999999976, 442.94020000000006, 396.81279999999975, 80.433, 336.19569999999993, 440.40149999999977, -300.7082999999999, 84.67420000000004, 421.48019999999985, 344.30380000000014, -486.43609999999984, 427.13429999999994, 292.90620000000007, 328.2818999999999, 409.97330000000005, 192.17599999999996, 455.9542999999999, 293.8538, -1996.0436000000002, 492.77439999999996, 268.6229000000001, 146.0131, 498.8558, -73.9751, -4448.714500000002, 99.49450000000012, 471.34360000000004, 488.7713, 409.41670000000016, 466.06439999999986, 109.50250000000001, -12078.7785, 515.6254], 'policy_storage_01_reward': [-2304.943300000001, -1943.3612999999993, -2361.512900000001, -2382.2897000000007, -941.5124, -1369.870700000001, -502.0799, -489.24739999999963, -1900.8080000000014, -379.9342000000003, -630.4327999999994, -500.5145000000001, -283.1223999999997, -403.13709999999986, -466.3279999999999, -684.3855999999998, -472.6372999999995, -377.7879999999994, -289.53690000000023, -366.3988999999998, -357.3404999999999, -477.76420000000013, -243.34620000000015, -412.72849999999994, -327.12559999999996, -387.4926999999995, -506.81879999999984, -264.4661, -440.86750000000035, -258.1807999999998, -262.36220000000003, -498.6656000000001, -251.71610000000038, -279.2605000000003, -258.2576000000001, -596.7324000000003, -416.532, -603.3615999999989, -357.63239999999973, -362.8787999999998, -482.91919999999993, -299.1325000000001, -367.8305000000003, -355.5717999999998, -404.4692000000001, -241.9835000000001, -513.9171000000003, -191.46540000000016, -203.60519999999997, -229.45809999999992, -269.20100000000025, -557.8588000000002, -260.5362999999998, -349.3848999999999, -246.65860000000004, -331.32929999999965, -195.11, -599.7549999999992, -372.72810000000067, -186.0147999999998, -258.2253999999999, -245.01450000000003, -333.3027000000003, -363.65520000000004, -160.30090000000033, -368.1790999999999, -167.21080000000023, -343.8952000000002, -224.63449999999986, -659.1315000000001, -259.1211000000001, -165.48030000000023, -285.6164000000002, -412.4230999999997, -432.4083999999999, -383.5817000000005, -319.0704000000003, -150.97969999999995, -198.7783000000002, -288.5704000000002, -482.85929999999996, -287.6936999999999, -315.04380000000054, -256.21830000000006, -245.04200000000026, -173.71250000000003, -379.17649999999975, -261.4788000000003, -360.54230000000035, -161.6496000000002, -210.22690000000014, -183.7720000000001, -187.5492, -156.97020000000015, -333.6496, -140.93100000000004, -190.19880000000023, -209.14270000000002, -113.31939999999996, -191.6777000000002], 'policy_storage_02_reward': [-3978.7688000000035, -2381.2721, -2902.0178, -1817.287599999999, -1431.4815999999998, -1691.5571000000016, -399.6939, -415.9039999999999, -497.65099999999944, -663.0979000000003, -384.9934999999997, -306.8104999999997, -383.4765000000002, -381.7413000000001, -291.63569999999993, -526.6421, -668.242, -572.4602999999996, -392.7735, -310.04749999999984, -368.9982999999993, -354.9056, -343.6168, -440.1584999999995, -708.4367000000005, -295.1365999999999, -437.79139999999984, -405.86540000000025, -288.6771999999997, -274.0431999999997, -358.92010000000016, -394.8450999999998, -424.2332000000002, -329.5416, -232.8567999999998, -283.8851, -701.4395000000006, -577.0018000000008, -303.8922, -251.09219999999985, -646.2572000000001, -226.1622999999999, -492.9013999999999, -505.82830000000007, -301.7837999999998, -223.42819999999998, -329.4388000000002, -274.93749999999943, -263.1355, -221.99799999999988, -201.00860000000003, -149.45769999999987, -1390.3724, -1238.2508999999982, -359.31799999999976, -427.9601999999999, -704.2470000000006, -147.42439999999988, -169.2955999999998, -281.11940000000027, -1905.375799999997, -327.3511999999998, -556.7791000000005, -473.06910000000045, -142.90429999999986, -159.82699999999994, -303.8300000000002, -482.35640000000006, -483.26849999999985, -399.2723000000006, -149.13619999999995, -624.4889999999998, -181.25620000000004, -1041.9493000000018, -199.87000000000006, -348.6676, -167.70829999999958, -247.16410000000005, -136.69409999999988, -346.05430000000024, -417.4992000000004, -145.3856999999998, -298.70470000000046, -143.10529999999991, -613.2804000000012, -530.0290000000005, -623.3137000000007, -161.52939999999987, -375.6524, -265.83790000000033, -313.38809999999967, -477.3092000000005, -544.0175, -324.9970000000004, -141.8318999999999, -205.63690000000003, -677.6947000000001, -147.88029999999995, -265.9075999999998, -422.8902000000001], 'policy_storage_03_reward': [-4119.110100000004, -2596.0988999999977, -2725.8664999999955, -2707.4888000000024, -2098.3945999999996, -2030.7705999999982, -966.181599999999, -705.3414999999993, -809.0570000000005, -726.1013999999992, -1056.9556999999995, -342.32090000000017, -644.6482999999997, -617.5325999999999, -403.0894000000001, -502.92479999999983, -285.1873000000003, -296.1543000000002, -401.8396000000002, -470.0052999999999, -256.85490000000016, -295.5954999999999, -398.9439000000002, -458.7051000000002, -247.81640000000013, -432.8223000000006, -426.26540000000034, -259.67120000000006, -351.22210000000024, -327.41989999999976, -436.34039999999976, -370.6509000000002, -358.61590000000024, -223.6502999999998, -633.1038000000003, -287.2734, -218.7928999999998, -439.76090000000005, -432.31059999999985, -252.68759999999997, -220.6515000000002, -251.00579999999962, -299.41649999999964, -456.0595000000006, -124.83720000000014, -352.2995999999997, -225.2148, -280.9351000000002, -200.79490000000007, -454.6180000000001, -417.4722999999999, -296.6391, -334.3939, -414.93699999999995, -346.11570000000023, -484.6091999999998, -284.67400000000015, -260.37729999999993, -311.7164000000002, -271.7453000000001, -156.63780000000003, -244.13410000000016, -357.2565999999998, -347.9706, -209.72470000000007, -287.7338000000004, -264.1729999999999, -339.7782000000003, -316.3465000000003, -452.2743999999992, -285.4476000000004, -386.0680000000005, -208.69040000000018, -246.11249999999998, -236.2004000000001, -218.92150000000018, -169.05859999999998, -213.02369999999993, -447.88270000000045, -521.8160000000003, -193.79709999999997, -253.09270000000026, -248.59720000000002, -271.40669999999994, -279.8016, -289.6593000000004, -249.72000000000025, -217.22700000000012, -121.3523, -232.20870000000008, -137.46679999999995, -265.1185000000002, -111.37290000000002, -158.46450000000007, -315.44059999999996, -201.21760000000003, -297.9205000000001, -559.0918000000001, -239.49970000000008, -376.6191999999998], 'policy_aggregator_reward': [-571.3736000000001, -582.5706999999993, -578.6744000000003, -580.5938000000002, -5571.481400000006, -571.7283999999999, -580.4963000000012, -573.9079000000007, -577.7151000000006, -558.1062000000002, -555.5539000000005, -557.3769000000005, -5553.223999999996, -5551.320900000008, -555.8733999999994, -536.0611000000007, -540.308, -536.1301999999998, -521.4949000000003, -527.1060999999996, -527.1376999999991, -515.3861999999992, -516.6216000000001, -527.0229000000002, -512.8777000000005, -511.78009999999995, -513.1534999999999, -510.14619999999996, -511.8764, -501.51689999999985, -515.481, -498.04859999999974, -508.49110000000013, -508.6089999999998, -510.76690000000013, -503.39139999999975, -492.8878999999999, -494.09919999999954, -495.2612999999997, -493.45679999999993, -488.4299000000003, -499.0204999999999, -486.69260000000025, -504.44239999999996, -480.8687999999998, -487.90730000000025, -480.84240000000005, -474.4728000000001, -471.3329, -462.4491999999998, -481.43679999999995, -466.1050999999994, -489.8042999999996, -458.91349999999966, -478.4586000000002, -460.51829999999933, -472.14359999999976, -456.50299999999964, -463.0156999999999, -471.0372999999997, -454.94440000000037, -476.9457000000001, -451.06940000000003, -449.7519, -446.60979999999995, -441.2089999999997, -447.20800000000014, -455.4334000000002, -449.98919999999987, -446.03129999999993, -438.5896999999999, -443.7194999999994, -441.1889000000002, -437.49820000000005, -435.75079999999986, -428.20509999999985, -439.32750000000044, -432.2874999999998, -432.97450000000003, -427.2126999999999, -432.65270000000027, -427.20860000000016, -428.14579999999995, -421.1924000000001, -423.6944, -427.7394999999999, -431.1712000000001, -411.88540000000006, -437.17810000000054, -410.2975, -409.4050999999996, -407.83979999999997, -405.97310000000033, -399.8756000000008, -405.4439000000001, -395.7876, -401.1062000000002, -400.8605999999998, -393.622, -386.70739999999995]}, 'sampler_perf': {'mean_raw_obs_processing_ms': 0.16749759318077942, 'mean_inference_ms': 0.5765966687877164, 'mean_action_processing_ms': 0.0403313289141754, 'mean_env_wait_ms': 0.02830128232021383, 'mean_env_render_ms': 0.0}, 'num_faulty_episodes': 0, 'connector_metrics': {'ObsPreprocessorConnector_ms': 0.00849604606628418, 'StateBufferConnector_ms': 0.0011398451668875559, 'ViewRequirementAgentConnector_ms': 0.08736506530216762}}, 'episode_reward_max': 4566.354600000063, 'episode_reward_min': -25260.12620000017, 'episode_reward_mean': -250.08759599995, 'episode_len_mean': 10416.0, 'episodes_this_iter': 1, 'policy_reward_min': {'ren_08': 322.5000000000002, 'ren_06': 347.29999999999984, 'ren_02': 359.3000000000008, 'ren_09': 347.50000000000017, 'ren_13': 344.79999999999995, 'ev_01': -3093.4652999999985, 'ev_02': -5647.1138999999985, 'ev_03': -2520.7943000000023, 'ev_04': -4311.326699999995, 'ev_05': -12078.7785, 'storage_01': -2382.2897000000007, 'storage_02': -3978.7688000000035, 'storage_03': -4119.110100000004, 'aggregator': -5571.481400000006}, 'policy_reward_max': {'ren_08': 599.4999999999983, 'ren_06': 656.5999999999915, 'ren_02': 659.2999999999914, 'ren_09': 660.1999999999912, 'ren_13': 658.8999999999913, 'ev_01': 561.9044, 'ev_02': 524.7364000000002, 'ev_03': 623.4776999999999, 'ev_04': 315.8174999999999, 'ev_05': 515.6254, 'storage_01': -113.31939999999996, 'storage_02': -136.69409999999988, 'storage_03': -111.37290000000002, 'aggregator': -386.70739999999995}, 'policy_reward_mean': {'ren_08': 531.2960000000013, 'ren_06': 587.4699999999945, 'ren_02': 581.8529999999948, 'ren_09': 582.6849999999945, 'ren_13': 586.1789999999951, 'ev_01': -71.32241600000003, 'ev_02': -440.704211, 'ev_03': 211.62161999999992, 'ev_04': -355.0281109999999, 'ev_05': -379.3323260000001, 'storage_01': -441.32734600000003, 'storage_02': -525.001311, 'storage_03': -488.304115, 'aggregator': -630.1723800000001}, 'hist_stats': {'episode_reward': [-25260.12620000017, -24278.26170000019, -21488.61710000008, -17440.24260000015, -18473.4096000001, -11638.731300000098, -6934.944500000016, -4163.503399999987, -6848.213900000009, -2806.547099999992, -3127.9176999999745, -841.0237000000109, -6049.77940000009, -6644.306800000075, -455.9855000000008, -1051.9204000000093, -1113.4059999999968, -1073.2347000000098, 285.9708999999971, 369.0193000000006, 138.00540000000447, 677.069299999988, 56.4006000000006, 497.3779999999856, -1036.1564000000221, -63.62359999999806, 301.5347999999898, -596.686300000038, 855.007199999968, 1041.9920999999688, 1228.14099999998, 1036.6890999999691, 650.6480999999748, 770.0057999999657, 611.3666999999681, 634.0741999999768, 669.8350999999826, 515.9780999999763, 652.7068999999753, 1047.1082999999542, 852.2377999999743, 895.908599999977, 1646.5953000000382, 1360.048800000002, 62.307199999986544, 35.84699999997078, 1344.437500000026, 873.8216999999705, 2148.2835000000696, 1733.8203000000208, 1319.3803999999861, 1075.867299999987, 1018.6288999999431, 837.5985999999854, 1818.9992000000832, 1682.1694000000741, 2170.5556000000834, 1850.858000000042, 1683.9197000000531, 2671.4784000001305, 160.37699999998753, 2392.0611000001154, 2230.1825000000626, 2587.8346000001416, 2644.4329000001753, 2608.7637000001505, 2801.497200000121, 2539.114200000138, 2557.9524000001225, 2355.0948000001135, 2781.9249000001655, 2413.6128000001386, 2476.627000000103, 1842.3078000000596, 3151.8779000001455, 1819.2282000000666, 2955.9919000001755, 1978.0280000001255, 3570.0111000002275, 3297.020600000171, 3543.576200000203, 3932.8534000002237, 3177.3567000001744, 3636.3434000002203, 3180.327900000185, 872.5711000001127, 3668.5959000002217, 3944.1945000002333, 3513.8054000001666, 4231.224300000175, 3533.706900000223, -4276.9936999999745, 3573.132400000203, 3868.0522000002234, 4047.2070000002564, 4566.354600000063, 3341.5205000002343, 3218.9876000001964, -8310.61439999997, 830.0417000001061], 'episode_lengths': [10416, 10416, 10416, 10416, 10416, 10416, 10416, 10416, 10416, 10416, 10416, 10416, 10416, 10416, 10416, 10416, 10416, 10416, 10416, 10416, 10416, 10416, 10416, 10416, 10416, 10416, 10416, 10416, 10416, 10416, 10416, 10416, 10416, 10416, 10416, 10416, 10416, 10416, 10416, 10416, 10416, 10416, 10416, 10416, 10416, 10416, 10416, 10416, 10416, 10416, 10416, 10416, 10416, 10416, 10416, 10416, 10416, 10416, 10416, 10416, 10416, 10416, 10416, 10416, 10416, 10416, 10416, 10416, 10416, 10416, 10416, 10416, 10416, 10416, 10416, 10416, 10416, 10416, 10416, 10416, 10416, 10416, 10416, 10416, 10416, 10416, 10416, 10416, 10416, 10416, 10416, 10416, 10416, 10416, 10416, 10416, 10416, 10416, 10416, 10416], 'policy_ren_08_reward': [322.5000000000002, 341.4000000000006, 353.50000000000074, 360.50000000000085, 356.10000000000093, 374.0000000000009, 381.3000000000009, 382.70000000000124, 394.20000000000164, 399.3000000000018, 416.0000000000015, 421.7000000000018, 444.50000000000284, 445.9000000000023, 450.3000000000027, 445.8000000000025, 467.700000000003, 463.80000000000234, 475.400000000003, 489.60000000000304, 492.3000000000029, 487.80000000000314, 482.7000000000026, 501.9000000000031, 507.7000000000033, 505.90000000000344, 505.4000000000032, 512.1000000000035, 516.1000000000033, 511.7000000000033, 525.0000000000031, 524.4000000000029, 527.100000000003, 533.5000000000027, 537.4000000000027, 534.2000000000024, 541.500000000002, 540.7000000000027, 538.6000000000028, 545.700000000002, 539.2000000000022, 543.7000000000022, 543.200000000002, 553.0000000000016, 549.6000000000021, 551.8000000000021, 557.4000000000015, 554.000000000002, 560.6000000000017, 561.7000000000019, 553.4000000000018, 562.8000000000019, 565.200000000001, 559.2000000000021, 566.1000000000013, 569.6000000000013, 562.2000000000011, 566.4000000000011, 578.5000000000005, 571.1000000000008, 576.4000000000009, 573.7000000000002, 577.7000000000006, 571.200000000001, 575.9000000000001, 573.9000000000005, 576.7000000000006, 580.7000000000006, 578.6000000000008, 577.4000000000009, 582.5000000000002, 582.4000000000003, 579.5000000000005, 576.800000000001, 576.4000000000005, 581.7000000000004, 580.0999999999998, 589.2, 581.4000000000003, 587.8999999999995, 584.8999999999997, 588.2999999999995, 590.5999999999995, 587.5999999999999, 586.5000000000002, 588.5999999999993, 581.4000000000001, 589.5999999999997, 590.4999999999995, 590.9999999999992, 592.499999999999, 595.0999999999991, 592.8999999999988, 590.0999999999989, 596.8999999999988, 592.1999999999985, 590.3999999999996, 599.4999999999983, 597.3999999999988, 596.8999999999983], 'policy_ren_06_reward': [347.29999999999984, 354.4999999999999, 370.10000000000014, 380.50000000000034, 404.59999999999985, 408.5999999999997, 413.2999999999993, 431.1, 429.59999999999934, 471.09999999999906, 462.7999999999994, 481.2999999999987, 490.6999999999984, 489.0999999999989, 504.6999999999987, 508.4999999999987, 524.5999999999979, 527.7999999999977, 536.5999999999968, 513.3999999999978, 539.8999999999969, 536.899999999997, 547.5999999999967, 559.999999999996, 567.2999999999963, 552.5999999999973, 568.399999999996, 574.2999999999962, 582.2999999999953, 564.7999999999962, 581.8999999999954, 588.6999999999953, 584.4999999999955, 586.2999999999947, 599.9999999999944, 598.2999999999948, 597.399999999995, 610.0999999999948, 606.7999999999942, 595.7999999999944, 600.9999999999945, 604.0999999999945, 616.8999999999936, 619.2999999999937, 616.8999999999935, 616.1999999999938, 614.3999999999937, 614.8999999999935, 614.8999999999936, 618.1999999999929, 617.8999999999935, 622.1999999999932, 621.7999999999931, 624.6999999999927, 627.5999999999932, 630.8999999999932, 620.9999999999933, 627.299999999993, 632.699999999993, 638.5999999999924, 633.5999999999931, 627.0999999999932, 629.199999999993, 628.899999999993, 627.8999999999925, 635.9999999999926, 634.6999999999924, 635.8999999999925, 636.0999999999926, 639.2999999999926, 639.9999999999925, 638.4999999999926, 634.4999999999923, 645.4999999999923, 640.1999999999922, 639.7999999999923, 645.699999999992, 645.9999999999923, 643.8999999999921, 647.2999999999923, 643.499999999992, 649.6999999999921, 644.9999999999922, 647.2999999999921, 642.799999999992, 652.8999999999918, 647.7999999999921, 646.3999999999919, 648.6999999999922, 648.9999999999919, 654.4999999999914, 649.5999999999918, 654.5999999999916, 650.2999999999915, 649.6999999999919, 655.3999999999912, 651.0999999999917, 656.5999999999915, 652.699999999992, 653.6999999999916], 'policy_ren_02_reward': [359.3000000000008, 376.60000000000025, 405.7000000000002, 392.7999999999999, 404.0000000000002, 399.9000000000001, 415.3999999999999, 412.59999999999997, 421.5999999999996, 438.89999999999964, 438.59999999999957, 451.6999999999989, 464.9999999999996, 469.9999999999993, 464.89999999999856, 481.49999999999875, 479.09999999999866, 493.29999999999893, 499.899999999999, 508.5999999999977, 519.6999999999981, 502.79999999999853, 533.5999999999972, 518.1999999999982, 545.8999999999972, 538.4999999999976, 543.2999999999978, 556.6999999999971, 559.2999999999967, 562.199999999997, 577.4999999999956, 566.9999999999967, 571.5999999999962, 572.4999999999961, 576.4999999999962, 589.1999999999954, 584.8999999999957, 589.799999999995, 595.1999999999953, 595.699999999996, 600.6999999999949, 591.8999999999957, 602.899999999995, 615.199999999995, 602.5999999999948, 596.9999999999951, 614.299999999995, 613.199999999994, 624.799999999994, 620.799999999994, 619.0999999999935, 622.199999999994, 617.0999999999945, 622.4999999999942, 625.1999999999938, 627.0999999999938, 628.1999999999936, 618.8999999999937, 630.1999999999932, 631.7999999999929, 631.499999999993, 634.2999999999929, 632.2999999999927, 640.4999999999925, 639.2999999999926, 641.1999999999925, 637.499999999993, 638.0999999999932, 638.0999999999923, 641.3999999999927, 638.5999999999926, 641.4999999999924, 647.6999999999919, 648.3999999999921, 648.8999999999924, 643.8999999999925, 647.7999999999919, 645.7999999999923, 647.099999999992, 651.499999999992, 651.699999999992, 651.4999999999919, 646.1999999999922, 649.3999999999918, 649.3999999999921, 647.3999999999922, 649.399999999992, 651.0999999999917, 647.4999999999917, 650.3999999999919, 649.499999999992, 654.4999999999919, 653.2999999999915, 654.199999999992, 656.1999999999915, 658.2999999999913, 653.0999999999918, 654.1999999999915, 658.0999999999916, 659.2999999999914], 'policy_ren_09_reward': [347.50000000000017, 359.7000000000004, 377.6999999999997, 378.09999999999974, 398.49999999999955, 403.99999999999966, 406.4999999999991, 426.7999999999995, 437.6999999999992, 445.89999999999895, 452.3999999999988, 472.5999999999985, 486.29999999999825, 470.0999999999984, 495.4999999999982, 499.2999999999976, 492.4999999999982, 497.7999999999975, 504.29999999999785, 523.8999999999974, 513.2999999999979, 520.5999999999973, 532.7999999999975, 537.2999999999975, 540.0999999999966, 533.7999999999975, 551.4999999999968, 549.6999999999967, 556.499999999997, 571.2999999999969, 565.9999999999961, 560.9999999999967, 562.299999999996, 569.1999999999961, 574.1999999999962, 573.4999999999962, 584.199999999995, 591.6999999999949, 588.1999999999957, 583.4999999999951, 594.6999999999946, 594.0999999999948, 608.2999999999938, 604.9999999999941, 604.2999999999943, 611.0999999999947, 615.6999999999939, 611.5999999999942, 617.3999999999941, 619.9999999999933, 608.499999999994, 612.5999999999941, 618.8999999999936, 619.6999999999931, 619.6999999999937, 624.799999999993, 623.8999999999929, 633.9999999999926, 629.2999999999929, 622.9999999999934, 628.0999999999929, 627.5999999999924, 635.2999999999925, 638.7999999999926, 637.2999999999925, 638.6999999999927, 640.8999999999925, 641.4999999999924, 647.4999999999922, 645.5999999999921, 640.4999999999924, 643.7999999999921, 638.7999999999923, 643.699999999992, 643.9999999999922, 647.799999999992, 646.7999999999921, 647.3999999999924, 648.5999999999916, 651.0999999999916, 650.0999999999917, 654.2999999999914, 653.0999999999915, 654.1999999999917, 655.3999999999917, 653.4999999999917, 651.3999999999918, 650.4999999999916, 651.6999999999916, 656.1999999999916, 656.9999999999916, 655.1999999999915, 652.0999999999915, 656.5999999999912, 660.1999999999912, 658.4999999999915, 657.3999999999912, 655.3999999999916, 658.2999999999914, 659.1999999999914], 'policy_ren_13_reward': [344.79999999999995, 360.4000000000003, 366.09999999999974, 391.20000000000016, 397.2000000000002, 404.49999999999966, 421.8999999999998, 427.9999999999998, 436.40000000000015, 450.59999999999974, 452.7, 471.1000000000002, 482.09999999999997, 481.5999999999997, 493.9000000000001, 501.3000000000001, 503.90000000000026, 504.8000000000004, 523.2999999999993, 510.39999999999884, 524.5999999999988, 529.2999999999985, 536.4999999999987, 544.4999999999987, 548.4999999999984, 548.0999999999987, 556.9999999999983, 563.2999999999973, 572.2999999999978, 565.3999999999977, 569.7999999999972, 576.899999999996, 581.3999999999966, 589.7999999999968, 586.1999999999967, 585.9999999999965, 594.2999999999953, 595.1999999999966, 604.0999999999959, 602.399999999995, 604.5999999999951, 598.5999999999957, 605.9999999999952, 606.9999999999953, 602.3999999999952, 617.9999999999945, 613.3999999999947, 618.7999999999946, 623.6999999999937, 616.2999999999944, 623.2999999999939, 628.6999999999932, 619.8999999999945, 623.7999999999935, 630.2999999999929, 628.5999999999934, 626.8999999999934, 627.1999999999935, 625.999999999993, 632.6999999999932, 636.7999999999928, 631.5999999999933, 638.7999999999923, 636.7999999999927, 646.3999999999925, 641.9999999999925, 641.8999999999928, 645.5999999999921, 638.2999999999928, 647.9999999999924, 641.6999999999923, 641.0999999999923, 646.3999999999918, 648.0999999999921, 641.5999999999922, 648.899999999992, 647.699999999992, 649.0999999999917, 646.5999999999917, 650.0999999999922, 652.3999999999921, 649.499999999992, 649.6999999999916, 649.1999999999919, 654.2999999999921, 649.3999999999918, 655.9999999999917, 652.6999999999917, 654.1999999999913, 656.1999999999915, 648.799999999992, 652.999999999992, 653.5999999999916, 655.7999999999919, 656.3999999999915, 653.9999999999918, 658.8999999999913, 657.1999999999916, 655.9999999999916, 655.0999999999915], 'policy_ev_01_reward': [-2055.9186000000022, -3093.4652999999985, -797.8696999999999, -1240.3484999999998, -2154.9012000000034, -997.1509999999993, -526.6215999999995, -838.3105999999999, -650.1867999999997, -241.95700000000014, -172.87450000000018, -17.5271, -209.45230000000043, -1.916600000000002, -45.9294, -67.84029999999997, -152.93599999999992, -474.06190000000095, -153.25579999999997, 27.475800000000024, -215.02909999999997, 20.54210000000004, -364.63420000000013, 36.35510000000008, -1351.9113000000004, -321.76300000000015, -155.28190000000012, -721.6083999999985, 25.455100000000023, -243.60049999999995, 53.19660000000008, 68.98819999999999, -52.11099999999993, 84.7315, -219.51019999999997, 96.89209999999994, -27.896199999999972, 98.91020000000002, -382.2299000000001, -669.1866, -315.3550000000004, 86.51059999999998, 64.69060000000005, 156.14849999999993, -1092.1416000000002, -296.27540000000005, -80.96290000000006, -1141.9531999999997, 160.49270000000007, -165.76160000000016, -62.218900000000055, -359.6889, 199.4047000000001, 214.9491000000002, -194.16469999999995, 14.137999999999966, 249.4283999999999, 56.342399999999984, 240.38989999999993, 292.40220000000016, 242.0974, 296.24970000000013, 205.98449999999985, 304.96189999999996, -133.46450000000002, 197.56619999999995, 63.83889999999996, 230.83489999999998, 84.64659999999999, 176.01959999999994, 91.64980000000013, 103.2456999999999, 343.51489999999984, 355.6677, 384.6445999999999, 347.7874000000001, 424.954, -411.1077000000001, 436.44270000000023, 373.1472999999998, 471.7762000000001, 482.48269999999974, 473.45410000000015, 127.08640000000001, 390.17539999999997, 371.7279, 514.3938, 396.4523, 510.3888000000001, 518.0500000000001, 361.90240000000006, 546.8974000000002, 552.6697000000001, 524.7159, 561.9044, 480.3565000000002, 25.287900000000047, 559.7490000000003, 552.4878999999997, 405.4829999999999], 'policy_ev_02_reward': [-5647.1138999999985, -5045.466500000001, -4496.877299999997, -3695.1762000000003, -3603.394900000003, -2575.9503, -2829.7772000000014, -1622.7150999999988, -2129.863900000001, -1014.0353999999998, -1310.8456000000008, -1232.1758999999986, -972.0663999999995, -1148.4282999999998, -618.7136999999994, -432.9342999999998, -532.3931999999998, -606.4565999999994, -465.7504999999999, -223.0401000000002, -363.3711000000003, -179.0438000000003, -428.58750000000015, -421.5183, -474.2797999999999, -254.11550000000022, -296.9815999999999, -398.1733999999997, -243.97679999999994, -345.58489999999944, -291.61470000000025, -327.1842, -291.15100000000007, -219.74660000000026, -376.8358000000002, -229.37500000000006, -288.3135000000002, -334.12600000000026, -430.8262000000004, -256.9191000000003, -349.0461000000002, -355.5960000000004, -151.03799999999998, -389.7613, -351.42600000000016, -274.237, -366.7239999999999, -228.02240000000026, -311.11300000000034, -237.08559999999986, -265.78900000000004, -255.6384000000004, -180.6029000000002, -221.70770000000013, -226.4503000000001, -205.18749999999991, -172.37480000000036, -87.05270000000009, -86.99590000000019, -224.5652000000001, -209.98999999999998, -317.3450000000003, -41.266599999999976, -75.49680000000006, -74.93229999999993, -96.64100000000006, 57.72709999999998, 72.64430000000003, 14.405300000000004, -32.399599999999985, 89.66299999999997, 92.58880000000005, -204.52550000000005, 53.74729999999999, 205.62419999999986, -52.66400000000002, 92.90839999999997, 223.24960000000002, 195.62049999999988, 308.97389999999996, 277.31279999999987, 312.6665999999999, 220.3126, 142.83959999999996, 175.93280000000001, 284.04190000000006, 334.3747999999998, 320.2644, 385.76330000000013, 400.6272999999997, 265.37820000000005, 421.6973000000002, 367.4444000000002, 353.33219999999994, 488.8985999999999, 462.45929999999976, 468.59760000000006, 502.77869999999996, 513.5423999999999, 524.7364000000002], 'policy_ev_03_reward': [-2319.1947000000005, -1649.0659000000037, -2520.7943000000023, -1008.4454999999999, -725.7869000000005, -1794.4934000000014, -449.4444000000002, -24.693999999999967, -228.63620000000003, -244.2978, -106.19339999999998, -107.17540000000007, 6.421699999999995, 26.41490000000004, 35.71369999999999, -220.03500000000005, -65.09600000000002, -139.31040000000004, 55.26110000000004, -127.49769999999994, 92.37240000000004, 61.135700000000014, 155.21739999999997, 129.66469999999993, 171.05649999999991, 116.98390000000006, 129.05300000000003, 68.12030000000003, 206.6908999999999, 218.79219999999978, 239.94759999999997, 237.43590000000003, 237.37300000000013, 265.3982999999999, 198.40319999999988, 271.3312999999999, 317.5393000000001, 319.5089999999999, 324.7667, 329.47689999999994, 353.45440000000013, 350.36370000000016, 365.64490000000006, 342.1136, 397.9338000000002, 413.5932000000001, 421.2873999999999, 402.22310000000016, 176.36190000000008, 347.59490000000005, 277.5323, 431.40060000000005, 455.20110000000005, 468.93789999999996, 437.2336000000001, 336.1448000000002, 463.75860000000006, 481.58430000000016, 367.4812, 480.7185999999999, 468.66890000000024, 493.03150000000016, 233.5731999999999, 502.80199999999996, 469.96480000000014, 525.4728000000001, 533.8208, 424.52160000000015, 541.0723999999998, 530.7298999999999, 372.2050000000001, 232.5696999999998, 561.1314, 521.3316000000003, 556.6016, 480.62620000000004, 567.6633999999999, 561.7995999999998, 582.2259, 579.0874999999997, 575.3991, 590.9575000000003, 572.9192000000002, 591.8566000000001, 600.5573, 599.2798000000003, 596.3914000000002, 584.6273, 605.6546999999998, 396.9659, 605.7591999999999, 598.4359999999999, 599.1563, 613.1909, 322.4688, 623.4776999999999, 617.5531, 610.6422000000001, 449.27020000000016, 414.2164999999998], 'policy_ev_04_reward': [-2349.6259, -4311.326699999995, -3556.363300000005, -1367.717900000002, -1000.8149999999991, -1005.2411999999998, -331.0661, -107.28130000000012, -696.6054999999981, -271.5768000000001, -583.4044999999994, -56.543499999999945, -361.86480000000006, -83.12149999999994, -167.62500000000006, -214.24590000000006, -606.3677999999998, -338.5713999999997, -44.3745999999999, -53.703399999999945, -439.9753000000001, -132.9027, -404.41870000000006, -81.69910000000013, -42.68209999999992, -89.59079999999997, -204.66710000000015, -67.65819999999998, -250.5782000000002, -39.23799999999993, -53.20959999999994, -73.19020000000002, -390.3827, -281.9805, -144.02730000000022, -240.19640000000024, -386.57139999999976, -98.68230000000011, -279.2978999999998, -46.79049999999995, -45.684299999999936, -714.5542999999983, -39.53989999999994, -20.587899999999948, -698.4856000000001, -1530.0876000000023, -161.44600000000003, -122.95610000000029, 14.254100000000005, -3.2644999999999933, -512.1046999999998, -532.5244999999995, -275.68850000000003, -411.99680000000023, 5.556300000000006, 13.90170000000001, -59.436199999999985, -342.4560000000006, -866.9049999999999, -117.04090000000008, -544.068599999999, 45.51130000000013, 42.06200000000005, 7.411000000000082, -158.50620000000015, -218.26909999999992, 7.762399999999955, -94.3359999999999, -189.4734000000002, 88.94160000000007, 136.96869999999993, 121.4697, -694.0433999999997, 187.7525999999999, 73.46290000000008, -1160.7256999999995, -546.7728999999997, -43.5224000000001, -22.682700000000082, 138.6591, 235.01449999999988, 56.85399999999986, -175.61370000000005, 222.8291999999999, 93.22700000000003, -157.0946000000001, 228.0429, 236.0481999999997, -31.889399999999963, 283.9189999999999, 242.82910000000004, -3268.670399999998, -3.219800000000034, -261.22309999999993, 162.1299, 315.8174999999999, 120.03769999999999, -469.6093999999999, 42.71230000000001, -2876.3250999999977], 'policy_ev_05_reward': [-3635.4773, -4468.234300000002, -3421.740899999999, -4543.994599999999, -2906.0415999999987, -1592.9686000000008, -2387.9835000000003, -1467.301599999999, -1477.1904000000004, -913.2403999999993, -549.1637999999994, -18.97899999999998, -16.946399999999993, -840.2233999999993, -351.8045999999999, -303.25130000000024, -258.03840000000014, -219.80160000000058, -39.76439999999997, -126.5575, -15.460099999999997, -26.410499999999928, -31.847899999999907, 11.290600000000012, -251.58329999999987, -566.8064999999998, -12.158499999999869, -793.3176999999993, -76.44059999999995, 37.38410000000007, 32.72480000000004, 74.84960000000008, -136.92390000000012, -588.6354999999998, -85.97809999999997, -474.49550000000073, -17.570799999999963, -282.9093, 76.4907000000001, 127.54300000000002, 106.9266000000001, -127.89429999999994, 76.37870000000002, 94.53789999999996, 142.58560000000008, 34.37240000000006, 66.49609999999987, 173.84109999999995, 205.7562999999999, 123.86039999999974, 228.87939999999992, 213.8792, 252.52139999999974, 199.00239999999994, 158.47519999999975, 146.58939999999998, 283.15419999999983, 132.69969999999995, 250.0052999999999, 352.68049999999977, -127.54730000000019, 73.75910000000003, 374.9371999999999, 366.40329999999994, 374.1107999999997, 325.78369999999984, 189.0697999999999, 385.11259999999976, 442.94020000000006, 396.81279999999975, 80.433, 336.19569999999993, 440.40149999999977, -300.7082999999999, 84.67420000000004, 421.48019999999985, 344.30380000000014, -486.43609999999984, 427.13429999999994, 292.90620000000007, 328.2818999999999, 409.97330000000005, 192.17599999999996, 455.9542999999999, 293.8538, -1996.0436000000002, 492.77439999999996, 268.6229000000001, 146.0131, 498.8558, -73.9751, -4448.714500000002, 99.49450000000012, 471.34360000000004, 488.7713, 409.41670000000016, 466.06439999999986, 109.50250000000001, -12078.7785, 515.6254], 'policy_storage_01_reward': [-2304.943300000001, -1943.3612999999993, -2361.512900000001, -2382.2897000000007, -941.5124, -1369.870700000001, -502.0799, -489.24739999999963, -1900.8080000000014, -379.9342000000003, -630.4327999999994, -500.5145000000001, -283.1223999999997, -403.13709999999986, -466.3279999999999, -684.3855999999998, -472.6372999999995, -377.7879999999994, -289.53690000000023, -366.3988999999998, -357.3404999999999, -477.76420000000013, -243.34620000000015, -412.72849999999994, -327.12559999999996, -387.4926999999995, -506.81879999999984, -264.4661, -440.86750000000035, -258.1807999999998, -262.36220000000003, -498.6656000000001, -251.71610000000038, -279.2605000000003, -258.2576000000001, -596.7324000000003, -416.532, -603.3615999999989, -357.63239999999973, -362.8787999999998, -482.91919999999993, -299.1325000000001, -367.8305000000003, -355.5717999999998, -404.4692000000001, -241.9835000000001, -513.9171000000003, -191.46540000000016, -203.60519999999997, -229.45809999999992, -269.20100000000025, -557.8588000000002, -260.5362999999998, -349.3848999999999, -246.65860000000004, -331.32929999999965, -195.11, -599.7549999999992, -372.72810000000067, -186.0147999999998, -258.2253999999999, -245.01450000000003, -333.3027000000003, -363.65520000000004, -160.30090000000033, -368.1790999999999, -167.21080000000023, -343.8952000000002, -224.63449999999986, -659.1315000000001, -259.1211000000001, -165.48030000000023, -285.6164000000002, -412.4230999999997, -432.4083999999999, -383.5817000000005, -319.0704000000003, -150.97969999999995, -198.7783000000002, -288.5704000000002, -482.85929999999996, -287.6936999999999, -315.04380000000054, -256.21830000000006, -245.04200000000026, -173.71250000000003, -379.17649999999975, -261.4788000000003, -360.54230000000035, -161.6496000000002, -210.22690000000014, -183.7720000000001, -187.5492, -156.97020000000015, -333.6496, -140.93100000000004, -190.19880000000023, -209.14270000000002, -113.31939999999996, -191.6777000000002], 'policy_storage_02_reward': [-3978.7688000000035, -2381.2721, -2902.0178, -1817.287599999999, -1431.4815999999998, -1691.5571000000016, -399.6939, -415.9039999999999, -497.65099999999944, -663.0979000000003, -384.9934999999997, -306.8104999999997, -383.4765000000002, -381.7413000000001, -291.63569999999993, -526.6421, -668.242, -572.4602999999996, -392.7735, -310.04749999999984, -368.9982999999993, -354.9056, -343.6168, -440.1584999999995, -708.4367000000005, -295.1365999999999, -437.79139999999984, -405.86540000000025, -288.6771999999997, -274.0431999999997, -358.92010000000016, -394.8450999999998, -424.2332000000002, -329.5416, -232.8567999999998, -283.8851, -701.4395000000006, -577.0018000000008, -303.8922, -251.09219999999985, -646.2572000000001, -226.1622999999999, -492.9013999999999, -505.82830000000007, -301.7837999999998, -223.42819999999998, -329.4388000000002, -274.93749999999943, -263.1355, -221.99799999999988, -201.00860000000003, -149.45769999999987, -1390.3724, -1238.2508999999982, -359.31799999999976, -427.9601999999999, -704.2470000000006, -147.42439999999988, -169.2955999999998, -281.11940000000027, -1905.375799999997, -327.3511999999998, -556.7791000000005, -473.06910000000045, -142.90429999999986, -159.82699999999994, -303.8300000000002, -482.35640000000006, -483.26849999999985, -399.2723000000006, -149.13619999999995, -624.4889999999998, -181.25620000000004, -1041.9493000000018, -199.87000000000006, -348.6676, -167.70829999999958, -247.16410000000005, -136.69409999999988, -346.05430000000024, -417.4992000000004, -145.3856999999998, -298.70470000000046, -143.10529999999991, -613.2804000000012, -530.0290000000005, -623.3137000000007, -161.52939999999987, -375.6524, -265.83790000000033, -313.38809999999967, -477.3092000000005, -544.0175, -324.9970000000004, -141.8318999999999, -205.63690000000003, -677.6947000000001, -147.88029999999995, -265.9075999999998, -422.8902000000001], 'policy_storage_03_reward': [-4119.110100000004, -2596.0988999999977, -2725.8664999999955, -2707.4888000000024, -2098.3945999999996, -2030.7705999999982, -966.181599999999, -705.3414999999993, -809.0570000000005, -726.1013999999992, -1056.9556999999995, -342.32090000000017, -644.6482999999997, -617.5325999999999, -403.0894000000001, -502.92479999999983, -285.1873000000003, -296.1543000000002, -401.8396000000002, -470.0052999999999, -256.85490000000016, -295.5954999999999, -398.9439000000002, -458.7051000000002, -247.81640000000013, -432.8223000000006, -426.26540000000034, -259.67120000000006, -351.22210000000024, -327.41989999999976, -436.34039999999976, -370.6509000000002, -358.61590000000024, -223.6502999999998, -633.1038000000003, -287.2734, -218.7928999999998, -439.76090000000005, -432.31059999999985, -252.68759999999997, -220.6515000000002, -251.00579999999962, -299.41649999999964, -456.0595000000006, -124.83720000000014, -352.2995999999997, -225.2148, -280.9351000000002, -200.79490000000007, -454.6180000000001, -417.4722999999999, -296.6391, -334.3939, -414.93699999999995, -346.11570000000023, -484.6091999999998, -284.67400000000015, -260.37729999999993, -311.7164000000002, -271.7453000000001, -156.63780000000003, -244.13410000000016, -357.2565999999998, -347.9706, -209.72470000000007, -287.7338000000004, -264.1729999999999, -339.7782000000003, -316.3465000000003, -452.2743999999992, -285.4476000000004, -386.0680000000005, -208.69040000000018, -246.11249999999998, -236.2004000000001, -218.92150000000018, -169.05859999999998, -213.02369999999993, -447.88270000000045, -521.8160000000003, -193.79709999999997, -253.09270000000026, -248.59720000000002, -271.40669999999994, -279.8016, -289.6593000000004, -249.72000000000025, -217.22700000000012, -121.3523, -232.20870000000008, -137.46679999999995, -265.1185000000002, -111.37290000000002, -158.46450000000007, -315.44059999999996, -201.21760000000003, -297.9205000000001, -559.0918000000001, -239.49970000000008, -376.6191999999998], 'policy_aggregator_reward': [-571.3736000000001, -582.5706999999993, -578.6744000000003, -580.5938000000002, -5571.481400000006, -571.7283999999999, -580.4963000000012, -573.9079000000007, -577.7151000000006, -558.1062000000002, -555.5539000000005, -557.3769000000005, -5553.223999999996, -5551.320900000008, -555.8733999999994, -536.0611000000007, -540.308, -536.1301999999998, -521.4949000000003, -527.1060999999996, -527.1376999999991, -515.3861999999992, -516.6216000000001, -527.0229000000002, -512.8777000000005, -511.78009999999995, -513.1534999999999, -510.14619999999996, -511.8764, -501.51689999999985, -515.481, -498.04859999999974, -508.49110000000013, -508.6089999999998, -510.76690000000013, -503.39139999999975, -492.8878999999999, -494.09919999999954, -495.2612999999997, -493.45679999999993, -488.4299000000003, -499.0204999999999, -486.69260000000025, -504.44239999999996, -480.8687999999998, -487.90730000000025, -480.84240000000005, -474.4728000000001, -471.3329, -462.4491999999998, -481.43679999999995, -466.1050999999994, -489.8042999999996, -458.91349999999966, -478.4586000000002, -460.51829999999933, -472.14359999999976, -456.50299999999964, -463.0156999999999, -471.0372999999997, -454.94440000000037, -476.9457000000001, -451.06940000000003, -449.7519, -446.60979999999995, -441.2089999999997, -447.20800000000014, -455.4334000000002, -449.98919999999987, -446.03129999999993, -438.5896999999999, -443.7194999999994, -441.1889000000002, -437.49820000000005, -435.75079999999986, -428.20509999999985, -439.32750000000044, -432.2874999999998, -432.97450000000003, -427.2126999999999, -432.65270000000027, -427.20860000000016, -428.14579999999995, -421.1924000000001, -423.6944, -427.7394999999999, -431.1712000000001, -411.88540000000006, -437.17810000000054, -410.2975, -409.4050999999996, -407.83979999999997, -405.97310000000033, -399.8756000000008, -405.4439000000001, -395.7876, -401.1062000000002, -400.8605999999998, -393.622, -386.70739999999995]}, 'sampler_perf': {'mean_raw_obs_processing_ms': 0.16749759318077942, 'mean_inference_ms': 0.5765966687877164, 'mean_action_processing_ms': 0.0403313289141754, 'mean_env_wait_ms': 0.02830128232021383, 'mean_env_render_ms': 0.0}, 'num_faulty_episodes': 0, 'connector_metrics': {'ObsPreprocessorConnector_ms': 0.00849604606628418, 'StateBufferConnector_ms': 0.0011398451668875559, 'ViewRequirementAgentConnector_ms': 0.08736506530216762}, 'num_healthy_workers': 1, 'num_in_flight_async_reqs': 0, 'num_remote_worker_restarts': 0, 'num_agent_steps_sampled': 1041600, 'num_agent_steps_trained': 0, 'num_env_steps_sampled': 1041600, 'num_env_steps_trained': 0, 'num_env_steps_sampled_this_iter': 10416, 'num_env_steps_trained_this_iter': 0, 'num_env_steps_sampled_throughput_per_sec': 1052.2260860211827, 'num_env_steps_trained_throughput_per_sec': 0.0, 'timesteps_total': 1041600, 'num_steps_trained_this_iter': 0, 'agent_timesteps_total': 1041600, 'timers': {'training_iteration_time_ms': 9699.935, 'sample_time_ms': 8310.421, 'synch_weights_time_ms': 6.637}, 'counters': {'num_env_steps_sampled': 1041600, 'num_env_steps_trained': 0, 'num_agent_steps_sampled': 1041600, 'num_agent_steps_trained': 0}, 'done': False, 'episodes_total': 100, 'training_iteration': 100, 'trial_id': 'default', 'date': '2024-08-28_06-04-20', 'timestamp': 1724821460, 'time_this_iter_s': 9.901785135269165, 'time_total_s': 988.3431649208069, 'pid': 64726, 'hostname': 'Eduardos-MacBook-Pro.local', 'node_ip': '127.0.0.1', 'config': {'extra_python_environs_for_driver': {}, 'extra_python_environs_for_worker': {}, 'num_gpus': 0, 'num_cpus_per_worker': 1, 'num_gpus_per_worker': 0, '_fake_gpus': False, 'num_learner_workers': 0, 'num_gpus_per_learner_worker': 0, 'num_cpus_per_learner_worker': 1, 'local_gpu_idx': 0, 'custom_resources_per_worker': {}, 'placement_strategy': 'PACK', 'eager_tracing': True, 'eager_max_retraces': 20, 'tf_session_args': {'intra_op_parallelism_threads': 2, 'inter_op_parallelism_threads': 2, 'gpu_options': {'allow_growth': True}, 'log_device_placement': False, 'device_count': {'CPU': 1}, 'allow_soft_placement': True}, 'local_tf_session_args': {'intra_op_parallelism_threads': 8, 'inter_op_parallelism_threads': 8}, 'torch_compile_learner': False, 'torch_compile_learner_what_to_compile': <TorchCompileWhatToCompile.FORWARD_TRAIN: 'forward_train'>, 'torch_compile_learner_dynamo_backend': 'aot_eager', 'torch_compile_learner_dynamo_mode': None, 'torch_compile_worker': False, 'torch_compile_worker_dynamo_backend': 'aot_eager', 'torch_compile_worker_dynamo_mode': None, 'env': 'EC_Multi', 'env_config': {}, 'observation_space': None, 'action_space': None, 'env_task_fn': None, 'render_env': False, 'clip_rewards': None, 'normalize_actions': True, 'clip_actions': False, 'disable_env_checking': False, 'auto_wrap_old_gym_envs': True, 'action_mask_key': 'action_mask', '_is_atari': None, 'env_runner_cls': None, 'num_envs_per_worker': 1, 'sample_collector': <class 'ray.rllib.evaluation.collectors.simple_list_collector.SimpleListCollector'>, 'sample_async': False, 'enable_connectors': True, 'update_worker_filter_stats': True, 'use_worker_filter_stats': True, 'rollout_fragment_length': 'auto', 'batch_mode': 'complete_episodes', 'remote_worker_envs': False, 'remote_env_batch_wait_ms': 0, 'validate_workers_after_construction': True, 'preprocessor_pref': 'deepmind', 'observation_filter': 'NoFilter', 'compress_observations': False, 'enable_tf1_exec_eagerly': False, 'sampler_perf_stats_ema_coef': None, 'gamma': 0.99, 'lr': 0.0002, 'grad_clip': None, 'grad_clip_by': 'global_norm', 'train_batch_size': 512, 'model': {'_disable_preprocessor_api': False, '_disable_action_flattening': False, 'fcnet_hiddens': [64, 64], 'fcnet_activation': 'tanh', 'conv_filters': None, 'conv_activation': 'relu', 'post_fcnet_hiddens': [], 'post_fcnet_activation': 'relu', 'free_log_std': False, 'no_final_linear': False, 'vf_share_layers': False, 'use_lstm': True, 'max_seq_len': 20, 'lstm_cell_size': 16, 'lstm_use_prev_action': True, 'lstm_use_prev_reward': True, '_time_major': False, 'use_attention': False, 'attention_num_transformer_units': 1, 'attention_dim': 64, 'attention_num_heads': 1, 'attention_head_dim': 32, 'attention_memory_inference': 50, 'attention_memory_training': 50, 'attention_position_wise_mlp_dim': 32, 'attention_init_gru_gate_bias': 2.0, 'attention_use_n_prev_actions': 0, 'attention_use_n_prev_rewards': 0, 'framestack': True, 'dim': 84, 'grayscale': False, 'zero_mean': True, 'custom_model': None, 'custom_model_config': {}, 'custom_action_dist': None, 'custom_preprocessor': None, 'encoder_latent_dim': None, 'always_check_shapes': False, 'lstm_use_prev_action_reward': -1, '_use_default_native_models': -1}, 'optimizer': {}, 'max_requests_in_flight_per_sampler_worker': 2, '_learner_class': None, '_enable_learner_api': True, 'explore': True, 'exploration_config': {}, 'algorithm_config_overrides_per_module': {}, 'policy_map_capacity': 100, 'policy_mapping_fn': <function <lambda> at 0x2e7c2f4c0>, 'policies_to_train': None, 'policy_states_are_swappable': False, 'observation_fn': None, 'count_steps_by': 'env_steps', 'input_config': {}, 'actions_in_input_normalized': False, 'postprocess_inputs': False, 'shuffle_buffer_size': 0, 'output': None, 'output_config': {}, 'output_compress_columns': ['obs', 'new_obs'], 'output_max_file_size': 67108864, 'offline_sampling': False, 'evaluation_interval': None, 'evaluation_duration': 10, 'evaluation_duration_unit': 'episodes', 'evaluation_sample_timeout_s': 180.0, 'evaluation_parallel_to_training': False, 'evaluation_config': None, 'off_policy_estimation_methods': {}, 'ope_split_batch_by_episode': True, 'evaluation_num_workers': 0, 'always_attach_evaluation_results': False, 'enable_async_evaluation': False, 'in_evaluation': False, 'sync_filters_on_rollout_workers_timeout_s': 60.0, 'keep_per_episode_custom_metrics': False, 'metrics_episode_collection_timeout_s': 60.0, 'metrics_num_episodes_for_smoothing': 100, 'min_time_s_per_iteration': None, 'min_train_timesteps_per_iteration': 0, 'min_sample_timesteps_per_iteration': 0, 'export_native_model_files': False, 'checkpoint_trainable_policies_only': False, 'logger_creator': None, 'logger_config': None, 'log_level': 'WARN', 'log_sys_usage': True, 'fake_sampler': False, 'seed': None, 'ignore_worker_failures': False, 'recreate_failed_workers': False, 'max_num_worker_restarts': 1000, 'delay_between_worker_restarts_s': 60.0, 'restart_failed_sub_environments': False, 'num_consecutive_worker_failures_tolerance': 100, 'worker_health_probe_timeout_s': 60, 'worker_restore_timeout_s': 1800, 'rl_module_spec': SingleAgentRLModuleSpec(module_class=<class 'ray.rllib.algorithms.ppo.torch.ppo_torch_rl_module.PPOTorchRLModule'>, observation_space=None, action_space=None, model_config_dict=None, catalog_class=<class 'ray.rllib.algorithms.ppo.ppo_catalog.PPOCatalog'>, load_state_path=None), '_enable_rl_module_api': True, '_AlgorithmConfig__prior_exploration_config': {'type': 'StochasticSampling'}, '_tf_policy_handles_more_than_one_loss': False, '_disable_preprocessor_api': False, '_disable_action_flattening': False, '_disable_execution_plan_api': True, '_disable_initialize_loss_from_dummy_batch': False, 'simple_optimizer': True, 'policy_map_cache': -1, 'worker_cls': -1, 'synchronize_filters': -1, 'replay_sequence_length': None, 'lr_schedule': None, 'use_critic': True, 'use_gae': True, 'use_kl_loss': True, 'kl_coeff': 0.2, 'kl_target': 0.01, 'sgd_minibatch_size': 128, 'num_sgd_iter': 30, 'shuffle_sequences': True, 'vf_loss_coeff': 1.0, 'entropy_coeff': 0.0, 'entropy_coeff_schedule': None, 'clip_param': 0.1, 'vf_clip_param': 10.0, 'vf_share_layers': -1, 'lambda': 1.0, 'input': 'sampler', 'policies': {'ren_08': (None, Dict('available_energy': Box(-99999.0, 99999.0, (1,), float32), 'expected_production': Box(0.0, 99999.0, (1,), float32), 'export_price': Box(0.0, 1.0, (1,), float32), 'import_price': Box(0.0, 1.0, (1,), float32), 'time_of_day': Box(0, 23, (1,), int32)), Discrete(10), {'gamma': 0.9}), 'ren_09': (None, Dict('available_energy': Box(-99999.0, 99999.0, (1,), float32), 'expected_production': Box(0.0, 99999.0, (1,), float32), 'export_price': Box(0.0, 1.0, (1,), float32), 'import_price': Box(0.0, 1.0, (1,), float32), 'time_of_day': Box(0, 23, (1,), int32)), Discrete(10), {'gamma': 0.9}), 'ren_02': (None, Dict('available_energy': Box(-99999.0, 99999.0, (1,), float32), 'expected_production': Box(0.0, 99999.0, (1,), float32), 'export_price': Box(0.0, 1.0, (1,), float32), 'import_price': Box(0.0, 1.0, (1,), float32), 'time_of_day': Box(0, 23, (1,), int32)), Discrete(10), {'gamma': 0.9}), 'ren_06': (None, Dict('available_energy': Box(-99999.0, 99999.0, (1,), float32), 'expected_production': Box(0.0, 99999.0, (1,), float32), 'export_price': Box(0.0, 1.0, (1,), float32), 'import_price': Box(0.0, 1.0, (1,), float32), 'time_of_day': Box(0, 23, (1,), int32)), Discrete(10), {'gamma': 0.9}), 'ren_13': (None, Dict('available_energy': Box(-99999.0, 99999.0, (1,), float32), 'expected_production': Box(0.0, 99999.0, (1,), float32), 'export_price': Box(0.0, 1.0, (1,), float32), 'import_price': Box(0.0, 1.0, (1,), float32), 'time_of_day': Box(0, 23, (1,), int32)), Discrete(10), {'gamma': 0.9}), 'ev_01': (None, Dict('available_energy': Box(-99999.0, 99999.0, (1,), float32), 'available_renewable_energy': Box(0.0, 99999.0, (1,), float32), 'current_time': Box(0, 9999, (1,), int32), 'export_price': Box(0.0, 1.0, (1,), float32), 'grid_connection': Discrete(2), 'import_price': Box(0.0, 1.0, (1,), float32), 'maximum_charge': Box(0.0, 99999.0, (1,), float32), 'maximum_discharge': Box(0.0, 99999.0, (1,), float32), 'next_departure_energy_requirement': Box(0.0, 1.0, (1,), float32), 'next_departure_time': Box(0, 9999, (1,), int32), 'soc': Box(0.0, 1.0, (1,), float32), 'time_until_next_departure': Box(0, 9999, (1,), int32)), Discrete(20), {'gamma': 0.9}), 'ev_02': (None, Dict('available_energy': Box(-99999.0, 99999.0, (1,), float32), 'available_renewable_energy': Box(0.0, 99999.0, (1,), float32), 'current_time': Box(0, 9999, (1,), int32), 'export_price': Box(0.0, 1.0, (1,), float32), 'grid_connection': Discrete(2), 'import_price': Box(0.0, 1.0, (1,), float32), 'maximum_charge': Box(0.0, 99999.0, (1,), float32), 'maximum_discharge': Box(0.0, 99999.0, (1,), float32), 'next_departure_energy_requirement': Box(0.0, 1.0, (1,), float32), 'next_departure_time': Box(0, 9999, (1,), int32), 'soc': Box(0.0, 1.0, (1,), float32), 'time_until_next_departure': Box(0, 9999, (1,), int32)), Discrete(20), {'gamma': 0.9}), 'ev_03': (None, Dict('available_energy': Box(-99999.0, 99999.0, (1,), float32), 'available_renewable_energy': Box(0.0, 99999.0, (1,), float32), 'current_time': Box(0, 9999, (1,), int32), 'export_price': Box(0.0, 1.0, (1,), float32), 'grid_connection': Discrete(2), 'import_price': Box(0.0, 1.0, (1,), float32), 'maximum_charge': Box(0.0, 99999.0, (1,), float32), 'maximum_discharge': Box(0.0, 99999.0, (1,), float32), 'next_departure_energy_requirement': Box(0.0, 1.0, (1,), float32), 'next_departure_time': Box(0, 9999, (1,), int32), 'soc': Box(0.0, 1.0, (1,), float32), 'time_until_next_departure': Box(0, 9999, (1,), int32)), Discrete(20), {'gamma': 0.9}), 'ev_04': (None, Dict('available_energy': Box(-99999.0, 99999.0, (1,), float32), 'available_renewable_energy': Box(0.0, 99999.0, (1,), float32), 'current_time': Box(0, 9999, (1,), int32), 'export_price': Box(0.0, 1.0, (1,), float32), 'grid_connection': Discrete(2), 'import_price': Box(0.0, 1.0, (1,), float32), 'maximum_charge': Box(0.0, 99999.0, (1,), float32), 'maximum_discharge': Box(0.0, 99999.0, (1,), float32), 'next_departure_energy_requirement': Box(0.0, 1.0, (1,), float32), 'next_departure_time': Box(0, 9999, (1,), int32), 'soc': Box(0.0, 1.0, (1,), float32), 'time_until_next_departure': Box(0, 9999, (1,), int32)), Discrete(20), {'gamma': 0.9}), 'ev_05': (None, Dict('available_energy': Box(-99999.0, 99999.0, (1,), float32), 'available_renewable_energy': Box(0.0, 99999.0, (1,), float32), 'current_time': Box(0, 9999, (1,), int32), 'export_price': Box(0.0, 1.0, (1,), float32), 'grid_connection': Discrete(2), 'import_price': Box(0.0, 1.0, (1,), float32), 'maximum_charge': Box(0.0, 99999.0, (1,), float32), 'maximum_discharge': Box(0.0, 99999.0, (1,), float32), 'next_departure_energy_requirement': Box(0.0, 1.0, (1,), float32), 'next_departure_time': Box(0, 9999, (1,), int32), 'soc': Box(0.0, 1.0, (1,), float32), 'time_until_next_departure': Box(0, 9999, (1,), int32)), Discrete(20), {'gamma': 0.9}), 'storage_01': (None, Dict('available_energy': Box(-99999.0, 99999.0, (1,), float32), 'available_renewable_energy': Box(0.0, 99999.0, (1,), float32), 'export_price': Box(0.0, 1.0, (1,), float32), 'import_price': Box(0.0, 1.0, (1,), float32), 'maximum_charge': Box(0.0, 99999.0, (1,), float32), 'maximum_discharge': Box(0.0, 99999.0, (1,), float32), 'soc': Box(0.0, 1.0, (1,), float32), 'time_of_day': Box(0, 23, (1,), int32)), Discrete(20), {'gamma': 0.9}), 'storage_02': (None, Dict('available_energy': Box(-99999.0, 99999.0, (1,), float32), 'available_renewable_energy': Box(0.0, 99999.0, (1,), float32), 'export_price': Box(0.0, 1.0, (1,), float32), 'import_price': Box(0.0, 1.0, (1,), float32), 'maximum_charge': Box(0.0, 99999.0, (1,), float32), 'maximum_discharge': Box(0.0, 99999.0, (1,), float32), 'soc': Box(0.0, 1.0, (1,), float32), 'time_of_day': Box(0, 23, (1,), int32)), Discrete(20), {'gamma': 0.9}), 'storage_03': (None, Dict('available_energy': Box(-99999.0, 99999.0, (1,), float32), 'available_renewable_energy': Box(0.0, 99999.0, (1,), float32), 'export_price': Box(0.0, 1.0, (1,), float32), 'import_price': Box(0.0, 1.0, (1,), float32), 'maximum_charge': Box(0.0, 99999.0, (1,), float32), 'maximum_discharge': Box(0.0, 99999.0, (1,), float32), 'soc': Box(0.0, 1.0, (1,), float32), 'time_of_day': Box(0, 23, (1,), int32)), Discrete(20), {'gamma': 0.9}), 'aggregator': (None, Dict('available_energy': Box(-99999.0, 99999.0, (1,), float32), 'export_price': Box(0.0, 1.0, (1,), float32), 'import_price': Box(0.0, 1.0, (1,), float32)), Discrete(1), {'gamma': 0.9})}, 'callbacks': <class 'ray.rllib.algorithms.callbacks.DefaultCallbacks'>, 'create_env_on_driver': False, 'custom_eval_function': None, 'framework': 'torch', 'num_cpus_for_driver': 1, 'num_workers': 1}, 'time_since_restore': 988.3431649208069, 'iterations_since_restore': 100, 'perf': {'cpu_util_percent': 10.038461538461538, 'ram_util_percent': 61.630769230769246}})"
     },
     "execution_count": 13,
     "metadata": {},
     "output_type": "execute_result"
    }
   ],
   "source": [
    "algo.save('/Users/ecgomes/DataspellProjects/pyecom/models/no_costs/sequential_monthly_v9')"
   ],
   "metadata": {
    "collapsed": false,
    "ExecuteTime": {
     "end_time": "2024-08-28T05:04:31.224700Z",
     "start_time": "2024-08-28T05:04:31.128459Z"
    }
   },
   "id": "e87b4cd68c23375b",
   "execution_count": 13
  },
  {
   "cell_type": "code",
   "outputs": [
    {
     "data": {
      "text/plain": "0.9"
     },
     "execution_count": 11,
     "metadata": {},
     "output_type": "execute_result"
    }
   ],
   "source": [
    "dataset_resources[list(dataset_resources.keys())[0]][-2].discharge_efficiency #*\\\n",
    "# dataset_resources[list(dataset_resources.keys())[0]][-2].schedule_requirement_soc"
   ],
   "metadata": {
    "collapsed": false,
    "ExecuteTime": {
     "end_time": "2024-08-24T05:48:22.152717Z",
     "start_time": "2024-08-24T05:48:22.150185Z"
    }
   },
   "id": "bf15eff88ee54a3f",
   "execution_count": 11
  },
  {
   "cell_type": "code",
   "outputs": [],
   "source": [
    "# Check the results\n",
    "# Create a new env\n",
    "\n",
    "test_resources = dataset_resources[list(dataset_resources.keys())[0]]\n",
    "\n",
    "test_env = EnergyCommunitySequentialV0(ren_generators=test_resources[:5],\n",
    "                                       generators=test_resources[5:7],\n",
    "                                       loads=test_resources[7:12],\n",
    "                                       storages=test_resources[12:15],\n",
    "                                       evs=test_resources[15:-1],\n",
    "                                       aggregator=test_resources[-1],\n",
    "                                       ev_penalty=1,\n",
    "                                       balance_penalty=BALANCE_PENALTY,\n",
    "                                       execution_order=execution_order)\n",
    "\n",
    "obs, info = test_env.reset()\n",
    "\n",
    "# Set up the terminations and truncations\n",
    "terminations = truncations = {a: False for a in test_env.agents}\n",
    "terminations['__all__'] = False\n",
    "truncations['__all__'] = False\n",
    "\n",
    "while not terminations['__all__'] and not truncations['__all__']:\n",
    "\n",
    "    current_agent = test_env.execution_order[test_env._current_agent_idx]\n",
    "\n",
    "    current_policy = 'generator_renewable' if current_agent.startswith('ren_gen') else \\\n",
    "        'storage' if current_agent.startswith('storage') else \\\n",
    "            'ev' if current_agent.startswith('ev') else \\\n",
    "                'generator_non_renewable'\n",
    "\n",
    "    action_dict = {current_agent: algo.compute_single_action(observation=obs[current_agent],\n",
    "                                                             policy_id=current_policy)}\n",
    "\n",
    "    obs, rewards, terminations, truncations, info = test_env.step(action_dict)"
   ],
   "metadata": {
    "collapsed": false
   },
   "id": "ad683417379e3b8d",
   "execution_count": null
  },
  {
   "cell_type": "code",
   "outputs": [],
   "source": [
    "# Plot the generator power output\n",
    "\n",
    "plt.figure()\n",
    "\n",
    "for i in range(5):\n",
    "    plt.plot(test_env.ren_generators[i].value)\n",
    "\n",
    "plt.legend(['generator_{:02d}'.format(i+1) for i in range(data_ec.generator['p_forecast'].shape[0])])\n",
    "plt.show()"
   ],
   "metadata": {
    "collapsed": false
   },
   "id": "9c3feab2574a47b6",
   "execution_count": null
  },
  {
   "cell_type": "code",
   "outputs": [],
   "source": [
    "# Create subplots with the generator values and the forecast\n",
    "\n",
    "fig, axs = plt.subplots(5, 1, figsize=(10, 10))\n",
    "\n",
    "for i in np.arange(5):\n",
    "    axs[i].plot(test_env.ren_generators[i].value, label='rl_{:02d}'.format(i+1))\n",
    "    axs[i].plot(data_upacs[list(data_upacs.keys())[i]]['pv'].loc['2019-01-01'].values, label='forecast_{:02d}'.format(i+1),\n",
    "                linestyle='--')\n",
    "    \n",
    "    axs[i].legend()\n",
    "    \n",
    "plt.show()"
   ],
   "metadata": {
    "collapsed": false
   },
   "id": "fd2094b014b68100",
   "execution_count": null
  },
  {
   "cell_type": "code",
   "outputs": [],
   "source": [
    "# Plot the storage state of charge\n",
    "\n",
    "plt.figure()\n",
    "\n",
    "for i in range(data_ec.storage['p_charge_limit'].shape[0]):\n",
    "    plt.plot(test_env.storages[i].value * test_env.storages[i].capacity_max)\n",
    "    \n",
    "plt.yticks(np.arange(0, 120, 10))\n",
    "\n",
    "plt.legend(['storage_{:02d}'.format(i+1) for i in range(data_ec.storage['p_charge_limit'].shape[0])])\n",
    "plt.show()"
   ],
   "metadata": {
    "collapsed": false
   },
   "id": "dff30e2397d292e6",
   "execution_count": null
  },
  {
   "cell_type": "code",
   "outputs": [],
   "source": [
    "# Plot the load values\n",
    "\n",
    "plt.figure()\n",
    "\n",
    "for i in range(5):\n",
    "    plt.plot(test_env.loads[i].value)\n",
    "    \n",
    "plt.legend(['load_{:02d}'.format(i+1) for i in range(5)])\n",
    "plt.show()"
   ],
   "metadata": {
    "collapsed": false
   },
   "id": "5410febfe280c103",
   "execution_count": null
  },
  {
   "cell_type": "code",
   "outputs": [],
   "source": [
    "# Check imports and exports\n",
    "\n",
    "plt.figure()\n",
    "\n",
    "plt.plot(test_env.aggregator.imports, label='imports')\n",
    "plt.plot(test_env.aggregator.exports, label='exports')\n",
    "\n",
    "plt.legend()\n",
    "plt.show()"
   ],
   "metadata": {
    "collapsed": false
   },
   "id": "b5ae9575aeeaf40c",
   "execution_count": null
  },
  {
   "cell_type": "code",
   "outputs": [],
   "source": [
    "# Check EVs\n",
    "\n",
    "plt.figure()\n",
    "\n",
    "for ev in test_env.evs:\n",
    "    plt.plot(ev.value * ev.capacity_max, label=ev.name)\n",
    "\n",
    "plt.yticks(np.arange(0, 80, 5))\n",
    "plt.legend()\n",
    "\n",
    "plt.show()"
   ],
   "metadata": {
    "collapsed": false
   },
   "id": "74c6a4ca8fa3f912",
   "execution_count": null
  },
  {
   "cell_type": "code",
   "outputs": [],
   "source": [
    "for ev in test_env.evs:\n",
    "    print(ev.name)\n",
    "    print(ev.charge)"
   ],
   "metadata": {
    "collapsed": false
   },
   "id": "f60d9ebd62fbe091",
   "execution_count": null
  },
  {
   "cell_type": "code",
   "outputs": [],
   "source": [
    "for i in range(len(test_env.evs)):\n",
    "    plt.plot(test_env.evs[i].schedule_requirement_soc)"
   ],
   "metadata": {
    "collapsed": false
   },
   "id": "7d58254a0e27239b",
   "execution_count": null
  },
  {
   "cell_type": "code",
   "outputs": [],
   "source": [
    "# Check the sum of values\n",
    "\n",
    "test_prod = pd.DataFrame({'ren_gen': np.sum([test_env.ren_generators[i].value for i in range(5)], axis=0),\n",
    "                          'sdischarge': np.sum([test_env.storages[i].discharge for i in range(3)], axis=0),\n",
    "                          'evdischarge': np.sum([test_env.evs[i].discharge for i in range(5)], axis=0),\n",
    "                          'non_ren_gen': np.sum([test_env.generators[i].value for i in range(2)], axis=0),\n",
    "                          'imports': test_env.aggregator.imports})\n",
    "\n",
    "test_cons = pd.DataFrame({'loads': np.sum([test_env.loads[i].value for i in range(5)], axis=0),\n",
    "                          'scharge': np.sum([test_env.storages[i].charge / test_env.storages[i].charge_efficiency \n",
    "                                             for i in range(3)], axis=0),\n",
    "                          'evcharge': np.sum([test_env.evs[i].charge / test_env.evs[i].charge_efficiency \n",
    "                                              for i in range(5)], axis=0),\n",
    "                          'exports': test_env.aggregator.exports})\n",
    "\n",
    "fig, axs = plt.subplots(3, 1, figsize=(10, 10))\n",
    "\n",
    "test_prod.plot(kind='area', ax=axs[0])\n",
    "test_cons.plot(kind='area', ax=axs[1])\n",
    "\n",
    "axs[2].plot(test_prod.sum(axis=1)[0:], label='prod')\n",
    "axs[2].plot(test_cons.sum(axis=1)[0:], label='cons')\n",
    "\n",
    "plt.legend()\n",
    "plt.show()"
   ],
   "metadata": {
    "collapsed": false
   },
   "id": "116e0f9e09d53659",
   "execution_count": null
  },
  {
   "cell_type": "code",
   "outputs": [],
   "source": [
    "test_prod"
   ],
   "metadata": {
    "collapsed": false
   },
   "id": "78f7d845fda12af0",
   "execution_count": null
  },
  {
   "cell_type": "code",
   "outputs": [],
   "source": [
    "test_cons"
   ],
   "metadata": {
    "collapsed": false
   },
   "id": "6867593193aead80",
   "execution_count": null
  },
  {
   "cell_type": "code",
   "outputs": [],
   "source": [
    "test_env.aggregator.imports"
   ],
   "metadata": {
    "collapsed": false
   },
   "id": "56349d9b222d4cf8",
   "execution_count": null
  },
  {
   "cell_type": "code",
   "outputs": [],
   "source": [],
   "metadata": {
    "collapsed": false
   },
   "id": "32178670952f7c66"
  }
 ],
 "metadata": {
  "kernelspec": {
   "display_name": "Python 3",
   "language": "python",
   "name": "python3"
  },
  "language_info": {
   "codemirror_mode": {
    "name": "ipython",
    "version": 2
   },
   "file_extension": ".py",
   "mimetype": "text/x-python",
   "name": "python",
   "nbconvert_exporter": "python",
   "pygments_lexer": "ipython2",
   "version": "2.7.6"
  }
 },
 "nbformat": 4,
 "nbformat_minor": 5
}

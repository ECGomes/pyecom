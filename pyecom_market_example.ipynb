{
 "cells": [
  {
   "cell_type": "code",
   "execution_count": 1,
   "metadata": {
    "collapsed": true,
    "ExecuteTime": {
     "end_time": "2023-09-29T13:35:42.198604800Z",
     "start_time": "2023-09-29T13:35:41.876218500Z"
    }
   },
   "outputs": [],
   "source": [
    "import numpy as np\n",
    "\n",
    "from src.markets import BaseParticipant, BaseItem, BaseMarket, BaseTransactionSystem, BaseAuction\n",
    "from matplotlib import pyplot as plt"
   ]
  },
  {
   "cell_type": "code",
   "execution_count": 2,
   "outputs": [],
   "source": [
    "# Define the participants\n",
    "\n",
    "# Participant 1 will act as a buyer\n",
    "participant_01 = BaseParticipant(name='p-01',\n",
    "                                 budget=20.0,\n",
    "                                 max_bid=3.0,\n",
    "                                 buy_stock=[BaseItem(identifier='power', quantity=3)],\n",
    "                                 sell_stock=[BaseItem(identifier='power', quantity=0)])\n",
    "\n",
    "# Participant 2 will act as a seller\n",
    "participant_02 = BaseParticipant(name='p-02',\n",
    "                                 budget=2.0,\n",
    "                                 max_bid=0.0,\n",
    "                                 buy_stock=[BaseItem(identifier='power', quantity=0)],\n",
    "                                 sell_stock=[BaseItem(identifier='power', quantity=3, price=0.2)])\n",
    "\n",
    "# Create a transaction system and a pricing system\n",
    "transaction_system = BaseTransactionSystem()\n",
    "pricing_system = BaseAuction(baseline_price=5.0, round_limit=5)\n",
    "\n",
    "# Create a market\n",
    "market = BaseMarket(participants=[participant_01, participant_02])\n",
    "\n",
    "# Attribute the systems to the market\n",
    "market.set_pricing_system(pricing_system)\n",
    "market.set_transaction_system(transaction_system)"
   ],
   "metadata": {
    "collapsed": false,
    "ExecuteTime": {
     "end_time": "2023-09-29T13:35:43.306785300Z",
     "start_time": "2023-09-29T13:35:43.255594700Z"
    }
   }
  },
  {
   "cell_type": "code",
   "execution_count": 3,
   "outputs": [
    {
     "name": "stdout",
     "output_type": "stream",
     "text": [
      "participant 1 buy stock:  3\n",
      "participant 1 sell stock:  0\n",
      "participant 2 buy stock:  0\n",
      "participant 2 sell stock:  3\n"
     ]
    }
   ],
   "source": [
    "# Some sanity checks before running the market\n",
    "\n",
    "print('participant 1 buy stock: ', participant_01.get_stock_quantity(participant_01.buy_stock,\n",
    "                                                                     BaseItem(identifier='power')))\n",
    "print('participant 1 sell stock: ', participant_01.get_stock_quantity(participant_01.sell_stock,\n",
    "                                                                      BaseItem(identifier='power')))\n",
    "\n",
    "print('participant 2 buy stock: ', participant_02.get_stock_quantity(participant_02.buy_stock,\n",
    "                                                                     BaseItem(identifier='power')))\n",
    "print('participant 2 sell stock: ', participant_02.get_stock_quantity(participant_02.sell_stock,\n",
    "                                                                      BaseItem(identifier='power')))"
   ],
   "metadata": {
    "collapsed": false,
    "ExecuteTime": {
     "end_time": "2023-09-29T13:35:44.196887500Z",
     "start_time": "2023-09-29T13:35:44.138346400Z"
    }
   }
  },
  {
   "cell_type": "code",
   "execution_count": 4,
   "outputs": [
    {
     "name": "stdout",
     "output_type": "stream",
     "text": [
      "buyers:  1\n",
      "sellers:  1\n"
     ]
    }
   ],
   "source": [
    "# Check if we have the correct buyers and sellers\n",
    "print('buyers: ', len(market.get_buyers(BaseItem(identifier='power'))))\n",
    "print('sellers: ', len(market.get_sellers(BaseItem(identifier='power'))))"
   ],
   "metadata": {
    "collapsed": false,
    "ExecuteTime": {
     "end_time": "2023-09-29T13:35:45.772515500Z",
     "start_time": "2023-09-29T13:35:45.696594600Z"
    }
   }
  },
  {
   "cell_type": "code",
   "execution_count": 5,
   "outputs": [
    {
     "name": "stdout",
     "output_type": "stream",
     "text": [
      "Current price: 0.2\n",
      "Possible buyers: 1\n",
      "0.2\n",
      "p-01 bought 3 of power from p-02 for 0.6000000000000001 at 0.2 per unit\n",
      "No buyers or sellers found\n"
     ]
    }
   ],
   "source": [
    "# Run the market\n",
    "market.iterate(BaseItem(identifier='power', quantity=0, price=5.0))"
   ],
   "metadata": {
    "collapsed": false,
    "ExecuteTime": {
     "end_time": "2023-09-29T13:35:46.665683200Z",
     "start_time": "2023-09-29T13:35:46.607902100Z"
    }
   }
  },
  {
   "cell_type": "code",
   "execution_count": 6,
   "outputs": [
    {
     "data": {
      "text/plain": "[p-01 bought 3 of power from p-02 for 0.6000000000000001 at 0.2 per unit]"
     },
     "execution_count": 6,
     "metadata": {},
     "output_type": "execute_result"
    }
   ],
   "source": [
    "# Check completed transaction\n",
    "market.transaction_system.completed_transactions"
   ],
   "metadata": {
    "collapsed": false,
    "ExecuteTime": {
     "end_time": "2023-09-29T13:35:47.337359Z",
     "start_time": "2023-09-29T13:35:47.329802700Z"
    }
   }
  },
  {
   "cell_type": "code",
   "execution_count": 7,
   "outputs": [
    {
     "data": {
      "text/plain": "0.2"
     },
     "execution_count": 7,
     "metadata": {},
     "output_type": "execute_result"
    }
   ],
   "source": [
    "market.participants[1].get_stock_price(market.participants[1].sell_stock, BaseItem(identifier='power'))"
   ],
   "metadata": {
    "collapsed": false,
    "ExecuteTime": {
     "end_time": "2023-09-29T13:35:48.021924700Z",
     "start_time": "2023-09-29T13:35:48.014763Z"
    }
   }
  },
  {
   "cell_type": "code",
   "execution_count": 8,
   "outputs": [],
   "source": [
    "# Run experiment with multiple buyers and one seller\n",
    "\n",
    "# Define the participants\n",
    "# Participant 1 will act as a buyer\n",
    "participant_01 = BaseParticipant(name='p-01',\n",
    "                                 budget=20.0,\n",
    "                                 max_bid=3.0,\n",
    "                                 buy_stock=[BaseItem(identifier='power', quantity=3)],\n",
    "                                 sell_stock=[BaseItem(identifier='power', quantity=0)])\n",
    "\n",
    "# Participant 2 will act as a buyer\n",
    "participant_02 = BaseParticipant(name='p-02',\n",
    "                                 budget=5.0,\n",
    "                                 max_bid=2.0,\n",
    "                                 buy_stock=[BaseItem(identifier='power', quantity=3)],\n",
    "                                 sell_stock=[BaseItem(identifier='power', quantity=0)])\n",
    "\n",
    "# Participant 3 will act as a buyer\n",
    "participant_03 = BaseParticipant(name='p-03',\n",
    "                                 budget=6.0,\n",
    "                                 max_bid=3.0,\n",
    "                                 buy_stock=[BaseItem(identifier='power', quantity=3)],\n",
    "                                 sell_stock=[BaseItem(identifier='power', quantity=0)])\n",
    "\n",
    "# Participant 4 will act as a seller\n",
    "participant_04 = BaseParticipant(name='p-04',\n",
    "                                 budget=4.0,\n",
    "                                 max_bid=2.0,\n",
    "                                 buy_stock=[BaseItem(identifier='power', quantity=0)],\n",
    "                                 sell_stock=[BaseItem(identifier='power', quantity=11, price=0.2)])"
   ],
   "metadata": {
    "collapsed": false,
    "ExecuteTime": {
     "end_time": "2023-09-29T13:35:48.601308Z",
     "start_time": "2023-09-29T13:35:48.591060600Z"
    }
   }
  },
  {
   "cell_type": "code",
   "execution_count": 9,
   "outputs": [],
   "source": [
    "# Create a transaction system and a pricing system\n",
    "transaction_system = BaseTransactionSystem()\n",
    "pricing_system = BaseAuction(baseline_price=5.0)\n",
    "\n",
    "# Create a market\n",
    "market = BaseMarket(participants=[participant_01, participant_02, participant_03, participant_04])\n",
    "\n",
    "# Attribute the systems to the market\n",
    "market.set_pricing_system(pricing_system)\n",
    "market.set_transaction_system(transaction_system)"
   ],
   "metadata": {
    "collapsed": false,
    "ExecuteTime": {
     "end_time": "2023-09-29T13:35:49.173458600Z",
     "start_time": "2023-09-29T13:35:49.168954500Z"
    }
   }
  },
  {
   "cell_type": "code",
   "execution_count": 10,
   "outputs": [
    {
     "name": "stdout",
     "output_type": "stream",
     "text": [
      "Current price: 0.2\n",
      "Possible buyers: 3\n",
      "Current price: 0.30000000000000004\n",
      "Possible buyers: 3\n",
      "Current price: 0.4\n",
      "Possible buyers: 3\n",
      "Current price: 0.5\n",
      "Possible buyers: 3\n",
      "Current price: 0.6\n",
      "Possible buyers: 3\n",
      "0.7\n",
      "p-01 bought 3 of power from p-04 for 2.0999999999999996 at 0.7 per unit\n",
      "Current price: 0.2\n",
      "Possible buyers: 2\n",
      "Current price: 0.30000000000000004\n",
      "Possible buyers: 2\n",
      "Current price: 0.4\n",
      "Possible buyers: 2\n",
      "Current price: 0.5\n",
      "Possible buyers: 2\n",
      "Current price: 0.6\n",
      "Possible buyers: 2\n",
      "0.7\n",
      "p-02 bought 3 of power from p-04 for 2.0999999999999996 at 0.7 per unit\n",
      "Current price: 0.2\n",
      "Possible buyers: 1\n",
      "0.2\n",
      "p-03 bought 3 of power from p-04 for 0.6000000000000001 at 0.2 per unit\n",
      "No buyers or sellers found\n"
     ]
    }
   ],
   "source": [
    "# Run the market\n",
    "market.iterate(BaseItem(identifier='power'))"
   ],
   "metadata": {
    "collapsed": false,
    "ExecuteTime": {
     "end_time": "2023-09-29T13:35:49.699481300Z",
     "start_time": "2023-09-29T13:35:49.688964Z"
    }
   }
  },
  {
   "cell_type": "code",
   "execution_count": 11,
   "outputs": [
    {
     "data": {
      "text/plain": "[p-01 bought 3 of power from p-04 for 2.0999999999999996 at 0.7 per unit,\n p-02 bought 3 of power from p-04 for 2.0999999999999996 at 0.7 per unit,\n p-03 bought 3 of power from p-04 for 0.6000000000000001 at 0.2 per unit]"
     },
     "execution_count": 11,
     "metadata": {},
     "output_type": "execute_result"
    }
   ],
   "source": [
    "# Check the completed transaction\n",
    "market.transaction_system.completed_transactions"
   ],
   "metadata": {
    "collapsed": false,
    "ExecuteTime": {
     "end_time": "2023-09-29T13:35:50.493062600Z",
     "start_time": "2023-09-29T13:35:50.486752700Z"
    }
   }
  },
  {
   "cell_type": "code",
   "execution_count": 12,
   "outputs": [
    {
     "data": {
      "text/plain": "0"
     },
     "execution_count": 12,
     "metadata": {},
     "output_type": "execute_result"
    }
   ],
   "source": [
    "# Print the remaining buy order of the participant 2\n",
    "market.participants[1].get_stock_quantity(market.participants[1].buy_stock, BaseItem(identifier='power'))"
   ],
   "metadata": {
    "collapsed": false,
    "ExecuteTime": {
     "end_time": "2023-09-29T13:35:50.990945400Z",
     "start_time": "2023-09-29T13:35:50.978280800Z"
    }
   }
  },
  {
   "cell_type": "code",
   "execution_count": 13,
   "outputs": [
    {
     "name": "stdout",
     "output_type": "stream",
     "text": [
      "seller stock:  2\n"
     ]
    }
   ],
   "source": [
    "# Check the selling stock of the participant 4\n",
    "print('seller stock: ', participant_04.get_stock_quantity(participant_04.sell_stock,\n",
    "                                                          BaseItem(identifier='power')))"
   ],
   "metadata": {
    "collapsed": false,
    "ExecuteTime": {
     "end_time": "2023-09-29T13:35:51.491131600Z",
     "start_time": "2023-09-29T13:35:51.461341600Z"
    }
   }
  },
  {
   "cell_type": "code",
   "execution_count": 14,
   "outputs": [
    {
     "name": "stdout",
     "output_type": "stream",
     "text": [
      "No buyers and/or sellers found.\n"
     ]
    }
   ],
   "source": [
    "# Run again the market to solve possible remaining transactions\n",
    "market.iterate(BaseItem(identifier='power'))"
   ],
   "metadata": {
    "collapsed": false,
    "ExecuteTime": {
     "end_time": "2023-09-29T13:35:52.014094Z",
     "start_time": "2023-09-29T13:35:52.005341200Z"
    }
   }
  },
  {
   "cell_type": "code",
   "execution_count": null,
   "outputs": [],
   "source": [],
   "metadata": {
    "collapsed": false
   }
  }
 ],
 "metadata": {
  "kernelspec": {
   "display_name": "Python 3",
   "language": "python",
   "name": "python3"
  },
  "language_info": {
   "codemirror_mode": {
    "name": "ipython",
    "version": 2
   },
   "file_extension": ".py",
   "mimetype": "text/x-python",
   "name": "python",
   "nbconvert_exporter": "python",
   "pygments_lexer": "ipython2",
   "version": "2.7.6"
  }
 },
 "nbformat": 4,
 "nbformat_minor": 0
}
